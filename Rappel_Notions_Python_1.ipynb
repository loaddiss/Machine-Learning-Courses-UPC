{
 "cells": [
  {
   "cell_type": "markdown",
   "id": "702471d7",
   "metadata": {},
   "source": [
    "# <span style=\"color:#0000000\">RAPPEL SUR LE LANGAGE DE PROGRAMMATION PYTHON (Partie 1)</span>"
   ]
  },
  {
   "cell_type": "markdown",
   "id": "ba74ba54",
   "metadata": {},
   "source": [
    "Python est un langage de programmation interprété, multiplateforme et multiparadigme. Il est apprécié pour sa syntaxe simple et claire, sa productivité élevée, sa grande bibliothèque standard et sa communauté active. Il est utilisé dans de nombreux domaines, tels que le développement web, le calcul scientifique, l’intelligence artificielle, le machine learning et en DataScience.\n",
    "\n",
    "Python est un langage interprété, ce qui peut vous faire gagner un temps considérable pendant le développement de vos programmes car aucune compilation ni édition de liens n'est nécessaire. L'interpréteur peut être utilisé de manière interactive, pour vous permettre d'expérimenter les fonctionnalités du langage, d'écrire des programmes jetables ou de tester des fonctions lors d'un développement incrémental. C'est aussi une calculatrice de bureau bien pratique."
   ]
  },
  {
   "cell_type": "markdown",
   "id": "bf5c6960",
   "metadata": {},
   "source": [
    "<h1><strong>1. Travailler avec des nombres et des règles logiques</strong></h1>"
   ]
  },
  {
   "cell_type": "markdown",
   "id": "bfa4cd10",
   "metadata": {},
   "source": [
    "Interagir avec des algorithmes, c’est manier différentes sortes de\n",
    "données, mais surtout des nombres. On utilise aussi des valeurs\n",
    "logiques pour programmer des décisions concernant les données\n",
    "utilisées. Ainsi, par exemple, il se peut que vous ayez besoin de\n",
    "savoir si deux valeurs sont égales, ou si une valeur est supérieure à\n",
    "une autre. Python prend en charge les types de valeurs numériques et\n",
    "logiques suivants :"
   ]
  },
  {
   "cell_type": "markdown",
   "id": "83420410",
   "metadata": {},
   "source": [
    "> Tout nombre sans décimale est un entier. La valeur 1, par\n",
    "exemple, est un entier, mais la valeur 1,0 qui comporte une\n",
    "décimale (bien qu’elle soit nulle) n’est pas considérée ici\n",
    "comme un entier. Les entiers sont représentés par le type de\n",
    "donnée <strong><em>int</em></strong>.\n",
    "\n",
    "> Tout nombre comportant une partie décimale est une valeur à\n",
    "virgule flottante. Par exemple, 1,0 comporte une décimale. Les nombres à virgule flottante sont représentés par le type de\n",
    "donnée <strong><em>float</em></strong>.\n",
    "\n",
    "> Les arguments logiques fonctionnent grâce à des valeurs\n",
    "booléennes, du nom de George Boole. Dans Python, pour les\n",
    "valeurs booléennes, on utilise le type bool. Une variable de ce\n",
    "type ne peut prendre que deux valeurs, <strong><em>True et False</em></strong> (c’est-à-dire Vrai et Faux). Pour affecter une valeur à une variable, vous pouvez utiliser les mots-clés True et False, ou bien créer\n",
    "une expression définissant une idée logique équivalente à True\n",
    "ou à False. Ainsi, par exemple, si vous écrivez myBool\n",
    "= 1 > 2, cette expression est équivalente à False car 1 n’est\n",
    "bien évidemment pas supérieur à 2.\n"
   ]
  },
  {
   "cell_type": "markdown",
   "id": "be5aacba",
   "metadata": {},
   "source": [
    "<h2><strong>1.1. Procéder à des affectations de\n",
    "variables</strong></h2>\n"
   ]
  },
  {
   "cell_type": "markdown",
   "id": "3e9f1d8c",
   "metadata": {},
   "source": [
    "> Quand vous utilisez des applications, vous stockez l’information dans\n",
    "des variables. Une variable est comme une boîte de rangement.\n",
    "Chaque fois que vous voulez utiliser l’information, c’est en utilisant\n",
    "une variable que vous y accédez. Quand vous voulez stocker une\n",
    "nouvelle information, vous la faites entrer dans une variable.\n",
    "Modifier une information, c’est accéder tout d’abord à la variable\n",
    "concernée, puis stocker la nouvelle valeur dans cette variable."
   ]
  },
  {
   "cell_type": "markdown",
   "id": "03d97114",
   "metadata": {},
   "source": [
    "<strong>'=' : Affecte la valeur de l’opérande droit dans\n",
    "l’opérande gauche.</strong>"
   ]
  },
  {
   "cell_type": "code",
   "execution_count": 34,
   "id": "a4f03bc2",
   "metadata": {},
   "outputs": [],
   "source": [
    "MaVar = 5"
   ]
  },
  {
   "cell_type": "markdown",
   "id": "cc47cd1c",
   "metadata": {},
   "source": [
    "<strong>'+=' : Ajoute la valeur de l’opérande droit à\n",
    "l’opérande gauche et place le résultat dans\n",
    "l’opérande gauche.\n",
    "</strong>"
   ]
  },
  {
   "cell_type": "code",
   "execution_count": 35,
   "id": "818dab7c",
   "metadata": {},
   "outputs": [
    {
     "name": "stdout",
     "output_type": "stream",
     "text": [
      "7\n"
     ]
    }
   ],
   "source": [
    "MaVar += 2\n",
    "print(MaVar)"
   ]
  },
  {
   "cell_type": "markdown",
   "id": "91d6bc6c",
   "metadata": {},
   "source": [
    "<strong>'-=' : Soustrait la valeur de l’opérande droit à\n",
    "l’opérande gauche et place le résultat dans\n",
    "l’opérande gauche.\n",
    "</strong>"
   ]
  },
  {
   "cell_type": "code",
   "execution_count": 36,
   "id": "f6bf4461",
   "metadata": {},
   "outputs": [
    {
     "name": "stdout",
     "output_type": "stream",
     "text": [
      "4\n"
     ]
    }
   ],
   "source": [
    "MaVar -= 3\n",
    "print(MaVar)"
   ]
  },
  {
   "cell_type": "markdown",
   "id": "055a4c41",
   "metadata": {},
   "source": [
    "<strong>'*=' : Multiplie la valeur de l’opérande droit par\n",
    "la valeur de l’opérande gauche et place le\n",
    "résultat dans l’opérande gauche.</strong>"
   ]
  },
  {
   "cell_type": "code",
   "execution_count": 37,
   "id": "1642b44a",
   "metadata": {},
   "outputs": [
    {
     "name": "stdout",
     "output_type": "stream",
     "text": [
      "12\n"
     ]
    }
   ],
   "source": [
    "MaVar *= 3\n",
    "print(MaVar)"
   ]
  },
  {
   "cell_type": "markdown",
   "id": "8ec30f86",
   "metadata": {},
   "source": [
    "<strong>'/=' : Divise la valeur de l’opérande gauche par la\n",
    "valeur de l’opérande droit et place le\n",
    "résultat dans l’opérande gauche.</strong>"
   ]
  },
  {
   "cell_type": "code",
   "execution_count": 38,
   "id": "4f2553c1",
   "metadata": {},
   "outputs": [
    {
     "name": "stdout",
     "output_type": "stream",
     "text": [
      "6.0\n"
     ]
    }
   ],
   "source": [
    "MaVar /= 2\n",
    "print(MaVar)"
   ]
  },
  {
   "cell_type": "markdown",
   "id": "fce9d746",
   "metadata": {},
   "source": [
    "<strong>'%=' : Divise la valeur de l’opérande gauche par la\n",
    "valeur de l’opérande droit et place le reste\n",
    "dans l’opérande gauche.</strong>"
   ]
  },
  {
   "cell_type": "code",
   "execution_count": 39,
   "id": "126b03ff",
   "metadata": {},
   "outputs": [
    {
     "name": "stdout",
     "output_type": "stream",
     "text": [
      "0.0\n"
     ]
    }
   ],
   "source": [
    "MaVar %= 2\n",
    "print(MaVar)"
   ]
  },
  {
   "cell_type": "markdown",
   "id": "994f1437",
   "metadata": {},
   "source": [
    "<strong>'**=' : Détermine la valeur exponentielle de\n",
    "l’opérande gauche quand elle est élevée à\n",
    "une puissance égale à la valeur de\n",
    "l’opérande droit et place le reste dans\n",
    "l’opérande gauche.\n",
    "</strong>"
   ]
  },
  {
   "cell_type": "code",
   "execution_count": 45,
   "id": "bc015a8d",
   "metadata": {},
   "outputs": [
    {
     "name": "stdout",
     "output_type": "stream",
     "text": [
      "36\n"
     ]
    }
   ],
   "source": [
    "MaVar = 6\n",
    "MaVar **= 2\n",
    "print(MaVar)"
   ]
  },
  {
   "cell_type": "markdown",
   "id": "a070b4a1",
   "metadata": {},
   "source": [
    "<strong>'//=' : Divise la valeur de l’opérande gauche par la\n",
    "valeur de l’opérande droit et place le\n",
    "résultat entier dans l’opérande gauche.\n",
    "</strong>"
   ]
  },
  {
   "cell_type": "code",
   "execution_count": 46,
   "id": "f06a2723",
   "metadata": {},
   "outputs": [
    {
     "name": "stdout",
     "output_type": "stream",
     "text": [
      "12\n"
     ]
    }
   ],
   "source": [
    "MaVar //= 3 \n",
    "print(MaVar)"
   ]
  },
  {
   "cell_type": "markdown",
   "id": "114c4a95",
   "metadata": {},
   "source": [
    "<h2><strong>1.2. Un peu d’arithmétique</strong></h2>"
   ]
  },
  {
   "cell_type": "markdown",
   "id": "a2635b19",
   "metadata": {},
   "source": [
    "> Stocker l’information dans des variables permet de la rendre\n",
    "facilement accessible. Cependant, de façon pratique, l’utilisation\n",
    "d’une variable consiste généralement à effectuer sur cette variable\n",
    "une opération arithmétique. Python supporte les opérateurs\n",
    "arithmétiques couramment utilisés dans les calculs effectués à la main"
   ]
  },
  {
   "cell_type": "markdown",
   "id": "f09f0cd9",
   "metadata": {},
   "source": [
    "<strong>'+' : Additionne deux valeurs.</strong>"
   ]
  },
  {
   "cell_type": "code",
   "execution_count": 71,
   "id": "48d71622",
   "metadata": {},
   "outputs": [
    {
     "name": "stdout",
     "output_type": "stream",
     "text": [
      "14\n"
     ]
    }
   ],
   "source": [
    "MaVar = 5+9\n",
    "print(MaVar)"
   ]
  },
  {
   "cell_type": "markdown",
   "id": "0d9d1552",
   "metadata": {},
   "source": [
    "<strong>' - ' : Soustrait l’opérande droit de l’opérande gauche. </strong>"
   ]
  },
  {
   "cell_type": "code",
   "execution_count": 72,
   "id": "151e67e3",
   "metadata": {},
   "outputs": [
    {
     "name": "stdout",
     "output_type": "stream",
     "text": [
      "3\n"
     ]
    }
   ],
   "source": [
    "MaVar = 7-4\n",
    "print(MaVar)"
   ]
  },
  {
   "cell_type": "markdown",
   "id": "af2a1ae2",
   "metadata": {},
   "source": [
    "<strong>' * ' : Multiplie l’opérande droit par l’opérande gauche.</strong>"
   ]
  },
  {
   "cell_type": "code",
   "execution_count": 73,
   "id": "7554f883",
   "metadata": {},
   "outputs": [
    {
     "name": "stdout",
     "output_type": "stream",
     "text": [
      "6\n"
     ]
    }
   ],
   "source": [
    "MaVar = 3*2\n",
    "print(MaVar)"
   ]
  },
  {
   "cell_type": "markdown",
   "id": "fad0b00b",
   "metadata": {},
   "source": [
    "<strong>' / ' : Divise l’opérande gauche par l’opérande droit. </strong>"
   ]
  },
  {
   "cell_type": "code",
   "execution_count": 74,
   "id": "12a54054",
   "metadata": {},
   "outputs": [
    {
     "name": "stdout",
     "output_type": "stream",
     "text": [
      "8.0\n"
     ]
    }
   ],
   "source": [
    "MaVar = 16/2\n",
    "print(MaVar)"
   ]
  },
  {
   "cell_type": "markdown",
   "id": "34de66ee",
   "metadata": {},
   "source": [
    "<strong>' / ' :  Divise l’opérande gauche par l’opérande droit et\n",
    "donne le reste. </strong>"
   ]
  },
  {
   "cell_type": "code",
   "execution_count": 79,
   "id": "cd57dc25",
   "metadata": {},
   "outputs": [
    {
     "name": "stdout",
     "output_type": "stream",
     "text": [
      "2\n"
     ]
    }
   ],
   "source": [
    "MaVar = 18%4\n",
    "print(MaVar)"
   ]
  },
  {
   "cell_type": "markdown",
   "id": "e8613b1c",
   "metadata": {},
   "source": [
    "<strong>' ** ' :  Calcule la valeur exponentielle de l’opérande droit\n",
    "par l’opérande gauche.\n",
    " </strong>"
   ]
  },
  {
   "cell_type": "code",
   "execution_count": 80,
   "id": "39ecdaaf",
   "metadata": {},
   "outputs": [
    {
     "name": "stdout",
     "output_type": "stream",
     "text": [
      "27\n"
     ]
    }
   ],
   "source": [
    "MaVar = 3**3\n",
    "print(MaVar)"
   ]
  },
  {
   "cell_type": "markdown",
   "id": "46420bfe",
   "metadata": {},
   "source": [
    "<strong>' ** ' :  Effectue la division, entière, consistant à diviser\n",
    "l’opérande gauche par l’opérande droit pour ne\n",
    "produire que la partie entière.\n",
    " </strong>"
   ]
  },
  {
   "cell_type": "code",
   "execution_count": 82,
   "id": "e200273a",
   "metadata": {},
   "outputs": [
    {
     "name": "stdout",
     "output_type": "stream",
     "text": [
      "6\n"
     ]
    }
   ],
   "source": [
    "MaVar = 19//3\n",
    "print(MaVar)"
   ]
  },
  {
   "cell_type": "markdown",
   "id": "52ed0464",
   "metadata": {},
   "source": [
    "<h2><strong>1.3. Comparer les données à l’aide\n",
    "d’expressions booléennes</strong></h2>"
   ]
  },
  {
   "cell_type": "markdown",
   "id": "32bff1d6",
   "metadata": {},
   "source": [
    "<strong>'  ==  ' :  Détermine si deux valeurs sont égales. </strong> \n",
    "\n",
    "> Il convient\n",
    "de remarquer que cet opérateur relationnel utilise\n",
    "deux signes égal. Un certain nombre de\n",
    "développeurs font souvent l’erreur de n’utiliser\n",
    "qu’un signe égal, avec pour résultat que la valeur\n",
    "d’un opérande est affectée à un autre opérande."
   ]
  },
  {
   "cell_type": "code",
   "execution_count": 84,
   "id": "013c461e",
   "metadata": {},
   "outputs": [
    {
     "name": "stdout",
     "output_type": "stream",
     "text": [
      "False\n"
     ]
    }
   ],
   "source": [
    "print(4==8)"
   ]
  },
  {
   "cell_type": "markdown",
   "id": "f1d3bf13",
   "metadata": {},
   "source": [
    "<strong>'  !=  ' :  Détermine si deux valeurs sont différentes.\n",
    "    \n",
    "> Certaines versions plus anciennes de Python vous\n",
    "permettaient d’utiliser l’opérateur <> à la place de\n",
    "l’opérateur ! =, mais dans les versions actuelles,\n",
    "utiliser l’opérateur <> entraîne une erreur.\n",
    " </strong> "
   ]
  },
  {
   "cell_type": "code",
   "execution_count": 85,
   "id": "aa496214",
   "metadata": {},
   "outputs": [
    {
     "name": "stdout",
     "output_type": "stream",
     "text": [
      "True\n"
     ]
    }
   ],
   "source": [
    "print(4!=8)"
   ]
  },
  {
   "cell_type": "markdown",
   "id": "c70e3504",
   "metadata": {},
   "source": [
    "<strong>'  >  ' :  Vérifie que la valeur de l’opérande de gauche est\n",
    "supérieure à la valeur de l’opérande de droite.</strong> "
   ]
  },
  {
   "cell_type": "code",
   "execution_count": 88,
   "id": "e95c0281",
   "metadata": {},
   "outputs": [
    {
     "name": "stdout",
     "output_type": "stream",
     "text": [
      "True\n"
     ]
    }
   ],
   "source": [
    "print(4>2)"
   ]
  },
  {
   "cell_type": "markdown",
   "id": "d85aeadf",
   "metadata": {},
   "source": [
    "<strong>'  >  ' :  Vérifie que la valeur de l’opérande de droite est\n",
    "supérieure à la valeur de l’opérande de gauche.</strong> "
   ]
  },
  {
   "cell_type": "code",
   "execution_count": 89,
   "id": "628b850e",
   "metadata": {},
   "outputs": [
    {
     "name": "stdout",
     "output_type": "stream",
     "text": [
      "False\n"
     ]
    }
   ],
   "source": [
    "print(4<2)"
   ]
  },
  {
   "cell_type": "markdown",
   "id": "67946e3a",
   "metadata": {},
   "source": [
    "<strong>'  >=  ' :  Vérifie que la valeur de l’opérande de gauche est\n",
    "supérieure ou égale à la valeur de l’opérande de\n",
    "droite.\n",
    "</strong> "
   ]
  },
  {
   "cell_type": "code",
   "execution_count": 90,
   "id": "60cdbdff",
   "metadata": {},
   "outputs": [
    {
     "name": "stdout",
     "output_type": "stream",
     "text": [
      "True\n"
     ]
    }
   ],
   "source": [
    "print(4>=1)"
   ]
  },
  {
   "cell_type": "markdown",
   "id": "b8e9d592",
   "metadata": {},
   "source": [
    "<strong>'  <= ' :  Vérifie que la valeur de l’opérande de droite est\n",
    "supérieure ou égale à la valeur de l’opérande de\n",
    "gauche.\n",
    "</strong> "
   ]
  },
  {
   "cell_type": "code",
   "execution_count": 92,
   "id": "8ca63e2e",
   "metadata": {},
   "outputs": [
    {
     "name": "stdout",
     "output_type": "stream",
     "text": [
      "False\n"
     ]
    }
   ],
   "source": [
    "print(4<=1)"
   ]
  },
  {
   "cell_type": "markdown",
   "id": "b9fc9769",
   "metadata": {},
   "source": [
    "> Un opérateur relationnel ne peut pas toujours effectuer une\n",
    "comparaison suffisamment précise entre deux valeurs. Ainsi, par\n",
    "exemple, il est parfois nécessaire de tester une condition impliquant\n",
    "deux comparaisons distinctes, comme MonAge > 40 et MaTaille\n",
    "< 74. Lorsqu’il faut ajouter des conditions à la comparaison, un\n",
    "opérateur logique comme ceux qui aui suivent est nécessaire.\n"
   ]
  },
  {
   "cell_type": "markdown",
   "id": "eb1a7f40",
   "metadata": {},
   "source": [
    "<strong>'  and  ' :  Détermine si les deux opérandes sont True.\n",
    "</strong> "
   ]
  },
  {
   "cell_type": "code",
   "execution_count": 95,
   "id": "7a9df5c1",
   "metadata": {},
   "outputs": [
    {
     "name": "stdout",
     "output_type": "stream",
     "text": [
      "True\n",
      "False\n",
      "False\n",
      "False\n"
     ]
    }
   ],
   "source": [
    "print(True and True)\n",
    "print(True and False)\n",
    "print(False and True)\n",
    "print(False and False)"
   ]
  },
  {
   "cell_type": "markdown",
   "id": "dae154a2",
   "metadata": {},
   "source": [
    "<strong>'  or  ' :  Détermine si un des deux opérandes est True.\n",
    "</strong> "
   ]
  },
  {
   "cell_type": "code",
   "execution_count": 96,
   "id": "38bdecb7",
   "metadata": {},
   "outputs": [
    {
     "name": "stdout",
     "output_type": "stream",
     "text": [
      "True\n",
      "True\n",
      "True\n",
      "False\n"
     ]
    }
   ],
   "source": [
    "print(True or True)\n",
    "print(True or False)\n",
    "print(False or True)\n",
    "print(False or False)"
   ]
  },
  {
   "cell_type": "markdown",
   "id": "7d9735e0",
   "metadata": {},
   "source": [
    "<strong>'  not  ' :  Inverse la valeur d’un unique opérande. Une\n",
    "valeur True devient False et une valeur False\n",
    "devient True.\n",
    "</strong> "
   ]
  },
  {
   "cell_type": "markdown",
   "id": "70aa9644",
   "metadata": {},
   "source": [
    "<h1><strong>2. Stocker des données à l’aide\n",
    "d’ensembles, de listes, de tuples et des dictionnaires\n",
    "</strong></h1>"
   ]
  },
  {
   "cell_type": "markdown",
   "id": "2077f561",
   "metadata": {},
   "source": [
    "L’algorithmique est avant tout affaire de données. Python offre tout\n",
    "un ensemble de méthodes pour stocker les données en mémoire.\n",
    "Chaque méthode a ses avantages et ses inconvénients. Pour chaque\n",
    "besoin particulier, il est important de choisir la méthode la plus\n",
    "appropriée. Les sections suivantes présentent trois techniques\n",
    "couramment utilisées dans le domaine de la science des données pour\n",
    "stocker l’information."
   ]
  },
  {
   "cell_type": "markdown",
   "id": "383582a8",
   "metadata": {},
   "source": [
    "<h2><strong>2.1. Créer des ensembles</strong></h2>"
   ]
  },
  {
   "cell_type": "markdown",
   "id": "1aee833f",
   "metadata": {},
   "source": [
    "> Pour la plupart d’entre nous, nous avons déjà manié des ensembles à\n",
    "un moment ou à un autre de notre scolarité, pour créer des listes\n",
    "d’éléments qui vont ensemble. Ensuite, ces listes ont fait l’objet de\n",
    "manipulations à l’aide d’opérations mathématiques comme\n",
    "l’intersection, l’union, la différence et la différence symétrique.\n",
    "Lesensembles sont le meilleur choix à faire quand il s’agit de procéder à\n",
    "des tests d’appartenance ou de supprimer des doublons dans une liste.\n",
    "En revanche, l’utilisation des ensembles ne permet pas d’exécuter des\n",
    "tâches séquentielles comme l’indexation ou le découpage."
   ]
  },
  {
   "cell_type": "code",
   "execution_count": 105,
   "id": "af98d4f4",
   "metadata": {},
   "outputs": [
    {
     "name": "stdout",
     "output_type": "stream",
     "text": [
      "L'Union de l'ensemble 1 :  {'Blue', 'Vert', 'Rouge', 'Jaune'}  et l'ensemble 2 :  {1, 2, 3, 4} donne :  {1, 2, 3, 4, 'Jaune', 'Blue', 'Vert', 'Rouge'}\n",
      "L'intersection de l'ensemble 1 :  {'Blue', 'Vert', 'Rouge', 'Jaune'}  et l'ensemble 2 :  {1, 2, 3, 4} donne :  set()\n",
      "La différence de l'ensemble 1 :  {'Blue', 'Vert', 'Rouge', 'Jaune'}  et l'ensemble 2 :  {1, 2, 3, 4} donne :  {'Blue', 'Vert', 'Rouge', 'Jaune'}\n"
     ]
    }
   ],
   "source": [
    "ensemble_1 = set(['Rouge','Blue','Vert','Jaune'])\n",
    "ensemble_2 = set([1,2,3,4])\n",
    "ensemble_3 = ensemble_1.union(ensemble_2)\n",
    "ensemble_4 = ensemble_1.intersection(ensemble_2)\n",
    "ensemble_5 = ensemble_1.difference(ensemble_2)\n",
    "\n",
    "print(\"L'Union de l'ensemble 1 : \",ensemble_1,\" et l'ensemble 2 : \",ensemble_2,'donne : ',ensemble_3)\n",
    "print(\"L'intersection de l'ensemble 1 : \",ensemble_1,\" et l'ensemble 2 : \",ensemble_2,'donne : ',ensemble_4)\n",
    "print(\"La différence de l'ensemble 1 : \",ensemble_1,\" et l'ensemble 2 : \",ensemble_2,'donne : ',ensemble_5)"
   ]
  },
  {
   "cell_type": "markdown",
   "id": "189102bd",
   "metadata": {},
   "source": [
    "<h2><strong>2.2. Créer et Manipuler les Chaines</strong></h2>"
   ]
  },
  {
   "cell_type": "markdown",
   "id": "344c893b",
   "metadata": {},
   "source": [
    "> Une chaîne de caractères est un type de donnée qui représente une suite de caractères, comme du texte ou du code.\n",
    "\n",
    "> Parmi tous les types de données, les chaînes sont ce que les humains\n",
    "comprennent le plus facilement, alors que les ordinateurs ne les\n",
    "comprennent pas du tout. Une chaîne est simplement un\n",
    "regroupement quelconque de caractères placé entre guillemets. Ainsi,\n",
    "par exemple, myString = \"Python est un langage épatant\" affecte une\n",
    "chaîne de caractères à la variable myString.\n",
    "\n",
    "> La principale raison d’utiliser des chaînes quand on travaille sur les\n",
    "algorithmes est de faciliter les interactions des utilisateurs, soit sous\n",
    "forme de requêtes en guise d’input, soit comme moyen de rendre\n",
    "l’output plus facile à comprendre. Vous pouvez aussi procéder à une\n",
    "analyse des chaînes de données, mais l’ordinateur n’a pas besoin que\n",
    "des chaînes interviennent dans la succession des étapes de\n",
    "l’algorithme pour aboutir à une solution au problème étudié. En\n",
    "réalité, l’ordinateur ne connaît pas les lettres."
   ]
  },
  {
   "cell_type": "markdown",
   "id": "485fd6d7",
   "metadata": {},
   "source": [
    "Les données textuelles en Python sont manipulées avec des objets **str** ou strings. Les chaînes sont des séquences immuables. Les chaînes littérales peuvent être écrites de différentes manières :\n",
    "\n",
    "<ol>\n",
    " <li>entre guillemets simples : 'cela autorise les \"guillemets anglais\"' ;</li>\n",
    " <li>entre guillemets (anglais) : \"cela autorise les guillemets 'simples'\" ;</li>\n",
    " <li>entre guillemets triples : '''Trois guillemets simples''', \"\"\"Trois guillemets anglais\"\"\".</li>\n",
    "</ol>\n",
    "\n",
    "Les chaînes entre guillemets triples peuvent couvrir plusieurs lignes, tous les espaces associées sont alors incluses dans la chaîne littérale."
   ]
  },
  {
   "cell_type": "code",
   "execution_count": 108,
   "id": "6ce41b33",
   "metadata": {},
   "outputs": [
    {
     "name": "stdout",
     "output_type": "stream",
     "text": [
      "Je suis une chaîne avec des guillemets simples\n",
      "Je suis une chaîne avec des guillemets en anglais\n",
      "\n",
      "Je suis une chaîne avec trois guuillemets\n",
      "\n"
     ]
    }
   ],
   "source": [
    "phrase_1 = \"Je suis une chaîne avec des guillemets simples\"\n",
    "phrase_2 = 'Je suis une chaîne avec des guillemets en anglais'\n",
    "phrase_3 = '''\n",
    "Je suis une chaîne avec trois guuillemets\n",
    "'''\n",
    "\n",
    "print(phrase_1)\n",
    "print(phrase_2)\n",
    "print(phrase_3)"
   ]
  },
  {
   "cell_type": "code",
   "execution_count": 113,
   "id": "e0533780",
   "metadata": {},
   "outputs": [
    {
     "data": {
      "text/plain": [
       "True"
      ]
     },
     "execution_count": 113,
     "metadata": {},
     "output_type": "execute_result"
    }
   ],
   "source": [
    "#True si un élément de s est égal à x, sinon False\n",
    "'s' in phrase_1 "
   ]
  },
  {
   "cell_type": "code",
   "execution_count": 115,
   "id": "129c27bc",
   "metadata": {},
   "outputs": [
    {
     "data": {
      "text/plain": [
       "False"
      ]
     },
     "execution_count": 115,
     "metadata": {},
     "output_type": "execute_result"
    }
   ],
   "source": [
    "#False si un élément de s est égal à x, sinon True\n",
    "\"s\" not in phrase_3"
   ]
  },
  {
   "cell_type": "code",
   "execution_count": 118,
   "id": "4ab7fa36",
   "metadata": {},
   "outputs": [
    {
     "name": "stdout",
     "output_type": "stream",
     "text": [
      "Je suis à la maison\n"
     ]
    }
   ],
   "source": [
    "#la concaténation de Chaines\n",
    "pronom = 'Je '\n",
    "verbe = 'suis '\n",
    "complement = 'à la maison'\n",
    "\n",
    "chaine = pronom + verbe + complement\n",
    "print(chaine)"
   ]
  },
  {
   "cell_type": "markdown",
   "id": "3bf4ae0d",
   "metadata": {},
   "source": [
    "<h3><strong>2.2. Indexing et Slicing</strong></h3>"
   ]
  },
  {
   "cell_type": "markdown",
   "id": "9c348e17",
   "metadata": {},
   "source": [
    "> **L’indexation** en Python fait référence à la façon dont on peut se référer à un élément spécifique d’un itérable (comme une liste, un tuple, etc.) par sa position au sein de l’itérable. En Python, les objets sont indexés à partir de zéro, ce qui signifie que le décompte des positions commence à zéro. Par exemple, si vous avez une liste de cinq éléments, le premier élément (c’est-à-dire l’élément le plus à gauche) occupe la position “zéro”, suivi des éléments aux positions un, deux, trois et quatre.\n",
    "\n",
    "> Il existe plusieurs façons d’indexer en Python, notamment l’indexation basée sur les labels (.loc) et l’indexation basée sur les positions (.iloc) dans le cas des objets pandas."
   ]
  },
  {
   "cell_type": "code",
   "execution_count": 125,
   "id": "1d623d63",
   "metadata": {},
   "outputs": [
    {
     "name": "stdout",
     "output_type": "stream",
     "text": [
      "J\n"
     ]
    }
   ],
   "source": [
    "#Afficher la première valeur d'une chaine\n",
    "print(chaine[0])"
   ]
  },
  {
   "cell_type": "code",
   "execution_count": 126,
   "id": "a4da742c",
   "metadata": {},
   "outputs": [
    {
     "name": "stdout",
     "output_type": "stream",
     "text": [
      "J\n"
     ]
    }
   ],
   "source": [
    "#Afficher la première valeur d'une chaine\n",
    "print(chaine[0])"
   ]
  },
  {
   "cell_type": "code",
   "execution_count": 127,
   "id": "c74d6961",
   "metadata": {},
   "outputs": [
    {
     "name": "stdout",
     "output_type": "stream",
     "text": [
      "n\n"
     ]
    }
   ],
   "source": [
    "#Afficher la dernière valeur d'une chaine\n",
    "print(chaine[-1])"
   ]
  },
  {
   "cell_type": "markdown",
   "id": "29c0a55b",
   "metadata": {},
   "source": [
    "> **Le “Slicing”** ou Decoupage en Français en Python est une technique qui permet d’accéder à une partie spécifique d’un itérable, comme une liste ou une chaîne de caractères12. En utilisant le slicing, vous pouvez extraire une plage d’éléments en spécifiant leurs indices2. La syntaxe générale du slicing est **[debut: fin: pas]**, où le **debut** est l’indice de début, la **fin** est l’indice de fin (non inclus), et le **pas** est l’intervalle entre les éléments\n",
    "\n",
    "> Par exemple, si vous avez une chaîne de caractères date qui représente une date sous le format **jj/mm/aaaa**, et que vous voulez extraire juste le jour, le mois et l'année de cette date dans 3 variables différentes, vous pouvez utiliser le slicing comme ceci :"
   ]
  },
  {
   "cell_type": "code",
   "execution_count": 135,
   "id": "ccf16991",
   "metadata": {},
   "outputs": [],
   "source": [
    "date_de_naissance = '06101960' "
   ]
  },
  {
   "cell_type": "code",
   "execution_count": 136,
   "id": "15376cd4",
   "metadata": {},
   "outputs": [
    {
     "name": "stdout",
     "output_type": "stream",
     "text": [
      "Le jour de naissance est :  06 \n",
      "Le mois de naissance est :  10 \n",
      "L'année de naissance est :  1960\n"
     ]
    }
   ],
   "source": [
    "jour = date_de_naissance[0:2]\n",
    "mois = date_de_naissance[2:4]\n",
    "annee = date_de_naissance[4:]\n",
    "print('Le jour de naissance est : ',jour,'\\nLe mois de naissance est : ',mois,\"\\nL'année de naissance est : \",annee)"
   ]
  },
  {
   "cell_type": "markdown",
   "id": "51f34297",
   "metadata": {},
   "source": [
    "> On peut faire usage le **pas** dans le **Slicing**"
   ]
  },
  {
   "cell_type": "code",
   "execution_count": 144,
   "id": "0e983e7b",
   "metadata": {},
   "outputs": [
    {
     "name": "stdout",
     "output_type": "stream",
     "text": [
      "Les lettres dont les indices sont des nombres impairs :  acegikmoqsuwy\n",
      "Les lettres dont les indices sont des nombres pairs :  bdfhjlnprtvxz\n"
     ]
    }
   ],
   "source": [
    "alphabet_francais = \"abcdefghijklmnopqrstuvwxyz\"\n",
    "alphabet_impair = alphabet_francais[0::2]\n",
    "alphabet_pair = alphabet_francais[1::2]\n",
    "print('Les lettres dont les indices sont des nombres impairs : ',alphabet_impair)\n",
    "print('Les lettres dont les indices sont des nombres pairs : ',alphabet_pair)\n"
   ]
  },
  {
   "cell_type": "markdown",
   "id": "b6da4909",
   "metadata": {},
   "source": [
    "<h3>Il existe de nombreuses méthodes pour manipuler les chaînes de caractères en Python:</h3>"
   ]
  },
  {
   "cell_type": "code",
   "execution_count": 158,
   "id": "164580ff",
   "metadata": {},
   "outputs": [
    {
     "name": "stdout",
     "output_type": "stream",
     "text": [
      "26\n"
     ]
    }
   ],
   "source": [
    "#longueur d'une chaine : len(chaine)\n",
    "print(len(alphabet_francais))"
   ]
  },
  {
   "cell_type": "code",
   "execution_count": 159,
   "id": "19169b18",
   "metadata": {},
   "outputs": [
    {
     "data": {
      "text/plain": [
       "'bonjour'"
      ]
     },
     "execution_count": 159,
     "metadata": {},
     "output_type": "execute_result"
    }
   ],
   "source": [
    "#chaine.lower() : renvoie une copie de la chaîne avec tous les caractères en minuscule. \n",
    "\"BONJOUR\".lower()"
   ]
  },
  {
   "cell_type": "code",
   "execution_count": 160,
   "id": "c6a6e1a0",
   "metadata": {},
   "outputs": [
    {
     "data": {
      "text/plain": [
       "'BONJOUR'"
      ]
     },
     "execution_count": 160,
     "metadata": {},
     "output_type": "execute_result"
    }
   ],
   "source": [
    "#chaine.upper() : renvoie une copie de la chaîne avec tous les caractères en majuscule.\n",
    "\"bonjour\".upper()"
   ]
  },
  {
   "cell_type": "code",
   "execution_count": 161,
   "id": "5d5ee195",
   "metadata": {},
   "outputs": [
    {
     "data": {
      "text/plain": [
       "'Bonjour les gens'"
      ]
     },
     "execution_count": 161,
     "metadata": {},
     "output_type": "execute_result"
    }
   ],
   "source": [
    "#chaine.replace(ancien, nouveau) : renvoie une copie de la chaîne où toutes les occurrences de la sous-chaîne \n",
    "# ancien sont remplacées par la sous-chaîne nouveau.\n",
    "\"Bonjour le monde\".replace(\"le monde\", \"les gens\")"
   ]
  },
  {
   "cell_type": "code",
   "execution_count": 162,
   "id": "6b1178e2",
   "metadata": {},
   "outputs": [
    {
     "data": {
      "text/plain": [
       "['Bonjour', 'le', 'monde']"
      ]
     },
     "execution_count": 162,
     "metadata": {},
     "output_type": "execute_result"
    }
   ],
   "source": [
    "#chaine.split(separateur) : renvoie une liste de sous-chaînes obtenues en découpant la chaîne selon le separateur spécifié. \n",
    "\"Bonjour le monde\".split(\" \")"
   ]
  },
  {
   "cell_type": "code",
   "execution_count": 163,
   "id": "57283702",
   "metadata": {},
   "outputs": [
    {
     "data": {
      "text/plain": [
       "'Bonjour Paul'"
      ]
     },
     "execution_count": 163,
     "metadata": {},
     "output_type": "execute_result"
    }
   ],
   "source": [
    "#separateur.join(liste) : renvoie une chaîne obtenue en joignant les éléments de la liste avec le separateur spécifié. \n",
    "\" \".join([\"Bonjour\", \"Paul\"])"
   ]
  },
  {
   "cell_type": "markdown",
   "id": "be42fe1a",
   "metadata": {},
   "source": [
    "<h2><strong>2.3. Créer et Manipuler les Listes</strong></h2>"
   ]
  },
  {
   "cell_type": "markdown",
   "id": "286f8d63",
   "metadata": {},
   "source": [
    "Les listes sont des séquences mutables, généralement utilisées pour stocker des collections d'éléments homogènes (le degré de similitude varie selon l'usage). Cela veut dire que les listes sont des structures de données qui peuvent contenir plusieurs éléments dans un ordre défini, et que ces éléments peuvent être modifiés, ajoutés ou supprimés après la création de la liste. Les éléments d’une liste sont généralement du même type, par exemple des nombres, des chaînes de caractères, ou d’autres listes, mais cela n’est pas obligatoire. Le degré de similitude entre les éléments dépend de l’objectif de la liste et de la façon dont elle est utilisée dans le programme.\n",
    "\n",
    "Les listes peuvent être construites de différentes manières :\n",
    "<ol>\n",
    " <li>en utilisant une paire de crochets pour indiquer une liste vide : [ ] ;</li>\n",
    " <li>au moyen de crochets, en séparant les éléments par des virgules : [a, b, c] ;</li>\n",
    " <li>en utilisant une liste en compréhension : [x for x in iterable] ;</li>\n",
    " <li>en utilisant le constructeur du type : list() ou list(iterable).</li>\n",
    "</ol>"
   ]
  },
  {
   "cell_type": "code",
   "execution_count": 178,
   "id": "0aaa7f37",
   "metadata": {},
   "outputs": [],
   "source": [
    "# Création d'une liste vide\n",
    "liste_1 = []\n",
    "# Création d'une liste avec des éléments\n",
    "liste_2 = [1, 'Orange', 2,5,78,'Bien']"
   ]
  },
  {
   "cell_type": "code",
   "execution_count": 190,
   "id": "7dbdcfe3",
   "metadata": {},
   "outputs": [
    {
     "name": "stdout",
     "output_type": "stream",
     "text": [
      "[0, 1, 2, 3, 4, 5, 6, 7, 8, 9, 10, 11, 12, 13, 14, 15, 16, 17, 18, 19, 20, 21, 22, 23, 24, 25, 26, 27, 28, 29, 30]\n"
     ]
    }
   ],
   "source": [
    "# Création d'une liste à l'aide de la fonction Range\n",
    "liste_1 = list(range(31))\n",
    "print(liste_1)"
   ]
  },
  {
   "cell_type": "code",
   "execution_count": 180,
   "id": "fb6f534a",
   "metadata": {},
   "outputs": [],
   "source": [
    "# Création d'une liste à avec d'autres valeurs\n",
    "fruits = [\"pomme\", \"banane\", \"orange\", \"fraise\"]\n",
    "divers = [42, \"bonjour\", True, 3.14, [\"a\", \"b\", \"c\"]]"
   ]
  },
  {
   "cell_type": "markdown",
   "id": "979d870c",
   "metadata": {},
   "source": [
    "> Les listes sont mutables, ce qui signifie qu’on peut modifier leurs éléments, par exemple en utilisant l’opérateur d’affectation = :"
   ]
  },
  {
   "cell_type": "code",
   "execution_count": 181,
   "id": "aafb22cf",
   "metadata": {},
   "outputs": [
    {
     "data": {
      "text/plain": [
       "['poire', 'banane', 'orange', 'fraise']"
      ]
     },
     "execution_count": 181,
     "metadata": {},
     "output_type": "execute_result"
    }
   ],
   "source": [
    "fruits[0] = \"poire\" # remplace le premier élément de la liste par \"poire\"\n",
    "fruits"
   ]
  },
  {
   "cell_type": "markdown",
   "id": "9a8e2e51",
   "metadata": {},
   "source": [
    "> On peut aussi ajouter ou supprimer des éléments à une liste, par exemple en utilisant les méthodes append ou remove :"
   ]
  },
  {
   "cell_type": "code",
   "execution_count": 182,
   "id": "1686b885",
   "metadata": {},
   "outputs": [
    {
     "data": {
      "text/plain": [
       "['poire', 'banane', 'fraise', 'kiwi']"
      ]
     },
     "execution_count": 182,
     "metadata": {},
     "output_type": "execute_result"
    }
   ],
   "source": [
    "fruits.append(\"kiwi\") # ajoute \"kiwi\" à la fin de la liste\n",
    "fruits.remove(\"orange\") # supprime \"orange\" de la liste\n",
    "fruits"
   ]
  },
  {
   "cell_type": "code",
   "execution_count": 191,
   "id": "00c49f83",
   "metadata": {},
   "outputs": [
    {
     "name": "stdout",
     "output_type": "stream",
     "text": [
      "[0, 0, 1, 2, 3, 4, 5, 6, 7, 8, 9, 10, 11, 12, 13, 14, 15, 16, 17, 18, 19, 20, 21, 22, 23, 24, 25, 26, 27, 28, 29, 30]\n"
     ]
    }
   ],
   "source": [
    "# Insertion d’un élément : On peut insérer un élément à une position spécifique avec la méthode insert().\n",
    "liste_1.insert(0, 0)  \n",
    "print(liste_1)\n"
   ]
  },
  {
   "cell_type": "code",
   "execution_count": 193,
   "id": "13e0d938",
   "metadata": {},
   "outputs": [
    {
     "name": "stdout",
     "output_type": "stream",
     "text": [
      "[7, 0, 1, 2, 3, 4, 5, 6, 7, 8, 9, 10, 11, 12, 13, 14, 15, 16, 17, 18, 19, 20, 21, 22, 23, 24, 25, 26, 27, 28, 29, 30]\n"
     ]
    }
   ],
   "source": [
    "# Modification d’un élément : On peut modifier un élément d’une liste en utilisant son indice.\n",
    "liste_1[0] = 7 \n",
    "print(liste_1)"
   ]
  },
  {
   "cell_type": "code",
   "execution_count": 194,
   "id": "9175cb49",
   "metadata": {},
   "outputs": [
    {
     "name": "stdout",
     "output_type": "stream",
     "text": [
      "[0, 1, 2, 3, 4, 5, 6, 7, 7, 8, 9, 10, 11, 12, 13, 14, 15, 16, 17, 18, 19, 20, 21, 22, 23, 24, 25, 26, 27, 28, 29, 30]\n"
     ]
    }
   ],
   "source": [
    "# Tri d’une liste : On peut trier une liste avec la méthode sort().\n",
    "liste_1.sort()\n",
    "print(liste_1)\n"
   ]
  },
  {
   "cell_type": "code",
   "execution_count": 195,
   "id": "90ef5067",
   "metadata": {},
   "outputs": [
    {
     "name": "stdout",
     "output_type": "stream",
     "text": [
      "[30, 29, 28, 27, 26, 25, 24, 23, 22, 21, 20, 19, 18, 17, 16, 15, 14, 13, 12, 11, 10, 9, 8, 7, 7, 6, 5, 4, 3, 2, 1, 0]\n"
     ]
    }
   ],
   "source": [
    "# Inversion d’une liste : On peut inverser l’ordre des éléments d’une liste avec la méthode reverse().\n",
    "liste_1.reverse()\n",
    "print(liste_1)\n"
   ]
  },
  {
   "cell_type": "code",
   "execution_count": 199,
   "id": "afb2dad5",
   "metadata": {},
   "outputs": [],
   "source": [
    "# Concaténation de listes : Vous pouvez combiner deux listes en utilisant l’opérateur +.\n",
    "liste1 = [1, 2, 3]\n",
    "liste2 = [4, 5, 6]\n",
    "liste_combinee = liste1 + liste2  # liste_combinee est maintenant [1, 2, 3, 4, 5, 6]"
   ]
  },
  {
   "cell_type": "code",
   "execution_count": 200,
   "id": "06551c8c",
   "metadata": {},
   "outputs": [
    {
     "name": "stdout",
     "output_type": "stream",
     "text": [
      "2\n"
     ]
    }
   ],
   "source": [
    "# Obtention de l’indice d’un élément : Vous pouvez obtenir l’indice du premier élément correspondant \n",
    "# dans une liste en utilisant la méthode index().\n",
    "liste = [1, 2, 3, 4, 5, 3]\n",
    "indice = liste.index(3) \n",
    "print(indice)"
   ]
  },
  {
   "cell_type": "code",
   "execution_count": 201,
   "id": "8ce051f0",
   "metadata": {},
   "outputs": [
    {
     "data": {
      "text/plain": [
       "0"
      ]
     },
     "execution_count": 201,
     "metadata": {},
     "output_type": "execute_result"
    }
   ],
   "source": [
    "# On peut facilement récuperer le dernier élément d'une liste\n",
    "liste_1[-1]\n"
   ]
  },
  {
   "cell_type": "markdown",
   "id": "5bb7dba8",
   "metadata": {},
   "source": [
    "> **Slicing des listes** : En Python, le slicing est une fonctionnalité qui permet d’accéder à une sous-partie d’une liste (ou de tout autre objet indexable comme un tuple ou une chaîne de caractères). Voici comment cela fonctionne :"
   ]
  },
  {
   "cell_type": "code",
   "execution_count": 204,
   "id": "f55c643d",
   "metadata": {},
   "outputs": [
    {
     "data": {
      "text/plain": [
       "[2, 3, 4, 5]"
      ]
     },
     "execution_count": 204,
     "metadata": {},
     "output_type": "execute_result"
    }
   ],
   "source": [
    "# Création d'une liste\n",
    "ma_liste = [0, 1, 2, 3, 4, 5, 6, 7, 8, 9]\n",
    "\n",
    "# Slicing\n",
    "# sous_liste = ma_liste[debut:fin]\n",
    "\n",
    "# Par exemple, pour obtenir les éléments de l'index 2 à l'index 5\n",
    "sous_liste = ma_liste[2:6]\n",
    "sous_liste"
   ]
  },
  {
   "cell_type": "markdown",
   "id": "c56c9764",
   "metadata": {},
   "source": [
    "> Dans cet exemple, debut est l’index de départ (inclus) et fin est l’index de fin (exclus). Si debut ou fin sont omis, le slicing se fait respectivement depuis le début de la liste ou jusqu’à la fin.\n",
    "\n",
    "> Vous pouvez également spécifier un pas pour le slicing :"
   ]
  },
  {
   "cell_type": "code",
   "execution_count": 207,
   "id": "f42ef8c6",
   "metadata": {},
   "outputs": [
    {
     "data": {
      "text/plain": [
       "[0, 2, 4, 6, 8]"
      ]
     },
     "execution_count": 207,
     "metadata": {},
     "output_type": "execute_result"
    }
   ],
   "source": [
    "# Slicing avec un pas\n",
    "# sous_liste = ma_liste[debut:fin:pas]\n",
    "\n",
    "# Par exemple, pour obtenir tous les éléments pairs de la liste\n",
    "sous_liste = ma_liste[::2] \n",
    "sous_liste"
   ]
  },
  {
   "cell_type": "markdown",
   "id": "9cb7f035",
   "metadata": {},
   "source": [
    "> En Python, vous pouvez également faire du slicing avec des listes de plusieurs dimensions (aussi appelées listes imbriquées). Voici comment cela fonctionne :"
   ]
  },
  {
   "cell_type": "code",
   "execution_count": 209,
   "id": "eda0a07d",
   "metadata": {},
   "outputs": [
    {
     "data": {
      "text/plain": [
       "[1, 2]"
      ]
     },
     "execution_count": 209,
     "metadata": {},
     "output_type": "execute_result"
    }
   ],
   "source": [
    "# Création d'une liste à deux dimensions\n",
    "ma_liste = [[0, 1, 2], [3, 4, 5], [6, 7, 8]]\n",
    "\n",
    "# Slicing\n",
    "# sous_liste = ma_liste[debut:fin][debut:fin]\n",
    "\n",
    "# Par exemple, pour obtenir les éléments de l'index 1 à l'index 2 de la première sous-liste\n",
    "sous_liste = ma_liste[0][1:3] \n",
    "sous_liste\n"
   ]
  },
  {
   "cell_type": "code",
   "execution_count": 210,
   "id": "ab103396",
   "metadata": {},
   "outputs": [
    {
     "data": {
      "text/plain": [
       "[4, 5]"
      ]
     },
     "execution_count": 210,
     "metadata": {},
     "output_type": "execute_result"
    }
   ],
   "source": [
    "# Par exemple, pour obtenir les éléments de l'index 1 à l'index 2 de la deuxième sous-liste\n",
    "sous_liste = ma_liste[1][1:3] \n",
    "sous_liste"
   ]
  },
  {
   "cell_type": "code",
   "execution_count": 214,
   "id": "8fe0a9a2",
   "metadata": {},
   "outputs": [
    {
     "data": {
      "text/plain": [
       "[1, 4]"
      ]
     },
     "execution_count": 214,
     "metadata": {},
     "output_type": "execute_result"
    }
   ],
   "source": [
    "# Par exemple, pour obtenir les éléments de l'index 1 à l'index 2 de la deuxième sous-liste\n",
    "sous_liste = [ma_liste[0][1],ma_liste[0][1]]\n",
    "sous_liste"
   ]
  },
  {
   "cell_type": "markdown",
   "id": "1e254e20",
   "metadata": {},
   "source": [
    "<h2><strong>2.4. Exercices sur les listes </strong></h2>"
   ]
  },
  {
   "cell_type": "markdown",
   "id": "43c04646",
   "metadata": {},
   "source": [
    "> Slicing : Imprimez les trois premiers éléments de la liste."
   ]
  },
  {
   "cell_type": "code",
   "execution_count": 216,
   "id": "28fbf028",
   "metadata": {},
   "outputs": [
    {
     "name": "stdout",
     "output_type": "stream",
     "text": [
      "[1, 2, 3]\n"
     ]
    }
   ],
   "source": [
    "ma_liste = [1, 2, 3, 4, 5]\n",
    "print(ma_liste[:3])"
   ]
  },
  {
   "cell_type": "code",
   "execution_count": 217,
   "id": "27d06977",
   "metadata": {},
   "outputs": [
    {
     "data": {
      "text/plain": [
       "[1, 2, 3, 4]"
      ]
     },
     "execution_count": 217,
     "metadata": {},
     "output_type": "execute_result"
    }
   ],
   "source": [
    "ma_liste = ma_liste[:-1]\n",
    "ma_liste"
   ]
  },
  {
   "cell_type": "markdown",
   "id": "cbdabecf",
   "metadata": {},
   "source": [
    "> Créez une liste qui contient la même valeur répétée 10 fois."
   ]
  },
  {
   "cell_type": "code",
   "execution_count": 218,
   "id": "70b9181a",
   "metadata": {},
   "outputs": [
    {
     "data": {
      "text/plain": [
       "[1, 1, 1, 1, 1, 1, 1, 1, 1, 1]"
      ]
     },
     "execution_count": 218,
     "metadata": {},
     "output_type": "execute_result"
    }
   ],
   "source": [
    "ma_liste = [1] * 10\n",
    "ma_liste"
   ]
  },
  {
   "cell_type": "code",
   "execution_count": null,
   "id": "94607ab2",
   "metadata": {},
   "outputs": [],
   "source": []
  }
 ],
 "metadata": {
  "kernelspec": {
   "display_name": "Python 3 (ipykernel)",
   "language": "python",
   "name": "python3"
  },
  "language_info": {
   "codemirror_mode": {
    "name": "ipython",
    "version": 3
   },
   "file_extension": ".py",
   "mimetype": "text/x-python",
   "name": "python",
   "nbconvert_exporter": "python",
   "pygments_lexer": "ipython3",
   "version": "3.11.4"
  }
 },
 "nbformat": 4,
 "nbformat_minor": 5
}
