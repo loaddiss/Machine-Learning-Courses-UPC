{
 "cells": [
  {
   "cell_type": "markdown",
   "id": "90a43186-24a1-4084-8037-8ef8b1041aa4",
   "metadata": {
    "tags": []
   },
   "source": [
    "# INTRODUCTION A NUMPY"
   ]
  },
  {
   "cell_type": "markdown",
   "id": "5eeab964-26c3-48d6-90d4-09bfc0b78c27",
   "metadata": {},
   "source": [
    "**NumPy est une bibliothèque essentielle pour la science des données en Python et le Machine Learning. \n",
    "Elle offre un objet de tableau multidimensionnel, ainsi que divers objets connexes \n",
    "(comme des tableaux masqués et des matrices), et une gamme de routines pour des opérations sur les tableaux à haute vitesse, \n",
    "y compris des opérations mathématiques, logiques, de remodelage, de tri, de sélection, \n",
    "d'E/S, de transformations de Fourier discrètes, d'algèbre linéaire élémentaire, \n",
    "d'opérations statistiques élémentaires, de simulation aléatoire et bien plus encore...**"
   ]
  },
  {
   "cell_type": "markdown",
   "id": "128f196f-b240-4471-b3f1-fd6de247c8a4",
   "metadata": {},
   "source": [
    "**Documentation du module Numpy : https://numpy.org/doc/stable/**"
   ]
  },
  {
   "cell_type": "markdown",
   "id": "09202af5-4c11-4d70-986c-4ed4b50172a5",
   "metadata": {},
   "source": [
    "## 1. Création de tableaux Numpy"
   ]
  },
  {
   "cell_type": "markdown",
   "id": "68e3ccc9-0605-4650-a41c-799bf8c761e6",
   "metadata": {},
   "source": [
    "Numpy possède de nombreux types différents de \"conteneurs\" de données : listes, dictionnaires, tuples, etc. Cependant, aucun d'entre eux ne permet un calcul numérique efficace, en particulier dans les cas multidimensionnels (pensez par exemple aux opérations sur les images). Numpy a été développé exactement pour combler cette lacune. Il fournit une nouvelle structure de données, le tableau numpy, et une large bibliothèque d'opérations qui permettent de : \n",
    "\n",
    "- Générer de tels tableaux ; \n",
    "- Combiner des tableaux de différentes manières (concaténation, empilement, etc.);\n",
    "- Modifier ces tableaux (projection, extraction de sous-tableaux etc.);\n",
    "- Leur appliquer des opérations mathématiques;\n",
    "\n",
    "Numpy est la base de presque toute la pile de programmation scientifique Python. De nombreuses bibliothèques s'appuient sur Numpy, soit en fournissant des fonctions spécialisées pour les utiliser (par exemple scikit-image pour le traitement d'images), soit en créant des conteneurs de données plus complexes par-dessus. La bibliothèque de science des données Pandas qui sera également présentée dans ce cours en est un bon exemple avec ses structures dataframe."
   ]
  },
  {
   "cell_type": "code",
   "execution_count": 46,
   "id": "bfd2fcce-744f-4397-8782-9aad929e417e",
   "metadata": {
    "tags": []
   },
   "outputs": [],
   "source": [
    "import numpy as np"
   ]
  },
  {
   "cell_type": "markdown",
   "id": "fdb2ec21-a534-4d12-a890-d02a58d0721c",
   "metadata": {},
   "source": [
    "Créons l'exemple le plus simple de tableau en transformant une liste Python classique en tableau (nous verrons des méthodes plus avancées de création de tableaux plus loin) :"
   ]
  },
  {
   "cell_type": "code",
   "execution_count": 8,
   "id": "9a7a1036-9887-477b-b6fe-22f005b38fbc",
   "metadata": {
    "tags": []
   },
   "outputs": [],
   "source": [
    "mylist = [2,5,3,9,5,2]"
   ]
  },
  {
   "cell_type": "code",
   "execution_count": 9,
   "id": "3e54869d-0035-43ca-a445-3a81c7dae9ee",
   "metadata": {
    "tags": []
   },
   "outputs": [
    {
     "data": {
      "text/plain": [
       "[2, 5, 3, 9, 5, 2]"
      ]
     },
     "execution_count": 9,
     "metadata": {},
     "output_type": "execute_result"
    }
   ],
   "source": [
    "mylist"
   ]
  },
  {
   "cell_type": "code",
   "execution_count": 10,
   "id": "410daccd-27c1-47bc-ac00-d62f3815d3bb",
   "metadata": {
    "tags": []
   },
   "outputs": [],
   "source": [
    "myarray = np.array(mylist)"
   ]
  },
  {
   "cell_type": "code",
   "execution_count": 11,
   "id": "2bae1096-62e4-45a0-bf4d-d7a403bef78f",
   "metadata": {
    "tags": []
   },
   "outputs": [
    {
     "data": {
      "text/plain": [
       "array([2, 5, 3, 9, 5, 2])"
      ]
     },
     "execution_count": 11,
     "metadata": {},
     "output_type": "execute_result"
    }
   ],
   "source": [
    "myarray"
   ]
  },
  {
   "cell_type": "code",
   "execution_count": 12,
   "id": "a54e29ee-a426-48f8-bb60-2db297ac6396",
   "metadata": {
    "tags": []
   },
   "outputs": [
    {
     "data": {
      "text/plain": [
       "numpy.ndarray"
      ]
     },
     "execution_count": 12,
     "metadata": {},
     "output_type": "execute_result"
    }
   ],
   "source": [
    "type(myarray)"
   ]
  },
  {
   "cell_type": "markdown",
   "id": "673a77af-cafd-4821-85a7-32716cdf1642",
   "metadata": {},
   "source": [
    "Nous voyons que ```myarray``` est un tableau Numpy grâce à la spécification ```array``` dans la sortie. Le type indique également que nous avons un ndarray numpy (à n dimensions). À ce stade, nous ne voyons pas de grande différence avec les listes normales, mais nous verrons dans les sections suivantes toutes les opérations que nous pouvons effectuer avec ces objets.\n",
    "\n",
    "Nous pouvons déjà voir une différence avec deux attributs fondamentaux des tableaux : leur type et leur forme."
   ]
  },
  {
   "cell_type": "markdown",
   "id": "60395754-9e4a-4278-ae62-e60e38faddf7",
   "metadata": {},
   "source": [
    "### 1.1. Type Array"
   ]
  },
  {
   "cell_type": "markdown",
   "id": "3b4e7b77-8879-4398-9afc-77ebea80f0fc",
   "metadata": {},
   "source": [
    "Tout comme lorsque nous créons des variables régulières en Python, les tableaux reçoivent un type lors de leur création. Contrairement à une liste normale, **tous** les éléments d'un tableau ont toujours le même type. Le type d'un tableau peut être récupéré via la méthode ```.dtype``` :"
   ]
  },
  {
   "cell_type": "code",
   "execution_count": 13,
   "id": "e1274701-7b85-430a-a60e-de110216c85b",
   "metadata": {
    "tags": []
   },
   "outputs": [
    {
     "data": {
      "text/plain": [
       "dtype('int64')"
      ]
     },
     "execution_count": 13,
     "metadata": {},
     "output_type": "execute_result"
    }
   ],
   "source": [
    "myarray.dtype"
   ]
  },
  {
   "cell_type": "markdown",
   "id": "15f930ef-7c1e-4c93-a5eb-5507800ffa64",
   "metadata": {},
   "source": [
    "Selon le contenu de la liste, le tableau aura différents types. Mais la logique de « complexité maximale » est conservée. Par exemple, si nous mélangeons des entiers et des flottants, nous obtenons un tableau float :"
   ]
  },
  {
   "cell_type": "code",
   "execution_count": 14,
   "id": "d2bc5c51-a094-4546-8621-53a680f14256",
   "metadata": {
    "tags": []
   },
   "outputs": [
    {
     "data": {
      "text/plain": [
       "array([1.2, 6. , 7.6, 5. ])"
      ]
     },
     "execution_count": 14,
     "metadata": {},
     "output_type": "execute_result"
    }
   ],
   "source": [
    "myarray2 = np.array([1.2, 6, 7.6, 5])\n",
    "myarray2"
   ]
  },
  {
   "cell_type": "code",
   "execution_count": 15,
   "id": "dbfb3a6d-a8b3-46e2-97c9-d3763d68e51b",
   "metadata": {
    "tags": []
   },
   "outputs": [
    {
     "data": {
      "text/plain": [
       "dtype('float64')"
      ]
     },
     "execution_count": 15,
     "metadata": {},
     "output_type": "execute_result"
    }
   ],
   "source": [
    "myarray2.dtype"
   ]
  },
  {
   "cell_type": "markdown",
   "id": "be05fab1-619c-42b0-8819-15a60ed0aaec",
   "metadata": {},
   "source": [
    "En général, on a la possibilité d'attribuer un type à un tableau. Cela est vrai ici, ainsi que plus tard lorsque nous créerons des tableaux plus complexes, et cela se fait via l'option dtype :"
   ]
  },
  {
   "cell_type": "code",
   "execution_count": 17,
   "id": "6a0e7963-1847-48cb-90a6-c2b0726c98ac",
   "metadata": {
    "tags": []
   },
   "outputs": [
    {
     "data": {
      "text/plain": [
       "array([  1,   6,   7, 244], dtype=uint8)"
      ]
     },
     "execution_count": 17,
     "metadata": {},
     "output_type": "execute_result"
    }
   ],
   "source": [
    "myarray2 = np.array([1.2, 6, 7.6, 500]).astype(dtype=np.uint8)\n",
    "myarray2"
   ]
  },
  {
   "cell_type": "markdown",
   "id": "0b7e9344-f46f-4b94-ab65-515a7426258d",
   "metadata": {},
   "source": [
    "Le type du tableau peut également être modifié après la création en utilisant la méthode ```.astype()``` :"
   ]
  },
  {
   "cell_type": "code",
   "execution_count": 20,
   "id": "951a5d97-4d6e-470e-9e7a-2aae94735748",
   "metadata": {
    "tags": []
   },
   "outputs": [
    {
     "data": {
      "text/plain": [
       "dtype('float64')"
      ]
     },
     "execution_count": 20,
     "metadata": {},
     "output_type": "execute_result"
    }
   ],
   "source": [
    "myfloat_array = np.array([1.2, 6, 7.6, 500], dtype=np.float64)\n",
    "myfloat_array.dtype"
   ]
  },
  {
   "cell_type": "code",
   "execution_count": 21,
   "id": "badaa07e-a35b-47c1-919d-64561ba8ece5",
   "metadata": {
    "tags": []
   },
   "outputs": [
    {
     "data": {
      "text/plain": [
       "dtype('int8')"
      ]
     },
     "execution_count": 21,
     "metadata": {},
     "output_type": "execute_result"
    }
   ],
   "source": [
    "myint_array = myfloat_array.astype(np.int8)\n",
    "myint_array.dtype"
   ]
  },
  {
   "cell_type": "markdown",
   "id": "616aee0f-7825-42d0-84bc-0f6ac8f1da74",
   "metadata": {},
   "source": [
    "### 1.2 Forme du tableau\n",
    "\n",
    "Une propriété très importante d'un tableau est sa **forme** ou en d'autres termes les dimensions de chaque axe. Cette propriété est accessible via la méthode ```.shape``` :"
   ]
  },
  {
   "cell_type": "code",
   "execution_count": 22,
   "id": "9f61efc3-e4c6-482c-b739-d0d2ec74461d",
   "metadata": {
    "tags": []
   },
   "outputs": [
    {
     "data": {
      "text/plain": [
       "array([2, 5, 3, 9, 5, 2])"
      ]
     },
     "execution_count": 22,
     "metadata": {},
     "output_type": "execute_result"
    }
   ],
   "source": [
    "myarray"
   ]
  },
  {
   "cell_type": "code",
   "execution_count": 23,
   "id": "bc684649-68de-41b1-98da-0f87e3fa50e0",
   "metadata": {
    "tags": []
   },
   "outputs": [
    {
     "data": {
      "text/plain": [
       "(6,)"
      ]
     },
     "execution_count": 23,
     "metadata": {},
     "output_type": "execute_result"
    }
   ],
   "source": [
    "myarray.shape"
   ]
  },
  {
   "cell_type": "markdown",
   "id": "73ed9b47-211a-4186-ac24-77f881b671b3",
   "metadata": {},
   "source": [
    "Nous voyons que notre tableau simple n’a qu’une seule dimension de longueur 6. Nous pouvons maintenant bien sûr créer des tableaux plus complexes. Créons par exemple une *liste de deux listes* :"
   ]
  },
  {
   "cell_type": "code",
   "execution_count": 24,
   "id": "81a36d6d-ebe3-4c7d-9ad8-3d74267d0ee0",
   "metadata": {
    "tags": []
   },
   "outputs": [
    {
     "data": {
      "text/plain": [
       "array([[1, 2, 3],\n",
       "       [4, 5, 6]])"
      ]
     },
     "execution_count": 24,
     "metadata": {},
     "output_type": "execute_result"
    }
   ],
   "source": [
    "my2d_list = [[1,2,3], [4,5,6]]\n",
    "\n",
    "my2d_array = np.array(my2d_list)\n",
    "my2d_array"
   ]
  },
  {
   "cell_type": "code",
   "execution_count": 25,
   "id": "60953952-0c5e-440c-9831-b56c86984bad",
   "metadata": {
    "tags": []
   },
   "outputs": [
    {
     "data": {
      "text/plain": [
       "(2, 3)"
      ]
     },
     "execution_count": 25,
     "metadata": {},
     "output_type": "execute_result"
    }
   ],
   "source": [
    "my2d_array.shape"
   ]
  },
  {
   "cell_type": "markdown",
   "id": "8fac6c25-ac73-4e74-b208-4839d4efb8e8",
   "metadata": {},
   "source": [
    "## 1.2 Création des tableaux\n",
    "\n",
    "Nous avons vu que nous pouvons transformer des listes régulières en tableaux. Cependant, cela devient rapidement peu pratique pour des tableaux de plus grande taille. Numpy propose plusieurs fonctions pour créer des tableaux particuliers."
   ]
  },
  {
   "cell_type": "markdown",
   "id": "93090355-8241-4d34-8420-fbac0a5a7de9",
   "metadata": {},
   "source": [
    "### 1.2.1 Tableaux simples courants\n",
    "Par exemple un tableau plein de zéros ou de uns :"
   ]
  },
  {
   "cell_type": "code",
   "execution_count": 27,
   "id": "f7ac5f6e-1dcd-47da-b08b-3240eb799960",
   "metadata": {
    "tags": []
   },
   "outputs": [
    {
     "data": {
      "text/plain": [
       "array([[1., 1., 1.],\n",
       "       [1., 1., 1.]])"
      ]
     },
     "execution_count": 27,
     "metadata": {},
     "output_type": "execute_result"
    }
   ],
   "source": [
    "one_array = np.ones((2,3))\n",
    "one_array"
   ]
  },
  {
   "cell_type": "code",
   "execution_count": 28,
   "id": "fc24e9c5-5a21-4fd1-b429-e806d621fa05",
   "metadata": {
    "tags": []
   },
   "outputs": [
    {
     "data": {
      "text/plain": [
       "array([[0., 0., 0.],\n",
       "       [0., 0., 0.]])"
      ]
     },
     "execution_count": 28,
     "metadata": {},
     "output_type": "execute_result"
    }
   ],
   "source": [
    "zero_array = np.zeros((2,3))\n",
    "zero_array"
   ]
  },
  {
   "cell_type": "markdown",
   "id": "2b00158e-70d8-4c92-9c50-c68ee9b055cb",
   "metadata": {},
   "source": [
    "On peut également créer une matrice diagonale :"
   ]
  },
  {
   "cell_type": "code",
   "execution_count": 34,
   "id": "adf58ca8-a954-4a6f-8706-bc7846068341",
   "metadata": {
    "tags": []
   },
   "outputs": [
    {
     "data": {
      "text/plain": [
       "array([[1., 0., 0.],\n",
       "       [0., 1., 0.],\n",
       "       [0., 0., 1.]])"
      ]
     },
     "execution_count": 34,
     "metadata": {},
     "output_type": "execute_result"
    }
   ],
   "source": [
    "np.eye(3)"
   ]
  },
  {
   "cell_type": "code",
   "execution_count": 30,
   "id": "e6c51058-9b0f-45e1-b9ce-b424e88288f5",
   "metadata": {
    "tags": []
   },
   "outputs": [
    {
     "data": {
      "text/plain": [
       "dtype('float64')"
      ]
     },
     "execution_count": 30,
     "metadata": {},
     "output_type": "execute_result"
    }
   ],
   "source": [
    "one_array.dtype"
   ]
  },
  {
   "cell_type": "markdown",
   "id": "714cd336-b1d6-40c1-808c-db875031d871",
   "metadata": {},
   "source": [
    "Cependant comme mentionné précédemment, on peut imposer un type usine avec la methode ```dtype``` :"
   ]
  },
  {
   "cell_type": "code",
   "execution_count": 31,
   "id": "ec38a9d0-a7fb-4143-b3ce-5bbc6b260434",
   "metadata": {
    "tags": []
   },
   "outputs": [
    {
     "data": {
      "text/plain": [
       "array([[1, 1, 1],\n",
       "       [1, 1, 1]], dtype=int8)"
      ]
     },
     "execution_count": 31,
     "metadata": {},
     "output_type": "execute_result"
    }
   ],
   "source": [
    "one_array_int = np.ones((2,3), dtype=np.int8)\n",
    "one_array_int"
   ]
  },
  {
   "cell_type": "code",
   "execution_count": 32,
   "id": "a2eb0fbd-595a-438c-a2e2-54d419c9b6de",
   "metadata": {
    "tags": []
   },
   "outputs": [
    {
     "data": {
      "text/plain": [
       "dtype('int8')"
      ]
     },
     "execution_count": 32,
     "metadata": {},
     "output_type": "execute_result"
    }
   ],
   "source": [
    "one_array_int.dtype"
   ]
  },
  {
   "cell_type": "markdown",
   "id": "0a510100-e959-44f0-8753-4d6d57086827",
   "metadata": {},
   "source": [
    "### 1.2.2 Copier la forme\n",
    "\n",
    "Il faut souvent créer des tableaux de même forme. Cela peut être fait avec des \"fonctions similaires\" :"
   ]
  },
  {
   "cell_type": "code",
   "execution_count": 33,
   "id": "efd19208-3a27-4502-8a0d-ac066bda4459",
   "metadata": {
    "tags": []
   },
   "outputs": [
    {
     "data": {
      "text/plain": [
       "array([[0., 0., 0.],\n",
       "       [0., 0., 0.]])"
      ]
     },
     "execution_count": 33,
     "metadata": {},
     "output_type": "execute_result"
    }
   ],
   "source": [
    "same_shape_array = np.zeros_like(one_array)\n",
    "same_shape_array"
   ]
  },
  {
   "cell_type": "code",
   "execution_count": 35,
   "id": "0500d15e-613e-40ee-9030-f955729d3437",
   "metadata": {
    "tags": []
   },
   "outputs": [
    {
     "data": {
      "text/plain": [
       "(2, 3)"
      ]
     },
     "execution_count": 35,
     "metadata": {},
     "output_type": "execute_result"
    }
   ],
   "source": [
    "one_array.shape"
   ]
  },
  {
   "cell_type": "code",
   "execution_count": 36,
   "id": "e7cd1ae7-42ac-4805-a9aa-fcd1480f1b4d",
   "metadata": {
    "tags": []
   },
   "outputs": [
    {
     "data": {
      "text/plain": [
       "(2, 3)"
      ]
     },
     "execution_count": 36,
     "metadata": {},
     "output_type": "execute_result"
    }
   ],
   "source": [
    "same_shape_array.shape"
   ]
  },
  {
   "cell_type": "code",
   "execution_count": 37,
   "id": "9a3b96b7-6e3b-4d19-be84-fbab641389a0",
   "metadata": {
    "tags": []
   },
   "outputs": [
    {
     "data": {
      "text/plain": [
       "array([[1., 1., 1.],\n",
       "       [1., 1., 1.]])"
      ]
     },
     "execution_count": 37,
     "metadata": {},
     "output_type": "execute_result"
    }
   ],
   "source": [
    "np.ones_like(one_array)"
   ]
  },
  {
   "cell_type": "markdown",
   "id": "58f50083-84d9-4737-891b-bfdfdfef4349",
   "metadata": {},
   "source": [
    "### 1.2.3 Tableaux complexes\n",
    "\n",
    "Nous ne sommes pas limités à créer des tableaux contenant des uns ou des zéros. Les opérations très courantes impliquent par ex. la création de tableaux contenant des nombres régulièrement disposés. Par exemple une liste « de à par étape » :"
   ]
  },
  {
   "cell_type": "code",
   "execution_count": 38,
   "id": "590e1146-ab9a-417b-b787-621dcc081ac7",
   "metadata": {
    "tags": []
   },
   "outputs": [
    {
     "data": {
      "text/plain": [
       "array([0, 2, 4, 6, 8])"
      ]
     },
     "execution_count": 38,
     "metadata": {},
     "output_type": "execute_result"
    }
   ],
   "source": [
    "np.arange(0, 10, 2)"
   ]
  },
  {
   "cell_type": "markdown",
   "id": "56621ed9-24b7-4b85-867b-5a3542b8e77d",
   "metadata": {},
   "source": [
    "Ou des nombres équidistants entre les frontières :"
   ]
  },
  {
   "cell_type": "code",
   "execution_count": 39,
   "id": "4f004178-283e-4212-8870-b3148f6c08d7",
   "metadata": {
    "tags": []
   },
   "outputs": [
    {
     "data": {
      "text/plain": [
       "array([0.        , 0.11111111, 0.22222222, 0.33333333, 0.44444444,\n",
       "       0.55555556, 0.66666667, 0.77777778, 0.88888889, 1.        ])"
      ]
     },
     "execution_count": 39,
     "metadata": {},
     "output_type": "execute_result"
    }
   ],
   "source": [
    "np.linspace(0,1, 10)"
   ]
  },
  {
   "cell_type": "markdown",
   "id": "76d94d47-c495-4ab6-9acf-e1a07b51ef5e",
   "metadata": {},
   "source": [
    "Numpy propose notamment un sous-module ```random``` qui permet de créer des tableaux contenant des valeurs provenant d'un large éventail de distributions. Par exemple, une distribution normale :"
   ]
  },
  {
   "cell_type": "code",
   "execution_count": 44,
   "id": "95c204ce-a90e-4ab8-b2dc-0cd3b5a3f768",
   "metadata": {
    "tags": []
   },
   "outputs": [
    {
     "data": {
      "text/plain": [
       "array([[ 9.24271794,  8.51631642,  8.39695989, 12.80461006],\n",
       "       [ 9.04081027,  7.72570073, 10.72743639,  8.2688209 ],\n",
       "       [ 8.48337843,  8.123398  ,  8.28743705, 10.17004685]])"
      ]
     },
     "execution_count": 44,
     "metadata": {},
     "output_type": "execute_result"
    }
   ],
   "source": [
    "normal_array = np.random.normal(loc=10, scale=2, size=(3,4))\n",
    "normal_array"
   ]
  },
  {
   "cell_type": "markdown",
   "id": "19d24bf1-e70e-4f75-9e99-e66f508dacac",
   "metadata": {},
   "source": [
    "Ce code utilise la fonction `np.random.normal` de la bibliothèque NumPy pour générer un tableau de nombres aléatoires suivant une distribution normale.\n",
    "\n",
    "Voici ce que fait chaque argument :\n",
    "- `loc=10` : C'est la moyenne (μ) de la distribution normale.\n",
    "- `scale=2` : C'est l'écart-type (σ) de la distribution normale. L'écart-type est une mesure de la dispersion des valeurs.\n",
    "- `size=(3,4)` : C'est la forme du tableau de sortie. Ici, un tableau de 3 lignes et 4 colonnes sera généré.\n",
    "\n",
    "Donc, `normal_array = np.random.normal(loc=10, scale=2, size=(3,4))` génère un tableau 2D de taille 3x4, où chaque nombre est tiré d'une distribution normale avec une moyenne de 10 et un écart-type de 2."
   ]
  },
  {
   "cell_type": "code",
   "execution_count": 45,
   "id": "003e0e53-a1a3-4794-97d8-d69b67c8100d",
   "metadata": {
    "tags": []
   },
   "outputs": [
    {
     "data": {
      "image/png": "[encoded data removed]",
      "text/plain": [
       "<Figure size 640x480 with 1 Axes>"
      ]
     },
     "metadata": {},
     "output_type": "display_data"
    }
   ],
   "source": [
    "import matplotlib.pyplot as plt\n",
    "\n",
    "# le tableau\n",
    "normal_array = np.random.normal(loc=10, scale=2, size=(3,4))\n",
    "\n",
    "# Aplatir le tableau en 1 dimension pour l'histogramme\n",
    "flattened_array = normal_array.flatten()\n",
    "\n",
    "# Créer l'histogramme\n",
    "plt.hist(flattened_array, bins='auto')\n",
    "\n",
    "# Afficher l'histogramme\n",
    "plt.show()\n"
   ]
  },
  {
   "cell_type": "code",
   "execution_count": 41,
   "id": "25beb9af-937b-4c1d-82a2-836d07380006",
   "metadata": {
    "tags": []
   },
   "outputs": [
    {
     "data": {
      "text/plain": [
       "array([[4, 7, 8, 3],\n",
       "       [7, 5, 2, 8],\n",
       "       [6, 4, 1, 3]])"
      ]
     },
     "execution_count": 41,
     "metadata": {},
     "output_type": "execute_result"
    }
   ],
   "source": [
    "np.random.poisson(lam=5, size=(3,4))"
   ]
  },
  {
   "cell_type": "markdown",
   "id": "50aa24f1-0f8d-47bb-b412-c06b315a5f6b",
   "metadata": {},
   "source": [
    "Ce code utilise la fonction `np.random.poisson` de la bibliothèque NumPy pour générer un tableau de nombres aléatoires suivant une distribution de Poisson.\n",
    "\n",
    "Voici ce que fait chaque argument :\n",
    "- `lam=5` : C'est le paramètre λ (lambda) de la distribution de Poisson, qui est égal à la moyenne et à la variance de la distribution.\n",
    "- `size=(3,4)` : C'est la forme du tableau de sortie. Ici, un tableau de 3 lignes et 4 colonnes sera généré.\n",
    "\n",
    "Donc, `np.random.poisson(lam=5, size=(3,4))` génère un tableau 2D de taille 3x4, où chaque nombre est tiré d'une distribution de Poisson avec un paramètre λ de 5. \n",
    "\n",
    "La distribution de Poisson est souvent utilisée en statistiques pour modéliser le nombre d'événements qui se produisent dans un intervalle de temps ou d'espace fixe. Par exemple, le nombre de courriels que vous recevez dans une journée ou le nombre de voitures qui passent par un péage dans une heure pourraient tous deux être modélisés par une distribution de Poisson."
   ]
  },
  {
   "cell_type": "markdown",
   "id": "d6eea069-ef9f-442f-94a5-fff756289359",
   "metadata": {},
   "source": [
    "# 2. Mathématiques avec des tableaux Numpy\n",
    "\n",
    "L'un des grands avantages des tableaux Numpy est qu'ils permettent d'appliquer très facilement des opérations mathématiques à des tableaux entiers, sans effort. Nous présentons ici 3 façons de procéder."
   ]
  },
  {
   "cell_type": "markdown",
   "id": "d38dead1-e8e0-4b61-8e0c-8fbcb5129bc8",
   "metadata": {},
   "source": [
    "## 2.1 Calcul simple\n",
    "\n",
    "Pour illustrer l’utilité des tableaux, considérons d’abord le problème suivant. Vous avez une liste :"
   ]
  },
  {
   "cell_type": "code",
   "execution_count": 48,
   "id": "3eb4036b-224d-4b32-8b91-eebddce9769f",
   "metadata": {
    "tags": []
   },
   "outputs": [],
   "source": [
    "mylist = [1,2,3,4,5]"
   ]
  },
  {
   "cell_type": "markdown",
   "id": "651a34d7-8366-4292-96f4-007afcfb0c95",
   "metadata": {},
   "source": [
    "Et maintenant vous souhaitez ajouter à chaque élément de cette liste la valeur 3. Si on écrit :"
   ]
  },
  {
   "cell_type": "code",
   "execution_count": 49,
   "id": "c6c7e45c-0f1b-4727-b5c2-5e3963ac6812",
   "metadata": {
    "tags": []
   },
   "outputs": [
    {
     "ename": "TypeError",
     "evalue": "can only concatenate list (not \"int\") to list",
     "output_type": "error",
     "traceback": [
      "\u001b[0;31m---------------------------------------------------------------------------\u001b[0m",
      "\u001b[0;31mTypeError\u001b[0m                                 Traceback (most recent call last)",
      "Cell \u001b[0;32mIn[49], line 1\u001b[0m\n\u001b[0;32m----> 1\u001b[0m mylist \u001b[38;5;241m+\u001b[39m \u001b[38;5;241m3\u001b[39m\n",
      "\u001b[0;31mTypeError\u001b[0m: can only concatenate list (not \"int\") to list"
     ]
    }
   ],
   "source": [
    "mylist + 3"
   ]
  },
  {
   "cell_type": "markdown",
   "id": "faa3ec2e-e990-4b12-b2fa-835e5888a345",
   "metadata": {},
   "source": [
    "Nous avons une erreur car Python ne sait pas comment combiner une liste avec un simple entier. Dans ce cas il faudrait utiliser une boucle for ou une liste de compréhension, ce qui est fastidieux."
   ]
  },
  {
   "cell_type": "code",
   "execution_count": 50,
   "id": "3ca532e6-858e-4cca-b96e-9e6ec1da96d4",
   "metadata": {
    "tags": []
   },
   "outputs": [
    {
     "data": {
      "text/plain": [
       "[4, 5, 6, 7, 8]"
      ]
     },
     "execution_count": 50,
     "metadata": {},
     "output_type": "execute_result"
    }
   ],
   "source": [
    "[x + 3 for x in mylist]"
   ]
  },
  {
   "cell_type": "markdown",
   "id": "9f0f933e-9dcc-4099-b5f7-77326e0f6632",
   "metadata": {},
   "source": [
    "Voyons maintenant comment cela fonctionne pour un tableau Numpy :"
   ]
  },
  {
   "cell_type": "code",
   "execution_count": 51,
   "id": "dd910280-240e-4dcf-b17f-83e891cd79a2",
   "metadata": {
    "tags": []
   },
   "outputs": [],
   "source": [
    "myarray = np.array(mylist)"
   ]
  },
  {
   "cell_type": "code",
   "execution_count": 52,
   "id": "ae702bea-c1ab-4169-925f-c91218b8a152",
   "metadata": {
    "tags": []
   },
   "outputs": [
    {
     "data": {
      "text/plain": [
       "array([4, 5, 6, 7, 8])"
      ]
     },
     "execution_count": 52,
     "metadata": {},
     "output_type": "execute_result"
    }
   ],
   "source": [
    "myarray + 3"
   ]
  },
  {
   "cell_type": "markdown",
   "id": "b1fcac2e-09f8-4929-9548-8b4843664fe7",
   "metadata": {},
   "source": [
    "Numpy comprend sans problème que notre objectif est d'ajouter la valeur 3 à *chaque élément* de notre liste. Naturellement, cela est indépendant de la dimension, par exemple :"
   ]
  },
  {
   "cell_type": "code",
   "execution_count": 53,
   "id": "10c2acf2-4d33-4be9-89af-89e16392c9e2",
   "metadata": {
    "tags": []
   },
   "outputs": [
    {
     "data": {
      "text/plain": [
       "array([[1., 1., 1., 1., 1., 1.],\n",
       "       [1., 1., 1., 1., 1., 1.],\n",
       "       [1., 1., 1., 1., 1., 1.]])"
      ]
     },
     "execution_count": 53,
     "metadata": {},
     "output_type": "execute_result"
    }
   ],
   "source": [
    "my2d_array = np.ones((3,6))\n",
    "my2d_array"
   ]
  },
  {
   "cell_type": "code",
   "execution_count": 54,
   "id": "b40fc5cc-97dc-48da-8caa-edebf87625fd",
   "metadata": {
    "tags": []
   },
   "outputs": [
    {
     "data": {
      "text/plain": [
       "array([[4., 4., 4., 4., 4., 4.],\n",
       "       [4., 4., 4., 4., 4., 4.],\n",
       "       [4., 4., 4., 4., 4., 4.]])"
      ]
     },
     "execution_count": 54,
     "metadata": {},
     "output_type": "execute_result"
    }
   ],
   "source": [
    "my2d_array + 3"
   ]
  },
  {
   "cell_type": "markdown",
   "id": "d1fc0599-9b40-4e67-8675-bf779d2b9fb7",
   "metadata": {},
   "source": [
    "Bien entendu, tant que nous ne réaffectons pas ce nouvel état à notre variable, il reste inchangé :"
   ]
  },
  {
   "cell_type": "markdown",
   "id": "9ff0995f-9179-48ba-858b-fe433a878f72",
   "metadata": {},
   "source": [
    "Ce code crée d'abord un tableau 2D de taille 3x6 rempli de 1 en utilisant la fonction `np.ones` de la bibliothèque NumPy. Ensuite, il ajoute 3 à chaque élément du tableau.\n",
    "\n",
    "Voici ce que fait chaque ligne de code :\n",
    "\n",
    "- `my2d_array = np.ones((3,6))` : Crée un tableau 2D de taille 3x6 rempli de 1. La fonction `np.ones` prend un tuple représentant la forme du tableau à créer et renvoie un nouveau tableau rempli de 1.\n",
    "- `my2d_array + 3` : Ajoute 3 à chaque élément du tableau. Lorsque vous ajoutez un nombre à un tableau NumPy, l'opération est effectuée élément par élément. C'est ce qu'on appelle le \"broadcasting\" en NumPy.\n",
    "\n",
    "Donc, après l'exécution de ce code, `my2d_array` sera un tableau 2D de taille 3x6 rempli de 4."
   ]
  },
  {
   "cell_type": "code",
   "execution_count": 55,
   "id": "370cbc24-9935-4d44-a3d5-94a8e5fa894c",
   "metadata": {
    "tags": []
   },
   "outputs": [
    {
     "data": {
      "text/plain": [
       "array([[1., 1., 1., 1., 1., 1.],\n",
       "       [1., 1., 1., 1., 1., 1.],\n",
       "       [1., 1., 1., 1., 1., 1.]])"
      ]
     },
     "execution_count": 55,
     "metadata": {},
     "output_type": "execute_result"
    }
   ],
   "source": [
    "my2d_array"
   ]
  },
  {
   "cell_type": "markdown",
   "id": "5f3d5b58-5e13-4b9a-a985-12d1911a69ed",
   "metadata": {},
   "source": [
    "Il faut écrire :"
   ]
  },
  {
   "cell_type": "code",
   "execution_count": 56,
   "id": "63a9351b-8ee3-4d3f-89b5-a201f065df0b",
   "metadata": {
    "tags": []
   },
   "outputs": [],
   "source": [
    "my2d_array = my2d_array + 3"
   ]
  },
  {
   "cell_type": "code",
   "execution_count": 57,
   "id": "224bf947-14da-4413-a625-0331fd44d22f",
   "metadata": {
    "tags": []
   },
   "outputs": [
    {
     "data": {
      "text/plain": [
       "array([[4., 4., 4., 4., 4., 4.],\n",
       "       [4., 4., 4., 4., 4., 4.],\n",
       "       [4., 4., 4., 4., 4., 4.]])"
      ]
     },
     "execution_count": 57,
     "metadata": {},
     "output_type": "execute_result"
    }
   ],
   "source": [
    "my2d_array"
   ]
  },
  {
   "cell_type": "code",
   "execution_count": 58,
   "id": "48dc5915-946e-4de2-8834-85e4a5485fc3",
   "metadata": {
    "tags": []
   },
   "outputs": [
    {
     "data": {
      "text/plain": [
       "array([[16., 16., 16., 16., 16., 16.],\n",
       "       [16., 16., 16., 16., 16., 16.],\n",
       "       [16., 16., 16., 16., 16., 16.]])"
      ]
     },
     "execution_count": 58,
     "metadata": {},
     "output_type": "execute_result"
    }
   ],
   "source": [
    "my2d_array * 4"
   ]
  },
  {
   "cell_type": "code",
   "execution_count": 59,
   "id": "b16a094d-4f52-4b43-a466-a20ba969e814",
   "metadata": {
    "tags": []
   },
   "outputs": [
    {
     "data": {
      "text/plain": [
       "array([[0.8, 0.8, 0.8, 0.8, 0.8, 0.8],\n",
       "       [0.8, 0.8, 0.8, 0.8, 0.8, 0.8],\n",
       "       [0.8, 0.8, 0.8, 0.8, 0.8, 0.8]])"
      ]
     },
     "execution_count": 59,
     "metadata": {},
     "output_type": "execute_result"
    }
   ],
   "source": [
    "my2d_array / 5"
   ]
  },
  {
   "cell_type": "code",
   "execution_count": 60,
   "id": "0a20cd14-0db3-4520-83dc-1652ad56552a",
   "metadata": {
    "tags": []
   },
   "outputs": [
    {
     "data": {
      "text/plain": [
       "array([[1024., 1024., 1024., 1024., 1024., 1024.],\n",
       "       [1024., 1024., 1024., 1024., 1024., 1024.],\n",
       "       [1024., 1024., 1024., 1024., 1024., 1024.]])"
      ]
     },
     "execution_count": 60,
     "metadata": {},
     "output_type": "execute_result"
    }
   ],
   "source": [
    "my2d_array ** 5"
   ]
  },
  {
   "cell_type": "markdown",
   "id": "c51d1ae3-9e5b-4d6e-8da7-373ddff4f291",
   "metadata": {},
   "source": [
    "## 2.2. Fonctions Mathématiques \n",
    "\n",
    "En plus de l'arithmétique simple, Numpy propose un vaste choix de fonctions pouvant être directement appliquées aux tableaux. Par exemple la trigonométrie :"
   ]
  },
  {
   "cell_type": "code",
   "execution_count": 61,
   "id": "2dbb348b-9465-4c27-a654-ec0cb6853b8d",
   "metadata": {
    "tags": []
   },
   "outputs": [
    {
     "data": {
      "text/plain": [
       "array([ 0.54030231, -0.41614684, -0.9899925 , -0.65364362,  0.28366219])"
      ]
     },
     "execution_count": 61,
     "metadata": {},
     "output_type": "execute_result"
    }
   ],
   "source": [
    "np.cos(myarray)"
   ]
  },
  {
   "cell_type": "markdown",
   "id": "58b9a759-dc99-4ad0-b873-afc11a88494a",
   "metadata": {},
   "source": [
    "Exponentielles et logs :"
   ]
  },
  {
   "cell_type": "code",
   "execution_count": 62,
   "id": "81ed06e3-964d-4b51-80c1-8a2507ef62fc",
   "metadata": {
    "tags": []
   },
   "outputs": [
    {
     "data": {
      "text/plain": [
       "array([  2.71828183,   7.3890561 ,  20.08553692,  54.59815003,\n",
       "       148.4131591 ])"
      ]
     },
     "execution_count": 62,
     "metadata": {},
     "output_type": "execute_result"
    }
   ],
   "source": [
    "np.exp(myarray)"
   ]
  },
  {
   "cell_type": "code",
   "execution_count": 63,
   "id": "6334a23c-7841-4f7d-a322-8b0dcf3bcb31",
   "metadata": {
    "tags": []
   },
   "outputs": [
    {
     "data": {
      "text/plain": [
       "array([0.        , 0.30103   , 0.47712125, 0.60205999, 0.69897   ])"
      ]
     },
     "execution_count": 63,
     "metadata": {},
     "output_type": "execute_result"
    }
   ],
   "source": [
    "np.log10(myarray)"
   ]
  },
  {
   "cell_type": "markdown",
   "id": "ae932489-9b95-45e7-9983-bf3c9d4fd687",
   "metadata": {},
   "source": [
    "## 2.3 Opérations logiques"
   ]
  },
  {
   "cell_type": "markdown",
   "id": "f8e8e8ce-f21f-4e19-ac31-bd7e58b4db28",
   "metadata": {},
   "source": [
    "Si nous utilisons une comparaison logique sur une variable régulière, le résultat est un *booléen* (Vrai ou Faux) qui décrit le résultat de la comparaison :"
   ]
  },
  {
   "cell_type": "code",
   "execution_count": 64,
   "id": "21491fe5-daee-41c6-bdc7-17b51108b3a2",
   "metadata": {
    "tags": []
   },
   "outputs": [
    {
     "data": {
      "text/plain": [
       "False"
      ]
     },
     "execution_count": 64,
     "metadata": {},
     "output_type": "execute_result"
    }
   ],
   "source": [
    "a = 3\n",
    "b = 2\n",
    "a > 3"
   ]
  },
  {
   "cell_type": "markdown",
   "id": "f28cc6f8-9e50-428a-93db-a7163ad009fc",
   "metadata": {},
   "source": [
    "Nous pouvons faire exactement la même chose avec les tableaux. Lorsque nous ajoutions 3 à un tableau, cette valeur était automatiquement ajoutée à chaque élément du tableau. Avec les opérations logiques, la comparaison est également effectuée pour chaque élément du tableau résultant en un tableau booléen :"
   ]
  },
  {
   "cell_type": "code",
   "execution_count": 65,
   "id": "7dce1de1-29d2-4ea2-b94a-b23fb0a6c7e0",
   "metadata": {
    "tags": []
   },
   "outputs": [
    {
     "data": {
      "text/plain": [
       "array([[0., 0., 0., 0.],\n",
       "       [0., 0., 0., 0.],\n",
       "       [0., 0., 0., 1.],\n",
       "       [0., 0., 0., 0.]])"
      ]
     },
     "execution_count": 65,
     "metadata": {},
     "output_type": "execute_result"
    }
   ],
   "source": [
    "myarray = np.zeros((4,4))\n",
    "myarray[2,3] = 1\n",
    "myarray"
   ]
  },
  {
   "cell_type": "code",
   "execution_count": 66,
   "id": "27f9ffa7-a136-4783-a277-54e232b912ee",
   "metadata": {
    "tags": []
   },
   "outputs": [
    {
     "data": {
      "text/plain": [
       "array([[False, False, False, False],\n",
       "       [False, False, False, False],\n",
       "       [False, False, False,  True],\n",
       "       [False, False, False, False]])"
      ]
     },
     "execution_count": 66,
     "metadata": {},
     "output_type": "execute_result"
    }
   ],
   "source": [
    "myarray > 0"
   ]
  },
  {
   "cell_type": "code",
   "execution_count": 67,
   "id": "56301bb1-aceb-4724-b34f-b7a303842001",
   "metadata": {
    "tags": []
   },
   "outputs": [],
   "source": [
    "myboolean = myarray > 0"
   ]
  },
  {
   "cell_type": "code",
   "execution_count": 68,
   "id": "aae85e7d-9ff3-4760-bcdd-3198a6f46927",
   "metadata": {
    "tags": []
   },
   "outputs": [
    {
     "data": {
      "text/plain": [
       "array([[False, False, False, False],\n",
       "       [False, False, False, False],\n",
       "       [False, False, False,  True],\n",
       "       [False, False, False, False]])"
      ]
     },
     "execution_count": 68,
     "metadata": {},
     "output_type": "execute_result"
    }
   ],
   "source": [
    "myboolean"
   ]
  },
  {
   "cell_type": "markdown",
   "id": "388c899c-ccb6-4d79-88e1-9a312610fda9",
   "metadata": {},
   "source": [
    "## 2.4 Méthodes modifiant les dimensions du tableau"
   ]
  },
  {
   "cell_type": "markdown",
   "id": "480d5e82-7ff6-4de4-814d-d07f6a2d590e",
   "metadata": {},
   "source": [
    "Les opérations décrites ci-dessus ont été appliquées *élément par élément*. Cependant, nous devons parfois effectuer des opérations soit au niveau du tableau, soit sur certains de ses axes. Par exemple, nous avons très souvent besoin de statistiques sur un tableau (moyenne, somme etc.)"
   ]
  },
  {
   "cell_type": "code",
   "execution_count": 69,
   "id": "6d2456fd-9da7-4542-a809-0b374b87ce2d",
   "metadata": {
    "tags": []
   },
   "outputs": [
    {
     "data": {
      "text/plain": [
       "array([[10.95746191, 12.1095699 ,  8.37574309, 11.26263089],\n",
       "       [ 9.08308499,  9.26279377, 11.91297493,  9.11225926],\n",
       "       [10.23826543,  7.6262596 , 13.40649753, 12.15728512]])"
      ]
     },
     "execution_count": 69,
     "metadata": {},
     "output_type": "execute_result"
    }
   ],
   "source": [
    "nd_array = np.random.normal(10, 2, (3,4))\n",
    "nd_array"
   ]
  },
  {
   "cell_type": "code",
   "execution_count": 70,
   "id": "4f939236-bc9c-4e7a-bf3b-0d828e52d4d4",
   "metadata": {
    "tags": []
   },
   "outputs": [
    {
     "data": {
      "text/plain": [
       "10.458735535730197"
      ]
     },
     "execution_count": 70,
     "metadata": {},
     "output_type": "execute_result"
    }
   ],
   "source": [
    "np.mean(nd_array)"
   ]
  },
  {
   "cell_type": "code",
   "execution_count": 71,
   "id": "e2dcf27e-f568-4dec-8628-95d505c4f593",
   "metadata": {
    "tags": []
   },
   "outputs": [
    {
     "data": {
      "text/plain": [
       "1.7042957379156738"
      ]
     },
     "execution_count": 71,
     "metadata": {},
     "output_type": "execute_result"
    }
   ],
   "source": [
    "np.std(nd_array)"
   ]
  },
  {
   "cell_type": "markdown",
   "id": "1ea91a08-5732-4a28-b015-c18f7fa32122",
   "metadata": {
    "tags": []
   },
   "source": [
    "Ou la valeur maximale :"
   ]
  },
  {
   "cell_type": "code",
   "execution_count": 73,
   "id": "f8bdf972-cdb5-47ff-9495-fb68d38c2f7e",
   "metadata": {
    "tags": []
   },
   "outputs": [
    {
     "data": {
      "text/plain": [
       "13.406497527965112"
      ]
     },
     "execution_count": 73,
     "metadata": {},
     "output_type": "execute_result"
    }
   ],
   "source": [
    "np.max(nd_array)"
   ]
  },
  {
   "cell_type": "markdown",
   "id": "11790665-c141-4c8c-8119-61e41f205d41",
   "metadata": {},
   "source": [
    "Notez que plusieurs de ces fonctions peuvent être appelées comme méthodes de tableau au lieu de fonctions numpy :"
   ]
  },
  {
   "cell_type": "markdown",
   "id": "e82d1aa1-612b-48f7-b68c-8a0c2ea755aa",
   "metadata": {
    "tags": []
   },
   "source": [
    "nd_array.mean()"
   ]
  },
  {
   "cell_type": "code",
   "execution_count": 75,
   "id": "cd512b3b-bc71-4804-a6f5-08d803dabb8d",
   "metadata": {
    "tags": []
   },
   "outputs": [
    {
     "data": {
      "text/plain": [
       "13.406497527965112"
      ]
     },
     "execution_count": 75,
     "metadata": {},
     "output_type": "execute_result"
    }
   ],
   "source": [
    "nd_array.max()"
   ]
  },
  {
   "cell_type": "markdown",
   "id": "be007f02-1e2e-4e8a-b5bb-2eff0b986169",
   "metadata": {},
   "source": [
    "Notez que la plupart des fonctions peuvent être appliquées à des axes spécifiques. Rappelons que nos tableaux sont :"
   ]
  },
  {
   "cell_type": "code",
   "execution_count": 76,
   "id": "a8888e29-53fc-47ae-bbf1-fad4dd3c08ca",
   "metadata": {
    "tags": []
   },
   "outputs": [
    {
     "data": {
      "text/plain": [
       "array([[10.95746191, 12.1095699 ,  8.37574309, 11.26263089],\n",
       "       [ 9.08308499,  9.26279377, 11.91297493,  9.11225926],\n",
       "       [10.23826543,  7.6262596 , 13.40649753, 12.15728512]])"
      ]
     },
     "execution_count": 76,
     "metadata": {},
     "output_type": "execute_result"
    }
   ],
   "source": [
    "nd_array"
   ]
  },
  {
   "cell_type": "markdown",
   "id": "c2affc07-6c33-4894-adbc-41f2befc9162",
   "metadata": {},
   "source": [
    "On peut par exemple faire une projection maximale le long du premier axe (lignes) : la valeur maximale de chaque colonne est conservée :"
   ]
  },
  {
   "cell_type": "code",
   "execution_count": 77,
   "id": "0d5a58e6-84e0-4d5d-942d-d4238e60a113",
   "metadata": {
    "tags": []
   },
   "outputs": [
    {
     "data": {
      "text/plain": [
       "array([10.95746191, 12.1095699 , 13.40649753, 12.15728512])"
      ]
     },
     "execution_count": 77,
     "metadata": {},
     "output_type": "execute_result"
    }
   ],
   "source": [
    "proj0 = nd_array.max(axis=0)\n",
    "proj0"
   ]
  },
  {
   "cell_type": "code",
   "execution_count": 78,
   "id": "590425d1-cbce-45c0-8f23-a12124bcb89a",
   "metadata": {
    "tags": []
   },
   "outputs": [
    {
     "data": {
      "text/plain": [
       "(4,)"
      ]
     },
     "execution_count": 78,
     "metadata": {},
     "output_type": "execute_result"
    }
   ],
   "source": [
    "proj0.shape"
   ]
  },
  {
   "cell_type": "markdown",
   "id": "dfa24d35-b7b1-40a2-87d5-21690aa09918",
   "metadata": {},
   "source": [
    "On peut bien sûr faire la même opération pour le deuxième axe :"
   ]
  },
  {
   "cell_type": "code",
   "execution_count": 79,
   "id": "a51f4f0c-836d-4f3a-a7a8-a8b07c8d40b8",
   "metadata": {
    "tags": []
   },
   "outputs": [
    {
     "data": {
      "text/plain": [
       "array([12.1095699 , 11.91297493, 13.40649753])"
      ]
     },
     "execution_count": 79,
     "metadata": {},
     "output_type": "execute_result"
    }
   ],
   "source": [
    "proj1 = nd_array.max(axis=1)\n",
    "proj1"
   ]
  },
  {
   "cell_type": "code",
   "execution_count": 80,
   "id": "34203b35-cb44-4b27-91f0-7f0d36c7a17d",
   "metadata": {
    "tags": []
   },
   "outputs": [
    {
     "data": {
      "text/plain": [
       "(3,)"
      ]
     },
     "execution_count": 80,
     "metadata": {},
     "output_type": "execute_result"
    }
   ],
   "source": [
    "proj1.shape"
   ]
  },
  {
   "cell_type": "markdown",
   "id": "d1fc6c2a-f87e-4752-9852-b82f959246e3",
   "metadata": {},
   "source": [
    "Il existe bien sûr des fonctions plus avancées. Par exemple une somme cumulée :"
   ]
  },
  {
   "cell_type": "code",
   "execution_count": 81,
   "id": "5776cb4c-668a-42d9-b216-8e0d07cd2dbf",
   "metadata": {
    "tags": []
   },
   "outputs": [
    {
     "data": {
      "text/plain": [
       "array([ 10.95746191,  23.06703182,  31.44277491,  42.7054058 ,\n",
       "        51.78849079,  61.05128456,  72.96425949,  82.07651875,\n",
       "        92.31478419,  99.94104378, 113.34754131, 125.50482643])"
      ]
     },
     "execution_count": 81,
     "metadata": {},
     "output_type": "execute_result"
    }
   ],
   "source": [
    "np.cumsum(nd_array)"
   ]
  },
  {
   "cell_type": "markdown",
   "id": "b17203ca-5982-45a9-86ed-66c2c47cf087",
   "metadata": {},
   "source": [
    "# 3. Indexation, découpage (Indexing, Slicing)\n",
    "\n",
    "Chaque élément d'un tableau peut être localisé par sa position dans chaque dimension. Numpy offre plusieurs façons d'accéder à des éléments uniques ou à des groupes d'éléments de manière très efficace. Nous illustrerons ces concepts à la fois avec de petites matrices simples ainsi qu'une image régulière, afin de les illustrer."
   ]
  },
  {
   "cell_type": "code",
   "execution_count": 82,
   "id": "3c76c17a-490d-4487-b8ac-35e9a2c134d5",
   "metadata": {
    "tags": []
   },
   "outputs": [
    {
     "data": {
      "text/plain": [
       "<Figure size 640x480 with 0 Axes>"
      ]
     },
     "metadata": {},
     "output_type": "display_data"
    }
   ],
   "source": [
    "import numpy as np\n",
    "import matplotlib.pyplot as plt\n",
    "plt.gray();\n",
    "import skimage"
   ]
  },
  {
   "cell_type": "markdown",
   "id": "2a3ef179-1e3e-4a2a-bc20-36838a95b74b",
   "metadata": {},
   "source": [
    "Nous chargeons d'abord une image incluse dans le package scikit-image :"
   ]
  },
  {
   "cell_type": "code",
   "execution_count": 83,
   "id": "e0af970b-c92f-435b-83cc-bc2e7e08f642",
   "metadata": {
    "tags": []
   },
   "outputs": [
    {
     "data": {
      "image/png": "[encoded data removed]",
      "text/plain": [
       "<Figure size 640x480 with 1 Axes>"
      ]
     },
     "metadata": {},
     "output_type": "display_data"
    }
   ],
   "source": [
    "image = skimage.data.chelsea()\n",
    "plt.imshow(image);"
   ]
  },
  {
   "cell_type": "code",
   "execution_count": 84,
   "id": "b5b70d2e-2b54-4f44-a253-a19883343875",
   "metadata": {
    "tags": []
   },
   "outputs": [
    {
     "data": {
      "text/plain": [
       "(300, 451, 3)"
      ]
     },
     "execution_count": 84,
     "metadata": {},
     "output_type": "execute_result"
    }
   ],
   "source": [
    "image.shape"
   ]
  },
  {
   "cell_type": "code",
   "execution_count": 85,
   "id": "fdcc21a7-f46a-4317-b2b2-6a2b39a72c4b",
   "metadata": {
    "tags": []
   },
   "outputs": [
    {
     "data": {
      "text/plain": [
       "array([[10.59000935,  6.55699589, 13.30649576,  8.31006014],\n",
       "       [10.66785851,  9.38569605,  8.31509551,  7.95630142],\n",
       "       [ 9.74167678, 13.45592004, 10.39077585,  8.37291213]])"
      ]
     },
     "execution_count": 85,
     "metadata": {},
     "output_type": "execute_result"
    }
   ],
   "source": [
    "normal_array = np.random.normal(10, 2, (3,4))\n",
    "normal_array"
   ]
  },
  {
   "cell_type": "markdown",
   "id": "4ff1a15a-1d9f-40b9-8225-6c4d59c29cfa",
   "metadata": {},
   "source": [
    "Il est très simple d'accéder aux valeurs d'un tableau. On peut simplement passer un *index* pour chaque dimension. Par exemple pour récupérer la valeur de la dernière ligne et de la deuxième colonne du tableau ```normal_array``` il suffit d'écrire (rappelez-vous que le comptage commence à 0) :"
   ]
  },
  {
   "cell_type": "code",
   "execution_count": 86,
   "id": "9470772f-9fba-4eb3-affe-2e52c3331fea",
   "metadata": {
    "tags": []
   },
   "outputs": [
    {
     "data": {
      "text/plain": [
       "13.455920042151321"
      ]
     },
     "execution_count": 86,
     "metadata": {},
     "output_type": "execute_result"
    }
   ],
   "source": [
    "single_value = normal_array[2,1]\n",
    "single_value"
   ]
  },
  {
   "cell_type": "markdown",
   "id": "bc838f64-c6d4-4114-9763-eafb8f2782c8",
   "metadata": {},
   "source": [
    "Ce qui est renvoyé dans ce cas est un numéro unique que nous pouvons réutiliser :"
   ]
  },
  {
   "cell_type": "code",
   "execution_count": 87,
   "id": "bbb8d63e-5cb7-4609-b633-eb65e5033ff3",
   "metadata": {
    "tags": []
   },
   "outputs": [
    {
     "data": {
      "text/plain": [
       "23.45592004215132"
      ]
     },
     "execution_count": 87,
     "metadata": {},
     "output_type": "execute_result"
    }
   ],
   "source": [
    "single_value += 10\n",
    "single_value"
   ]
  },
  {
   "cell_type": "markdown",
   "id": "07639475-1197-4d88-8378-7d26c5fdb8cb",
   "metadata": {},
   "source": [
    "Et ce changement n'affecte pas la valeur d'origine dans le tableau :"
   ]
  },
  {
   "cell_type": "code",
   "execution_count": 88,
   "id": "a87e034c-b143-4a79-a964-fa7a2ff9efad",
   "metadata": {
    "tags": []
   },
   "outputs": [
    {
     "data": {
      "text/plain": [
       "array([[10.59000935,  6.55699589, 13.30649576,  8.31006014],\n",
       "       [10.66785851,  9.38569605,  8.31509551,  7.95630142],\n",
       "       [ 9.74167678, 13.45592004, 10.39077585,  8.37291213]])"
      ]
     },
     "execution_count": 88,
     "metadata": {},
     "output_type": "execute_result"
    }
   ],
   "source": [
    "normal_array"
   ]
  },
  {
   "cell_type": "markdown",
   "id": "1e400868-2d12-4ef0-9faa-d796891249cb",
   "metadata": {},
   "source": [
    "Cependant on peut aussi changer directement la valeur dans un tableau :"
   ]
  },
  {
   "cell_type": "code",
   "execution_count": 89,
   "id": "04ddfe45-6d27-4081-aa7f-d1a77fcd8300",
   "metadata": {
    "tags": []
   },
   "outputs": [
    {
     "data": {
      "text/plain": [
       "array([[10.59000935,  6.55699589, 13.30649576,  8.31006014],\n",
       "       [10.66785851,  9.38569605,  8.31509551,  7.95630142],\n",
       "       [ 9.74167678, 23.        , 10.39077585,  8.37291213]])"
      ]
     },
     "execution_count": 89,
     "metadata": {},
     "output_type": "execute_result"
    }
   ],
   "source": [
    "normal_array[2,1] = 23\n",
    "normal_array"
   ]
  },
  {
   "cell_type": "markdown",
   "id": "0b7d0e1b-4e39-40af-b0e8-f648a8c1b337",
   "metadata": {},
   "source": [
    "## 3.1 Accéder à une partie d'un tableau avec des indices : slicing"
   ]
  },
  {
   "cell_type": "markdown",
   "id": "0ef15fba-3cb1-41c9-bffe-815ded506f9a",
   "metadata": {},
   "source": [
    "### 3.1.1 Sélection d'une plage d'éléments\n",
    "\n",
    "On peut également sélectionner plusieurs éléments dans chaque dimension (par exemple plusieurs lignes et colonnes en 2D) en utilisant la syntaxe ```start:end:step```. Par défaut, si omis, ```start=0```, ```end=last element``` et ```step=1```. Par exemple pour sélectionner les première **et** deuxième lignes de la première colonne, on peut écrire :"
   ]
  },
  {
   "cell_type": "code",
   "execution_count": 90,
   "id": "be6cca64-e97c-478c-b0cf-078f7360ead0",
   "metadata": {
    "tags": []
   },
   "outputs": [
    {
     "data": {
      "text/plain": [
       "array([10.59000935, 10.66785851])"
      ]
     },
     "execution_count": 90,
     "metadata": {},
     "output_type": "execute_result"
    }
   ],
   "source": [
    "normal_array[0:2,0]"
   ]
  },
  {
   "cell_type": "markdown",
   "id": "1c8cb106-eddc-42b1-b113-1bb5842223d0",
   "metadata": {},
   "source": [
    "Notez que l'élément ```end``` n'est **pas** inclus. On peut utiliser la même notation pour toutes les dimensions :"
   ]
  },
  {
   "cell_type": "code",
   "execution_count": 91,
   "id": "98760695-9b83-4618-8b56-31373116ba67",
   "metadata": {
    "tags": []
   },
   "outputs": [
    {
     "data": {
      "text/plain": [
       "array([[13.30649576,  8.31006014],\n",
       "       [ 8.31509551,  7.95630142]])"
      ]
     },
     "execution_count": 91,
     "metadata": {},
     "output_type": "execute_result"
    }
   ],
   "source": [
    "normal_array[0:2,2:4]"
   ]
  },
  {
   "cell_type": "code",
   "execution_count": 92,
   "id": "85abfa28-a5b6-484e-878b-01f956c43ac9",
   "metadata": {
    "tags": []
   },
   "outputs": [
    {
     "data": {
      "text/plain": [
       "array([[ 8.31509551,  7.95630142],\n",
       "       [10.39077585,  8.37291213]])"
      ]
     },
     "execution_count": 92,
     "metadata": {},
     "output_type": "execute_result"
    }
   ],
   "source": [
    "normal_array[1:,2:4]"
   ]
  },
  {
   "cell_type": "markdown",
   "id": "4adb545e-4ff2-4b8d-847f-fcf2dd569d96",
   "metadata": {},
   "source": [
    "### 3.2.1 Sélection de tous les éléments\n",
    "Si nous spécifions seulement ```:```, cela signifie que nous voulons récupérer tous les éléments de cette dimension :"
   ]
  },
  {
   "cell_type": "code",
   "execution_count": 93,
   "id": "2588e4ba-a9cf-43da-97d1-99a72e00d2da",
   "metadata": {
    "tags": []
   },
   "outputs": [
    {
     "data": {
      "text/plain": [
       "array([[13.30649576,  8.31006014],\n",
       "       [ 8.31509551,  7.95630142],\n",
       "       [10.39077585,  8.37291213]])"
      ]
     },
     "execution_count": 93,
     "metadata": {},
     "output_type": "execute_result"
    }
   ],
   "source": [
    "normal_array[:,2:4]"
   ]
  },
  {
   "cell_type": "markdown",
   "id": "787d5036-8a56-4c64-943f-b40a326f7a70",
   "metadata": {
    "tags": []
   },
   "source": [
    "De manière générale également, si vous ne spécifiez la valeur que pour un seul axe, cela prendra le premier élément de la première dimension :"
   ]
  },
  {
   "cell_type": "code",
   "execution_count": 95,
   "id": "41cc2940-4025-4a2e-a4e0-269868dca145",
   "metadata": {
    "tags": []
   },
   "outputs": [
    {
     "data": {
      "text/plain": [
       "array([[10.59000935,  6.55699589, 13.30649576,  8.31006014],\n",
       "       [10.66785851,  9.38569605,  8.31509551,  7.95630142],\n",
       "       [ 9.74167678, 23.        , 10.39077585,  8.37291213]])"
      ]
     },
     "execution_count": 95,
     "metadata": {},
     "output_type": "execute_result"
    }
   ],
   "source": [
    "normal_array"
   ]
  },
  {
   "cell_type": "code",
   "execution_count": 96,
   "id": "7d9ffd2d-45c1-4710-94ce-004d14543fe6",
   "metadata": {
    "tags": []
   },
   "outputs": [
    {
     "data": {
      "text/plain": [
       "array([10.66785851,  9.38569605,  8.31509551,  7.95630142])"
      ]
     },
     "execution_count": 96,
     "metadata": {},
     "output_type": "execute_result"
    }
   ],
   "source": [
    "normal_array[1]"
   ]
  },
  {
   "cell_type": "code",
   "execution_count": 97,
   "id": "08027cc6-1a03-47be-8ecf-526f2dab34a6",
   "metadata": {
    "tags": []
   },
   "outputs": [
    {
     "data": {
      "text/plain": [
       "array([10.59000935,  6.55699589, 13.30649576,  8.31006014])"
      ]
     },
     "execution_count": 97,
     "metadata": {},
     "output_type": "execute_result"
    }
   ],
   "source": [
    "normal_array[0,:]"
   ]
  },
  {
   "cell_type": "code",
   "execution_count": 98,
   "id": "caea46f2-d97e-48db-8892-281f5a30237f",
   "metadata": {
    "tags": []
   },
   "outputs": [
    {
     "data": {
      "text/plain": [
       "(4,)"
      ]
     },
     "execution_count": 98,
     "metadata": {},
     "output_type": "execute_result"
    }
   ],
   "source": [
    "normal_array[0,:].shape"
   ]
  },
  {
   "cell_type": "markdown",
   "id": "bf772c13-3a03-43e1-bc98-b5f5decb2933",
   "metadata": {},
   "source": [
    "Au lieu de cela, si vous spécifiez des limites réelles qui ne renvoient toujours qu'une seule ligne :"
   ]
  },
  {
   "cell_type": "code",
   "execution_count": 99,
   "id": "a55375cd-e86b-4b04-9ce1-09b6dcc9d5a2",
   "metadata": {
    "tags": []
   },
   "outputs": [
    {
     "data": {
      "text/plain": [
       "array([[10.59000935,  6.55699589, 13.30649576,  8.31006014]])"
      ]
     },
     "execution_count": 99,
     "metadata": {},
     "output_type": "execute_result"
    }
   ],
   "source": [
    "normal_array[0:1,:]"
   ]
  },
  {
   "cell_type": "code",
   "execution_count": 100,
   "id": "097370f4-a442-4eaf-a69c-9f705129773e",
   "metadata": {
    "tags": []
   },
   "outputs": [
    {
     "data": {
      "text/plain": [
       "(1, 4)"
      ]
     },
     "execution_count": 100,
     "metadata": {},
     "output_type": "execute_result"
    }
   ],
   "source": [
    "normal_array[0:1,:].shape"
   ]
  },
  {
   "cell_type": "markdown",
   "id": "5dbbd6d5-9a0e-4c88-93c2-cb8c22be9faa",
   "metadata": {},
   "source": [
    "vous récupérez un tableau dimensionnel de remorquage où l'une des dimensions a une taille de 1."
   ]
  },
  {
   "cell_type": "markdown",
   "id": "ab053075-9bd4-49a9-8ddc-3de620918205",
   "metadata": {},
   "source": [
    "## 3.3 Les sous-tableaux ne sont pas des copies !\n",
    "\n",
    "Comme souvent avec Python lorsque vous créez une nouvelle variable à l'aide d'un sous-tableau, cette variable **n'est pas indépendante** de la variable d'origine :"
   ]
  },
  {
   "cell_type": "code",
   "execution_count": 104,
   "id": "16770f2b-3355-4bf6-b24d-c8397ed3c94b",
   "metadata": {
    "tags": []
   },
   "outputs": [],
   "source": [
    "sub_array = normal_array[:,2:4]"
   ]
  },
  {
   "cell_type": "code",
   "execution_count": 105,
   "id": "971ceefe-dfe1-4224-9992-e6f92ec88c66",
   "metadata": {
    "tags": []
   },
   "outputs": [
    {
     "data": {
      "text/plain": [
       "array([[13.30649576,  8.31006014],\n",
       "       [ 8.31509551,  7.95630142],\n",
       "       [10.39077585,  8.37291213]])"
      ]
     },
     "execution_count": 105,
     "metadata": {},
     "output_type": "execute_result"
    }
   ],
   "source": [
    "sub_array"
   ]
  },
  {
   "cell_type": "code",
   "execution_count": 106,
   "id": "5a2dc990-9d64-495f-a10c-99dad3941208",
   "metadata": {
    "tags": []
   },
   "outputs": [
    {
     "data": {
      "text/plain": [
       "array([[10.59000935,  6.55699589, 13.30649576,  8.31006014],\n",
       "       [10.66785851,  9.38569605,  8.31509551,  7.95630142],\n",
       "       [ 9.74167678, 23.        , 10.39077585,  8.37291213]])"
      ]
     },
     "execution_count": 106,
     "metadata": {},
     "output_type": "execute_result"
    }
   ],
   "source": [
    "normal_array"
   ]
  },
  {
   "cell_type": "markdown",
   "id": "069328e2-137e-4ef5-8da6-b8231af099fd",
   "metadata": {},
   "source": [
    "Si par exemple nous modifions ```normal_array```, cela se reflétera également dans ```sub_array``` :"
   ]
  },
  {
   "cell_type": "code",
   "execution_count": 107,
   "id": "16c63d06-9d35-4eea-a60e-03d674a68d6d",
   "metadata": {
    "tags": []
   },
   "outputs": [],
   "source": [
    "normal_array[0,2] = 100"
   ]
  },
  {
   "cell_type": "code",
   "execution_count": 108,
   "id": "24fe06ec-ca4a-4a1d-b5eb-2d9fb3ff50f0",
   "metadata": {
    "tags": []
   },
   "outputs": [
    {
     "data": {
      "text/plain": [
       "array([[ 10.59000935,   6.55699589, 100.        ,   8.31006014],\n",
       "       [ 10.66785851,   9.38569605,   8.31509551,   7.95630142],\n",
       "       [  9.74167678,  23.        ,  10.39077585,   8.37291213]])"
      ]
     },
     "execution_count": 108,
     "metadata": {},
     "output_type": "execute_result"
    }
   ],
   "source": [
    "normal_array"
   ]
  },
  {
   "cell_type": "markdown",
   "id": "9835c82c-eff3-4002-a2fc-21f98a1fc692",
   "metadata": {},
   "source": [
    "L’inverse est également vrai :"
   ]
  },
  {
   "cell_type": "code",
   "execution_count": 109,
   "id": "2243ade2-36a3-40f1-b9c3-c67c01b83498",
   "metadata": {
    "tags": []
   },
   "outputs": [],
   "source": [
    "sub_array[0,1] = 50"
   ]
  },
  {
   "cell_type": "code",
   "execution_count": 110,
   "id": "fa373aa9-0534-447e-8753-1590459f82da",
   "metadata": {
    "tags": []
   },
   "outputs": [
    {
     "data": {
      "text/plain": [
       "array([[100.        ,  50.        ],\n",
       "       [  8.31509551,   7.95630142],\n",
       "       [ 10.39077585,   8.37291213]])"
      ]
     },
     "execution_count": 110,
     "metadata": {},
     "output_type": "execute_result"
    }
   ],
   "source": [
    "sub_array"
   ]
  },
  {
   "cell_type": "code",
   "execution_count": 111,
   "id": "d1be8aef-205d-4e7d-84be-24d941e48ddf",
   "metadata": {
    "tags": []
   },
   "outputs": [
    {
     "data": {
      "text/plain": [
       "array([[ 10.59000935,   6.55699589, 100.        ,  50.        ],\n",
       "       [ 10.66785851,   9.38569605,   8.31509551,   7.95630142],\n",
       "       [  9.74167678,  23.        ,  10.39077585,   8.37291213]])"
      ]
     },
     "execution_count": 111,
     "metadata": {},
     "output_type": "execute_result"
    }
   ],
   "source": [
    "normal_array"
   ]
  },
  {
   "cell_type": "code",
   "execution_count": 112,
   "id": "97f96b63-7607-4be6-9ef2-94a500ab6ea3",
   "metadata": {
    "tags": []
   },
   "outputs": [],
   "source": [
    "sub_array_copy = normal_array[1:3,:].copy()"
   ]
  },
  {
   "cell_type": "markdown",
   "id": "85eb5cb2-0dc2-42f7-b055-a3ca79a8b750",
   "metadata": {},
   "source": [
    "Lorsque vous exécutez ce code, sub_array_copy affichera un nouveau tableau qui est une copie des lignes 2 et 3 de normal_array. La méthode copy() est utilisée pour s’assurer que la modification de sub_array_copy n’affectera pas normal_array."
   ]
  },
  {
   "cell_type": "code",
   "execution_count": 113,
   "id": "626f6010-2c1a-4d97-b819-b42c7de376a5",
   "metadata": {
    "tags": []
   },
   "outputs": [
    {
     "data": {
      "text/plain": [
       "array([[10.66785851,  9.38569605,  8.31509551,  7.95630142],\n",
       "       [ 9.74167678, 23.        , 10.39077585,  8.37291213]])"
      ]
     },
     "execution_count": 113,
     "metadata": {},
     "output_type": "execute_result"
    }
   ],
   "source": [
    "sub_array_copy"
   ]
  },
  {
   "cell_type": "code",
   "execution_count": 114,
   "id": "308ad183-8d5d-4ffc-85a1-e99825d3e557",
   "metadata": {
    "tags": []
   },
   "outputs": [],
   "source": [
    "sub_array_copy[0,0] = 500"
   ]
  },
  {
   "cell_type": "code",
   "execution_count": 115,
   "id": "b60efe3d-49e8-4704-8927-20e18f178789",
   "metadata": {
    "tags": []
   },
   "outputs": [
    {
     "data": {
      "text/plain": [
       "array([[500.        ,   9.38569605,   8.31509551,   7.95630142],\n",
       "       [  9.74167678,  23.        ,  10.39077585,   8.37291213]])"
      ]
     },
     "execution_count": 115,
     "metadata": {},
     "output_type": "execute_result"
    }
   ],
   "source": [
    "sub_array_copy"
   ]
  },
  {
   "cell_type": "code",
   "execution_count": null,
   "id": "76b06e7a-97fc-4f91-957b-be1665d2d733",
   "metadata": {},
   "outputs": [],
   "source": []
  },
  {
   "cell_type": "code",
   "execution_count": 116,
   "id": "3f44fbc8-d52f-47a4-b179-289e9c406b60",
   "metadata": {
    "tags": []
   },
   "outputs": [
    {
     "data": {
      "text/plain": [
       "array([[ 10.59000935,   6.55699589, 100.        ,  50.        ],\n",
       "       [ 10.66785851,   9.38569605,   8.31509551,   7.95630142],\n",
       "       [  9.74167678,  23.        ,  10.39077585,   8.37291213]])"
      ]
     },
     "execution_count": 116,
     "metadata": {},
     "output_type": "execute_result"
    }
   ],
   "source": [
    "normal_array"
   ]
  },
  {
   "cell_type": "markdown",
   "id": "bbfee3b5-2984-4781-a225-cc1f003ce64f",
   "metadata": {},
   "source": [
    "## 3.4. Accéder à des parties d'un tableau avec des coordonnées\n",
    "\n",
    "Dans le cas ci-dessus, nous sommes limités à sélectionner des sous-régions rectangulaires du tableau. Mais parfois on souhaite récupérer une série d'éléments spécifiques par exemple les éléments (row=0, column=3) et (row=2, column=2). Pour y parvenir on peut simplement indexer le tableau avec une liste contenant des indices de lignes et une autre avec des indices de colonnes :"
   ]
  },
  {
   "cell_type": "code",
   "execution_count": 117,
   "id": "2c56287b-3ba8-4dcd-a491-7893c204a5fe",
   "metadata": {
    "tags": []
   },
   "outputs": [
    {
     "data": {
      "text/plain": [
       "array([50.        , 10.39077585])"
      ]
     },
     "execution_count": 117,
     "metadata": {},
     "output_type": "execute_result"
    }
   ],
   "source": [
    "row_indices = [0,2]\n",
    "col_indices = [3,2]\n",
    "\n",
    "normal_array[row_indices, col_indices]"
   ]
  },
  {
   "cell_type": "code",
   "execution_count": 118,
   "id": "8f2e434b-83f5-4282-b3a5-37f454a26a5e",
   "metadata": {
    "tags": []
   },
   "outputs": [
    {
     "data": {
      "text/plain": [
       "array([[ 10.59000935,   6.55699589, 100.        ,  50.        ],\n",
       "       [ 10.66785851,   9.38569605,   8.31509551,   7.95630142],\n",
       "       [  9.74167678,  23.        ,  10.39077585,   8.37291213]])"
      ]
     },
     "execution_count": 118,
     "metadata": {},
     "output_type": "execute_result"
    }
   ],
   "source": [
    "normal_array"
   ]
  },
  {
   "cell_type": "code",
   "execution_count": 119,
   "id": "4671a4f0-d794-4a75-bb16-ad597e6682aa",
   "metadata": {
    "tags": []
   },
   "outputs": [],
   "source": [
    "selected_elements = normal_array[row_indices, col_indices]"
   ]
  },
  {
   "cell_type": "code",
   "execution_count": 120,
   "id": "c6ad2aed-f707-4727-912c-e1f527f072b3",
   "metadata": {
    "tags": []
   },
   "outputs": [
    {
     "data": {
      "text/plain": [
       "array([50.        , 10.39077585])"
      ]
     },
     "execution_count": 120,
     "metadata": {},
     "output_type": "execute_result"
    }
   ],
   "source": [
    "selected_elements"
   ]
  },
  {
   "cell_type": "markdown",
   "id": "87bcefa6-7e14-4c95-a329-ae8f99e602df",
   "metadata": {},
   "source": [
    "## 3.5 Indexation logique\n",
    "\n",
    "La dernière façon d’extraire des éléments d’un tableau consiste à utiliser un tableau booléen de même forme. Par exemple, créons un tableau booléen en comparant notre matrice d'origine à un seuil :"
   ]
  },
  {
   "cell_type": "code",
   "execution_count": 121,
   "id": "7c7b742d-2750-4945-9e32-72779ce7aeb9",
   "metadata": {
    "tags": []
   },
   "outputs": [
    {
     "data": {
      "text/plain": [
       "array([[False, False,  True,  True],\n",
       "       [False, False, False, False],\n",
       "       [False, False, False, False]])"
      ]
     },
     "execution_count": 121,
     "metadata": {},
     "output_type": "execute_result"
    }
   ],
   "source": [
    "bool_array = normal_array > 40\n",
    "bool_array"
   ]
  },
  {
   "cell_type": "markdown",
   "id": "fe5782c9-c907-422c-acdd-3bf27e196468",
   "metadata": {},
   "source": [
    "On voit que nous n'avons que deux éléments qui sont au-dessus du seuil. Nous pouvons maintenant utiliser ce tableau logique pour *indexer* le tableau d'origine. Imaginez que le tableau logique soit un masque avec des trous uniquement dans les positions ```Vrai``` et que nous le superposons au tableau d'origine. Ensuite on prend juste toutes les valeurs visibles dans les trous :"
   ]
  },
  {
   "cell_type": "code",
   "execution_count": 122,
   "id": "fc637b45-f381-433a-99ba-030852190277",
   "metadata": {
    "tags": []
   },
   "outputs": [
    {
     "data": {
      "text/plain": [
       "array([100.,  50.])"
      ]
     },
     "execution_count": 122,
     "metadata": {},
     "output_type": "execute_result"
    }
   ],
   "source": [
    "normal_array[bool_array]"
   ]
  },
  {
   "cell_type": "markdown",
   "id": "b3e444a5-159f-4128-a2ab-db2a50b80e31",
   "metadata": {},
   "source": [
    "## 3.6 Remodeler les tableaux\n",
    "\n",
    "Il est souvent nécessaire de remodeler les tableaux, c'est-à-dire de conserver les éléments inchangés mais de modifier leur position. Il existe plusieurs fonctions qui permettent de le faire. Le principal est bien sûr ```reshape```."
   ]
  },
  {
   "cell_type": "markdown",
   "id": "4d00847a-1985-422e-b175-389ce7f4b16f",
   "metadata": {},
   "source": [
    "### 3.6.1 ```reshape```\n",
    "\n",
    "Étant donné un tableau d'éléments $MxN$, on peut le remodeler avec une forme $OxP$ tant que $M*N = O*P$."
   ]
  },
  {
   "cell_type": "code",
   "execution_count": null,
   "id": "f70ce24d-427e-4abd-9289-65d9e9836e2b",
   "metadata": {},
   "outputs": [],
   "source": []
  },
  {
   "cell_type": "code",
   "execution_count": 123,
   "id": "f527ba8e-1de0-4f5c-81e5-8f314f1ef7e8",
   "metadata": {
    "tags": []
   },
   "outputs": [
    {
     "data": {
      "text/plain": [
       "array([[ 10.59000935,   6.55699589, 100.        ,  50.        ,\n",
       "         10.66785851,   9.38569605],\n",
       "       [  8.31509551,   7.95630142,   9.74167678,  23.        ,\n",
       "         10.39077585,   8.37291213]])"
      ]
     },
     "execution_count": 123,
     "metadata": {},
     "output_type": "execute_result"
    }
   ],
   "source": [
    "reshaped = np.reshape(normal_array,(2,6))\n",
    "reshaped"
   ]
  },
  {
   "cell_type": "code",
   "execution_count": 124,
   "id": "4a50aea2-5665-469b-a338-666ebfc90315",
   "metadata": {
    "tags": []
   },
   "outputs": [
    {
     "data": {
      "text/plain": [
       "(2, 6)"
      ]
     },
     "execution_count": 124,
     "metadata": {},
     "output_type": "execute_result"
    }
   ],
   "source": [
    "reshaped.shape"
   ]
  },
  {
   "cell_type": "markdown",
   "id": "9a79ea80-5e42-4b0b-8a16-c3b199297ad8",
   "metadata": {},
   "source": [
    "### 3.6.2 Aplatissement\n",
    "\n",
    "Il est également possible d'aplatir simplement un tableau, c'est-à-dire de supprimer toutes les dimensions pour créer un tableau 1D. Cela peut être utile par exemple pour créer un histogramme d'un tableau de grande dimension."
   ]
  },
  {
   "cell_type": "code",
   "execution_count": 125,
   "id": "c7020a57-db3b-4f69-932d-d058fe292d57",
   "metadata": {
    "tags": []
   },
   "outputs": [
    {
     "data": {
      "text/plain": [
       "array([ 10.59000935,   6.55699589, 100.        ,  50.        ,\n",
       "        10.66785851,   9.38569605,   8.31509551,   7.95630142,\n",
       "         9.74167678,  23.        ,  10.39077585,   8.37291213])"
      ]
     },
     "execution_count": 125,
     "metadata": {},
     "output_type": "execute_result"
    }
   ],
   "source": [
    "flattened = np.ravel(normal_array)\n",
    "flattened"
   ]
  },
  {
   "cell_type": "markdown",
   "id": "6c97c9ca-4e26-4f5c-a810-3833f0cc96a1",
   "metadata": {},
   "source": [
    "Lorsque vous exécutez ce code, flattened affichera un nouveau tableau qui est une version aplatie de normal_array, c’est-à-dire [1, 2, 3, 4, 5, 6, 7, 8, 9]. La fonction ravel() est utilisée pour transformer un tableau multidimensionnel en un tableau 1D."
   ]
  },
  {
   "cell_type": "code",
   "execution_count": 126,
   "id": "31495a5a-34f9-4ce2-ba91-83102e10a09d",
   "metadata": {
    "tags": []
   },
   "outputs": [
    {
     "data": {
      "text/plain": [
       "(12,)"
      ]
     },
     "execution_count": 126,
     "metadata": {},
     "output_type": "execute_result"
    }
   ],
   "source": [
    "flattened.shape"
   ]
  }
 ],
 "metadata": {
  "kernelspec": {
   "display_name": "Python 3 (ipykernel)",
   "language": "python",
   "name": "python3"
  },
  "language_info": {
   "codemirror_mode": {
    "name": "ipython",
    "version": 3
   },
   "file_extension": ".py",
   "mimetype": "text/x-python",
   "name": "python",
   "nbconvert_exporter": "python",
   "pygments_lexer": "ipython3",
   "version": "3.11.4"
  }
 },
 "nbformat": 4,
 "nbformat_minor": 5
}
