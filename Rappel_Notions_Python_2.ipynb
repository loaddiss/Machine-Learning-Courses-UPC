{
 "cells": [
  {
   "cell_type": "markdown",
   "id": "08de9565",
   "metadata": {},
   "source": [
    "# <span style=\"color:#530000\">RAPPEL SUR LE LANGAGE DE PROGRAMMATION PYTHON (Partie 2)</span>"
   ]
  },
  {
   "cell_type": "markdown",
   "id": "d275768e",
   "metadata": {},
   "source": [
    "> Les algorithmes comportent souvent des décisions et des étapes qui\n",
    "doivent être répétées. Par exemple, si l’on doit filtrer des données, il\n",
    "se peut qu’une décision soit nécessaire pour rejeter éventuellement\n",
    "une valeur qui ne serait pas conforme, ou bien il peut être nécessaire\n",
    "de traiter des données plus d’une fois pour obtenir le résultat désiré.\n",
    "Python prévoit des instructions spéciales pour les décisions et pour\n",
    "les répétitions."
   ]
  },
  {
   "cell_type": "markdown",
   "id": "59c99673",
   "metadata": {},
   "source": [
    "\n",
    "<h2><strong>2.1. Prendre des décisions en utilisant\n",
    "l’instruction if </strong></h2>"
   ]
  },
  {
   "cell_type": "markdown",
   "id": "31b4aace",
   "metadata": {},
   "source": [
    "> Avec des « si » (if), vous envisagez des conditions à tout moment\n",
    "dans votre quotidien. Vous vous dites par exemple : « Si le temps le\n",
    "permet, nous irons pique-niquer dimanche. » L’instruction if dans\n",
    "Python est un peu verbeuse, mais le principe est le même."
   ]
  },
  {
   "cell_type": "markdown",
   "id": "29543b2b",
   "metadata": {},
   "source": [
    "**if condition :**\n",
    "\n",
    "    bloc d'instructions à exécuter si la condition est vraie\n",
    "    \n",
    "**elif autre_condition :**\n",
    "\n",
    "    bloc d'instructions à exécuter si 'autre_condition' est vraie\n",
    "    \n",
    "**else :**\n",
    "\n",
    "    bloc d'instructions à exécuter si aucune des conditions ci-dessus n'est vraie\n"
   ]
  },
  {
   "cell_type": "markdown",
   "id": "e2937b18",
   "metadata": {},
   "source": [
    "> **if condition :** : Cette ligne vérifie si une certaine condition est vraie. Si c’est le cas, le bloc d’instructions qui suit est exécuté.\n",
    "\n",
    "> **elif autre_condition :** : (elif est une contraction de “else if”) Cette ligne est utilisée pour vérifier une autre condition si la condition précédente était fausse. Vous pouvez avoir autant de déclarations elif que nécessaire dans votre instruction conditionnelle.\n",
    "\n",
    "> **else :** : Cette ligne est exécutée si aucune des conditions précédentes n’est vraie. C’est une clause optionnelle de l’instruction conditionnelle. Vous pouvez choisir de ne pas l’inclure si elle n’est pas nécessaire pour votre logique de programmation.\n",
    "Notez que chaque bloc d’instructions est indenté sous sa condition correspondante. C’est ainsi que Python délimite les blocs de code. Chaque nouvelle instruction qui n’est pas indentée marque la fin du bloc de code précédent."
   ]
  },
  {
   "cell_type": "code",
   "execution_count": 4,
   "id": "c416d89b",
   "metadata": {},
   "outputs": [
    {
     "name": "stdout",
     "output_type": "stream",
     "text": [
      "Entrez un nombre : 5\n",
      "x est positif\n"
     ]
    }
   ],
   "source": [
    "x = input(\"Entrez un nombre : \")\n",
    "# Conversion d'une variable de type String en Int : Faire usage de la fonction \"int\"\n",
    "x = int(x)\n",
    "if x > 0:\n",
    "    print(\"x est positif\")\n",
    "elif x < 0:\n",
    "    print(\"x est négatif\")\n",
    "else:\n",
    "    print(\"x est zéro\")\n"
   ]
  },
  {
   "cell_type": "code",
   "execution_count": 6,
   "id": "d0c914c2",
   "metadata": {},
   "outputs": [
    {
     "name": "stdout",
     "output_type": "stream",
     "text": [
      "Entrez un nombre : 1\n",
      "X n'est pas nul\n"
     ]
    }
   ],
   "source": [
    "x = input(\"Entrez un nombre : \")\n",
    "# Conversion d'une variable de type String en Int : Faire usage de la fonction \"int\"\n",
    "x = int(x)\n",
    "if x == 0 : \n",
    "    print('X est nul')\n",
    "else :\n",
    "    print(\"X n'est pas nul\")"
   ]
  },
  {
   "cell_type": "markdown",
   "id": "bd4c3a25",
   "metadata": {},
   "source": [
    "> Il convient de remarquer que la condition utilise l’opérateur\n",
    "relationnel d’égalité ==, et non pas l’opérateur d’affectation =. Une\n",
    "erreur courante que font les développeurs est d’utiliser l’opérateur\n",
    "d’affectation au lieu de l’opérateur d’égalité, ce qui ne peut\n",
    "qu’entraîner un dysfonctionnement du code."
   ]
  },
  {
   "cell_type": "markdown",
   "id": "d6b798f3",
   "metadata": {},
   "source": [
    "> Calculatrice Simple : Écrivez un programme qui demande à l’utilisateur de choisir une opération parmi les suivantes : addition, soustraction, multiplication et division. Ensuite, le programme doit demander deux nombres et effectuer l’opération choisie."
   ]
  },
  {
   "cell_type": "code",
   "execution_count": 8,
   "id": "eab91794",
   "metadata": {},
   "outputs": [
    {
     "name": "stdout",
     "output_type": "stream",
     "text": [
      "Veuillez choisir une opération :\n",
      "1. Addition\n",
      "2. Soustraction\n",
      "3. Multiplication\n",
      "4. Division\n",
      "Votre choix (1/2/3/4) : 8\n",
      "Veuillez entrer le premier nombre : 45\n",
      "Veuillez entrer le deuxième nombre : 5\n",
      "Choix invalide.\n"
     ]
    }
   ],
   "source": [
    "print(\"Veuillez choisir une opération :\")\n",
    "print(\"1. Addition\")\n",
    "print(\"2. Soustraction\")\n",
    "print(\"3. Multiplication\")\n",
    "print(\"4. Division\")\n",
    "\n",
    "choix = input(\"Votre choix (1/2/3/4) : \")\n",
    "\n",
    "num1 = float(input(\"Veuillez entrer le premier nombre : \"))\n",
    "num2 = float(input(\"Veuillez entrer le deuxième nombre : \"))\n",
    "\n",
    "if choix == '1':\n",
    "    print(num1, \"+\", num2, \"=\", num1 + num2)\n",
    "elif choix == '2':\n",
    "    print(num1, \"-\", num2, \"=\", num1 - num2)\n",
    "elif choix == '3':\n",
    "    print(num1, \"*\", num2, \"=\", num1 * num2)\n",
    "elif choix == '4':\n",
    "    if num2 != 0:\n",
    "        print(num1, \"/\", num2, \"=\", num1 / num2)\n",
    "    else:\n",
    "        print(\"Erreur : Division par zéro.\")\n",
    "else:\n",
    "    print(\"Choix invalide.\")\n"
   ]
  },
  {
   "cell_type": "markdown",
   "id": "e0e3fd69",
   "metadata": {},
   "source": [
    "> Écrivez un programme qui demande à l’utilisateur de saisir trois nombres. Le programme doit ensuite afficher ces nombres dans l’ordre croissant"
   ]
  },
  {
   "cell_type": "code",
   "execution_count": 10,
   "id": "306fda71",
   "metadata": {},
   "outputs": [
    {
     "name": "stdout",
     "output_type": "stream",
     "text": [
      "Entrez trois nombres séparés par des espaces:\n",
      "4 1 2\n",
      "1 2 4\n"
     ]
    }
   ],
   "source": [
    "# Demander à l'utilisateur de saisir trois nombres\n",
    "print(\"Entrez trois nombres séparés par des espaces:\")\n",
    "nombres = input() # Lire la ligne saisie\n",
    "\n",
    "# Convertir la ligne en trois nombres\n",
    "a, b, c = [int(x) for x in nombres.split()]\n",
    "\n",
    "# Comparer les nombres et les afficher dans l'ordre croissant\n",
    "if a <= b and a <= c:\n",
    "    # a est le plus petit\n",
    "    print(a, end=\" \")\n",
    "    if b <= c:\n",
    "        # b est le deuxième plus petit\n",
    "        print(b, c)\n",
    "    else:\n",
    "        # c est le deuxième plus petit\n",
    "        print(c, b)\n",
    "elif b <= a and b <= c:\n",
    "    # b est le plus petit\n",
    "    print(b, end=\" \")\n",
    "    if a <= c:\n",
    "        # a est le deuxième plus petit\n",
    "        print(a, c)\n",
    "    else:\n",
    "        # c est le deuxième plus petit\n",
    "        print(c, a)\n",
    "else:\n",
    "    # c est le plus petit\n",
    "    print(c, end=\" \")\n",
    "    if a <= b:\n",
    "        # a est le deuxième plus petit\n",
    "        print(a, b)\n",
    "    else:\n",
    "        # b est le deuxième plus petit\n",
    "        print(b, a)\n"
   ]
  },
  {
   "cell_type": "markdown",
   "id": "7f1840f8",
   "metadata": {},
   "source": [
    "**a, b, c = [int(x) for x in nombres.split()]**\n",
    "Cette ligne de code utilise une compréhension de liste pour créer une nouvelle liste à partir d’une chaîne de caractères. Voici ce qu’elle fait étape par étape:\n",
    "\n",
    "> **nombres.split()** : Cette méthode divise la chaîne nombres en une liste de sous-chaînes, en utilisant l’espace comme séparateur. Par exemple, si nombres vaut \"1 2 3\", alors nombres.split() renvoie [\"1\", \"2\", \"3\"].\n",
    "\n",
    "> **int(x)** : Cette fonction convertit la sous-chaîne x en un nombre entier. Par exemple, si x vaut \"1\", alors int(x) renvoie 1.\n",
    "\n",
    "> **[int(x) for x in nombres.split()]** : Cette expression crée une nouvelle liste en appliquant la fonction int(x) à chaque élément de la liste nombres.split(). Par exemple, si nombres vaut \"1 2 3\", alors [int(x) for x in nombres.split()] renvoie [1, 2, 3].\n",
    "\n",
    "> Une compréhension de liste est une façon concise et élégante de créer une nouvelle liste à partir d’une expression qui s’applique à chaque élément d’une séquence ou d’un itérable."
   ]
  },
  {
   "cell_type": "markdown",
   "id": "057af438",
   "metadata": {},
   "source": [
    "\n",
    "\n",
    "<h2><strong>2.2.Exécuter des tâches répétitives en\n",
    "utilisant une boucle </strong></h2>"
   ]
  },
  {
   "cell_type": "markdown",
   "id": "83048954",
   "metadata": {},
   "source": [
    "> Une boucle en programmation est une structure qui permet de répéter les mêmes instructions plusieurs fois, selon une condition ou un nombre défini. Il existe différents types de boucles, comme la boucle for, la boucle while, ou la boucle do-while. Les boucles sont utiles pour simplifier le code, éviter les répétitions, et réaliser des tâches récurrentes."
   ]
  },
  {
   "cell_type": "markdown",
   "id": "de481b69",
   "metadata": {},
   "source": [
    "> Il est parfois nécessaire qu’une tâche soit exécutée plusieurs fois de\n",
    "suite. Pour qu’une tâche soit exécutée un nombre donné de fois, on\n",
    "utilise la boucle for. La boucle for a un début et une fin, qui doivent\n",
    "être bien définis. Le nombre d’exécutions assurées par la boucle\n",
    "dépend du nombre d’éléments dans la variable.\n",
    "\n",
    "> **La boucle for** est une boucle définie, c’est-à-dire qu’elle répète un bloc d’instructions un nombre fixe de fois. La syntaxe générale d’une boucle for est la suivante :"
   ]
  },
  {
   "cell_type": "markdown",
   "id": "6dbe8a8c",
   "metadata": {},
   "source": [
    "> **for variable in sequence:**\n",
    "\n",
    "        # instructions à répéter**\n"
   ]
  },
  {
   "cell_type": "markdown",
   "id": "3b6d23b7",
   "metadata": {},
   "source": [
    "> La variable prend successivement les valeurs de la séquence, qui peut être une liste, un tuple, une chaîne de caractères, ou un objet itérable. Le bloc d’instructions est exécuté à chaque itération de la boucle.\n",
    "\n",
    "> Par exemple, le code suivant utilise une boucle for pour afficher les nombres de 1 à 10 :"
   ]
  },
  {
   "cell_type": "code",
   "execution_count": 2,
   "id": "e6c85a48",
   "metadata": {},
   "outputs": [
    {
     "name": "stdout",
     "output_type": "stream",
     "text": [
      "1\n",
      "2\n",
      "3\n",
      "4\n",
      "5\n",
      "6\n",
      "7\n",
      "8\n",
      "9\n",
      "10\n"
     ]
    }
   ],
   "source": [
    "for i in range(1, 11):\n",
    "    print(i)\n"
   ]
  },
  {
   "cell_type": "markdown",
   "id": "88024ff0",
   "metadata": {},
   "source": [
    "> La fonction range() renvoie un objet itérable qui contient les nombres entiers de 1 à 10 (le nombre 11 n’est pas inclus). La variable i prend donc successivement les valeurs de 1 à 10, et le bloc d’instructions print(i) affiche la valeur de i à chaque itération."
   ]
  },
  {
   "cell_type": "markdown",
   "id": "bcd5262c",
   "metadata": {},
   "source": [
    "> **La boucle while** est une boucle indéfinie, c’est-à-dire qu’elle répète un bloc d’instructions tant qu’une condition est vraie. La syntaxe générale d’une boucle while est la suivante :"
   ]
  },
  {
   "cell_type": "markdown",
   "id": "c087d749",
   "metadata": {},
   "source": [
    "> **while condition:**\n",
    "\n",
    "        # instructions à répéter"
   ]
  },
  {
   "cell_type": "code",
   "execution_count": null,
   "id": "d5219e28",
   "metadata": {},
   "outputs": [],
   "source": [
    "while condition:\n",
    "    # instructions à répéter\n"
   ]
  },
  {
   "cell_type": "markdown",
   "id": "41f86def",
   "metadata": {},
   "source": [
    "> La condition est une expression booléenne qui peut être vraie ou fausse. Le bloc d’instructions est exécuté tant que la condition est vraie. Il faut donc faire attention à ce que la condition puisse devenir fausse à un moment donné, sinon la boucle sera infinie et le programme ne s’arrêtera jamais.\n",
    "\n",
    "> Par exemple, le code suivant utilise une boucle while pour calculer la somme des nombres entiers de 1 à n :"
   ]
  },
  {
   "cell_type": "code",
   "execution_count": 3,
   "id": "0e681d6b",
   "metadata": {},
   "outputs": [
    {
     "name": "stdout",
     "output_type": "stream",
     "text": [
      "Entrez un nombre entier positif : 5\n",
      "La somme des nombres de 1 à 5 est 15\n"
     ]
    }
   ],
   "source": [
    "n = int(input(\"Entrez un nombre entier positif : \"))\n",
    "somme = 0\n",
    "i = 1\n",
    "while i <= n:\n",
    "    somme = somme + i\n",
    "    i = i + 1\n",
    "print(\"La somme des nombres de 1 à\", n, \"est\", somme)\n"
   ]
  },
  {
   "cell_type": "markdown",
   "id": "26845d0d",
   "metadata": {},
   "source": [
    "> La variable n contient le nombre entier saisi par l’utilisateur. La variable somme contient la somme des nombres de 1 à i. La variable i contient le compteur de la boucle. La condition de la boucle est i <= n, c’est-à-dire que la boucle se répète tant que i est inférieur ou égal à n. À chaque itération, la somme est augmentée de i, et i est incrémenté de 1. Quand i devient supérieur à n, la condition devient fausse et la boucle s’arrête. Le bloc d’instructions print(…) affiche le résultat."
   ]
  },
  {
   "cell_type": "markdown",
   "id": "a2b87fcb",
   "metadata": {},
   "source": [
    "> L’instruction de boucle **while continue** à exécuter les tâches jusqu’à\n",
    "ce que la condition ne soit plus vraie. Comme la boucle **for**, la boucle\n",
    "**while** accepte les mots-clés **continue** et **break** comme instructions\n",
    "d’arrêt prématuré"
   ]
  },
  {
   "cell_type": "markdown",
   "id": "c37bc742",
   "metadata": {},
   "source": []
  },
  {
   "cell_type": "markdown",
   "id": "fabe024a",
   "metadata": {},
   "source": [
    "\n",
    "\n",
    "<h2><strong>2.3.Les Listes en compréhension</strong></h2>"
   ]
  },
  {
   "cell_type": "markdown",
   "id": "2bb00a3c",
   "metadata": {},
   "source": [
    "> Les listes en compréhension sont une fonctionnalité de Python qui permet de créer des listes à partir d’autres listes, de tuples, de chaînes de caractères, ou de tout objet itérable, en utilisant une syntaxe concise et élégante. Elles sont souvent utilisées pour filtrer, transformer, ou agréger des données. La syntaxe générale d’une liste en compréhension est la suivante :\n",
    "\n",
    "> nouvelle_liste = [expression for element in iterable if condition]\n"
   ]
  },
  {
   "cell_type": "markdown",
   "id": "a6be5ea3",
   "metadata": {},
   "source": [
    "><ol>\n",
    " <li>nouvelle_liste est le nom de la liste créée par la compréhension ;</li>\n",
    " <li>expression est une expression qui peut utiliser element comme variable et qui définit la valeur de chaque élément de la nouvelle liste.\n",
    " ;</li>\n",
    " <li>for element in iterable est une boucle qui parcourt chaque élément de l’objet itérable (une liste, un tuple, une chaîne, etc.) ;</li>\n",
    " <li>if condition est une condition optionnelle qui filtre les éléments de l’objet itérable selon un critère.</li>\n",
    "</ol>"
   ]
  },
  {
   "cell_type": "markdown",
   "id": "de7fc49b",
   "metadata": {},
   "source": [
    "> Par exemple, si on veut créer une liste qui contient le carré des nombres pairs de 0 à 9, on peut utiliser une liste en compréhension comme ceci :"
   ]
  },
  {
   "cell_type": "code",
   "execution_count": 7,
   "id": "0e86d574",
   "metadata": {},
   "outputs": [
    {
     "name": "stdout",
     "output_type": "stream",
     "text": [
      "[0, 4, 16, 36, 64]\n"
     ]
    }
   ],
   "source": [
    "carrés_pairs = [x**2 for x in range(10) if x % 2 == 0]\n",
    "print(carrés_pairs) # affiche [0, 4, 16, 36, 64]\n"
   ]
  },
  {
   "cell_type": "markdown",
   "id": "4ad9164f",
   "metadata": {},
   "source": [
    "> Les listes en compréhension sont très pratiques pour écrire du code plus court, plus lisible, et plus efficace. Elles sont aussi très utiles pour manipuler des données provenant de sources externes, comme des fichiers, des bases de données, ou des API."
   ]
  },
  {
   "cell_type": "markdown",
   "id": "85192051",
   "metadata": {},
   "source": [
    "<h3><strong>2.3.1. Exercices sur les Listes en compréhension</strong></h3>"
   ]
  },
  {
   "cell_type": "markdown",
   "id": "7df61d28",
   "metadata": {},
   "source": [
    "> Écrivez une liste en compréhension qui contient les lettres de l’alphabet en majuscules."
   ]
  },
  {
   "cell_type": "code",
   "execution_count": 9,
   "id": "3bf3c831",
   "metadata": {},
   "outputs": [
    {
     "name": "stdout",
     "output_type": "stream",
     "text": [
      "['A', 'B', 'C', 'D', 'E', 'F', 'G', 'H', 'I', 'J', 'K', 'L', 'M', 'N', 'O', 'P', 'Q', 'R', 'S', 'T', 'U', 'V', 'W', 'X', 'Y', 'Z']\n"
     ]
    }
   ],
   "source": [
    "alphabet = [chr(i) for i in range(65, 91)]\n",
    "print(alphabet)\n"
   ]
  },
  {
   "cell_type": "markdown",
   "id": "67f51ee5",
   "metadata": {},
   "source": [
    "> Écrivez une liste en compréhension qui contient les multiples de 3 inférieurs à 100."
   ]
  },
  {
   "cell_type": "code",
   "execution_count": 10,
   "id": "722bf956",
   "metadata": {},
   "outputs": [
    {
     "name": "stdout",
     "output_type": "stream",
     "text": [
      "[0, 3, 6, 9, 12, 15, 18, 21, 24, 27, 30, 33, 36, 39, 42, 45, 48, 51, 54, 57, 60, 63, 66, 69, 72, 75, 78, 81, 84, 87, 90, 93, 96, 99]\n"
     ]
    }
   ],
   "source": [
    "multiples = [x for x in range(100) if x % 3 == 0]\n",
    "print(multiples)\n"
   ]
  },
  {
   "cell_type": "markdown",
   "id": "5c32bf5a",
   "metadata": {},
   "source": [
    "> Écrivez une liste en compréhension qui contient les mots d’une phrase sans les voyelles."
   ]
  },
  {
   "cell_type": "code",
   "execution_count": 11,
   "id": "c5be6882",
   "metadata": {},
   "outputs": [
    {
     "name": "stdout",
     "output_type": "stream",
     "text": [
      "['Bnjr,', 'j', 'ss', 'Cplt,', 'vtr', 'ssstnt', 'd', 'prgrmmtn.']\n"
     ]
    }
   ],
   "source": [
    "phrase = \"Bonjour, je suis Copilot, votre assistant de programmation.\"\n",
    "mots_sans_voyelles = [\"\".join([c for c in mot if c not in \"aeiouyAEIOUY\"]) for mot in phrase.split()]\n",
    "print(mots_sans_voyelles)\n"
   ]
  },
  {
   "cell_type": "markdown",
   "id": "81a6a78b",
   "metadata": {},
   "source": [
    "> mots_sans_voyelles = **[\"\".join([c for c in mot if c not in \"aeiouyAEIOUY\"]) for mot in phrase.split()] :** Cette ligne fait plusieurs choses :\n",
    "**phrase.split() :** Cette fonction divise la phrase en une liste de mots.\n",
    "**[c for c in mot if c not in \"aeiouyAEIOUY\"] :** Pour chaque mot dans la liste, cette boucle parcourt chaque caractère c. Si c n’est pas une voyelle (ni en majuscule, ni en minuscule), il est inclus dans la nouvelle liste.\n",
    "**\"\".join([...]) :** Cette fonction prend la liste de caractères (qui sont tous des consonnes) et les combine en un seul mot.\n",
    "Le résultat est une liste de mots où chaque mot est dépourvu de voyelles."
   ]
  },
  {
   "cell_type": "markdown",
   "id": "11c8aab9",
   "metadata": {},
   "source": [
    "> Écrivez une liste en compréhension qui contient les nombres premiers inférieurs à 50."
   ]
  },
  {
   "cell_type": "code",
   "execution_count": 12,
   "id": "99e1b6df",
   "metadata": {},
   "outputs": [
    {
     "name": "stdout",
     "output_type": "stream",
     "text": [
      "[2, 3, 5, 7, 11, 13, 17, 19, 23, 29, 31, 37, 41, 43, 47]\n"
     ]
    }
   ],
   "source": [
    "premiers = [x for x in range(2, 50) if all(x % y != 0 for y in range(2, int(x**0.5) + 1))]\n",
    "print(premiers)\n"
   ]
  },
  {
   "cell_type": "markdown",
   "id": "eaf054b2",
   "metadata": {},
   "source": [
    "> **range(2, 50) :** Cette fonction génère une séquence de nombres de 2 à 49.\n",
    "**all(x % y != 0 for y in range(2, int(x** **0.5) + 1)) :** Pour chaque nombre x dans la séquence, cette expression vérifie si x est un nombre premier. Un nombre est premier s’il n’a pas de diviseurs autres que 1 et lui-même. Donc, si x n’est divisible par aucun nombre y dans la plage de 2 à la racine carrée de x (arrondie à l’entier le plus proche), alors x est un nombre premier.\n",
    "Le résultat est une liste de nombres premiers."
   ]
  },
  {
   "cell_type": "markdown",
   "id": "3abbe45b",
   "metadata": {},
   "source": [
    "> Écrivez une liste en compréhension qui contient les listes des chiffres de 0 à 9, de 10 à 19, …, de 90 à 99."
   ]
  },
  {
   "cell_type": "code",
   "execution_count": 26,
   "id": "c02ecd38",
   "metadata": {},
   "outputs": [
    {
     "name": "stdout",
     "output_type": "stream",
     "text": [
      "[[0, 1, 2, 3, 4, 5, 6, 7, 8, 9], [10, 11, 12, 13, 14, 15, 16, 17, 18, 19], [20, 21, 22, 23, 24, 25, 26, 27, 28, 29], [30, 31, 32, 33, 34, 35, 36, 37, 38, 39], [40, 41, 42, 43, 44, 45, 46, 47, 48, 49], [50, 51, 52, 53, 54, 55, 56, 57, 58, 59], [60, 61, 62, 63, 64, 65, 66, 67, 68, 69], [70, 71, 72, 73, 74, 75, 76, 77, 78, 79], [80, 81, 82, 83, 84, 85, 86, 87, 88, 89], [90, 91, 92, 93, 94, 95, 96, 97, 98, 99]]\n"
     ]
    }
   ],
   "source": [
    "listes = [[i for i in range(j, j + 10)]   100, 10)]\n",
    "print(listes)\n"
   ]
  },
  {
   "cell_type": "markdown",
   "id": "7b9d1809",
   "metadata": {},
   "source": [
    "> **range(0, 100, 10) :** Cette fonction génère une séquence de nombres de 0 à 90 par pas de 10.\n",
    "**[i for i in range(j, j + 10)] :** Pour chaque nombre j dans la séquence, cette expression génère une liste de dix nombres consécutifs, commençant par j.\n",
    "Le résultat est une liste de ces sous-listes."
   ]
  },
  {
   "cell_type": "markdown",
   "id": "0f34a8c2",
   "metadata": {},
   "source": [
    "> Ecrivez une Liste des carrés des nombres impairs dans une plage"
   ]
  },
  {
   "cell_type": "code",
   "execution_count": 34,
   "id": "d6151fc5",
   "metadata": {},
   "outputs": [
    {
     "data": {
      "text/plain": [
       "[1, 9, 25, 49, 81, 121, 169, 225, 289, 361]"
      ]
     },
     "execution_count": 34,
     "metadata": {},
     "output_type": "execute_result"
    }
   ],
   "source": [
    "liste = [x**2 for x in range(1, 20) if x % 2 == 1]\n",
    "liste"
   ]
  },
  {
   "cell_type": "markdown",
   "id": "775d7b09",
   "metadata": {},
   "source": [
    "\n",
    "\n",
    "<h2><strong>2.4. D'autres types de séquences</strong></h2>"
   ]
  },
  {
   "cell_type": "markdown",
   "id": "5eb03531",
   "metadata": {},
   "source": [
    "\n",
    "\n",
    "<h3><strong>2.4.1. Les Tuples</strong></h3>"
   ]
  },
  {
   "cell_type": "markdown",
   "id": "3bb83cbd",
   "metadata": {},
   "source": [
    ">  Un tuple est une collection utilisée pour créer des\n",
    "séquences complexes sur le modèle des listes. Un avantage des\n",
    "tuples est la possibilité d’en imbriquer le contenu. Cette\n",
    "propriété vous permet de créer des structures pour enregistrer\n",
    "aussi bien les dossiers de vos salariés que des paires x-y\n",
    "coordonnées.\n",
    "> Un tuple est une collection d’objets ordonnés et immuables en Python. Les tuples sont similaires aux listes, mais contrairement aux listes, les tuples sont immuables, ce qui signifie qu’ils ne peuvent pas être modifiés une fois créés.\n"
   ]
  },
  {
   "cell_type": "code",
   "execution_count": 35,
   "id": "4bc91dac",
   "metadata": {},
   "outputs": [
    {
     "data": {
      "text/plain": [
       "('pommes', 'bananes', 'cerises')"
      ]
     },
     "execution_count": 35,
     "metadata": {},
     "output_type": "execute_result"
    }
   ],
   "source": [
    "mon_tuple = ('pommes', 'bananes', 'cerises')\n",
    "mon_tuple"
   ]
  },
  {
   "cell_type": "markdown",
   "id": "e662faa4",
   "metadata": {},
   "source": [
    "> Vous pouvez accéder aux éléments d’un tuple en utilisant des indices. Par exemple, pour accéder au premier élément de mon_tuple, vous pouvez utiliser **mon_tuple[0]**.\n",
    "Les tuples sont souvent utilisés pour regrouper des données qui vont ensemble. Par exemple, si vous voulez stocker des informations sur un livre, vous pouvez utiliser un tuple comme ceci :"
   ]
  },
  {
   "cell_type": "code",
   "execution_count": 36,
   "id": "4f452f74",
   "metadata": {},
   "outputs": [
    {
     "data": {
      "text/plain": [
       "('1984', 'Georges Orwell', 1948)"
      ]
     },
     "execution_count": 36,
     "metadata": {},
     "output_type": "execute_result"
    }
   ],
   "source": [
    "livre = ('1984', 'Georges Orwell', 1948)\n",
    "livre"
   ]
  },
  {
   "cell_type": "markdown",
   "id": "25f74886",
   "metadata": {},
   "source": [
    "> Dans ce tuple, ‘1984’ est le titre du livre, ‘Georges Orwell’ est l’auteur et 1948 est l’année de publication."
   ]
  },
  {
   "cell_type": "markdown",
   "id": "8d27b5e6",
   "metadata": {},
   "source": [
    "<h3><strong>2.4.1.1. Quelques opérations sur les tuples </strong></h3>"
   ]
  },
  {
   "cell_type": "markdown",
   "id": "795bbca3",
   "metadata": {},
   "source": [
    "> L'indexation : Vous pouvez accéder à un élément d’un tuple en utilisant son indice. Par exemple :"
   ]
  },
  {
   "cell_type": "code",
   "execution_count": 37,
   "id": "97d2c4db",
   "metadata": {},
   "outputs": [
    {
     "name": "stdout",
     "output_type": "stream",
     "text": [
      "pommes\n"
     ]
    }
   ],
   "source": [
    "mon_tuple = ('pommes', 'bananes', 'cerises')\n",
    "print(mon_tuple[0])\n"
   ]
  },
  {
   "cell_type": "markdown",
   "id": "2bc3bd30",
   "metadata": {},
   "source": [
    "> Le slicing : Vous pouvez obtenir une sous-tuple en utilisant la technique de slicing. Par exemple :"
   ]
  },
  {
   "cell_type": "code",
   "execution_count": 38,
   "id": "1949780c",
   "metadata": {},
   "outputs": [
    {
     "name": "stdout",
     "output_type": "stream",
     "text": [
      "(2, 3, 4)\n"
     ]
    }
   ],
   "source": [
    "mon_tuple = (1, 2, 3, 4, 5)\n",
    "print(mon_tuple[1:4])\n"
   ]
  },
  {
   "cell_type": "markdown",
   "id": "eddba33d",
   "metadata": {},
   "source": [
    "> 3. La concaténation : Vous pouvez concaténer deux tuples pour en créer un nouveau. Par exemple :"
   ]
  },
  {
   "cell_type": "code",
   "execution_count": 39,
   "id": "ac12c705",
   "metadata": {},
   "outputs": [
    {
     "name": "stdout",
     "output_type": "stream",
     "text": [
      "(1, 2, 3, 4, 5, 6)\n"
     ]
    }
   ],
   "source": [
    "tuple1 = (1, 2, 3)\n",
    "tuple2 = (4, 5, 6)\n",
    "tuple3 = tuple1 + tuple2\n",
    "print(tuple3)\n"
   ]
  },
  {
   "cell_type": "markdown",
   "id": "a60656df",
   "metadata": {},
   "source": [
    "> La multiplication : Vous pouvez multiplier un tuple par un entier pour répéter les éléments. Par exemple :"
   ]
  },
  {
   "cell_type": "code",
   "execution_count": 40,
   "id": "f20477ad",
   "metadata": {},
   "outputs": [
    {
     "name": "stdout",
     "output_type": "stream",
     "text": [
      "('a', 'b', 'c', 'a', 'b', 'c', 'a', 'b', 'c')\n"
     ]
    }
   ],
   "source": [
    "mon_tuple = ('a', 'b', 'c')\n",
    "print(mon_tuple * 3) \n"
   ]
  },
  {
   "cell_type": "code",
   "execution_count": 41,
   "id": "5eeceb9c",
   "metadata": {},
   "outputs": [
    {
     "name": "stdout",
     "output_type": "stream",
     "text": [
      "(4, 7, 8, 4, 7, 8, 4, 7, 8)\n"
     ]
    }
   ],
   "source": [
    "mon_tup = (4,7,8)\n",
    "print(mon_tup * 3)"
   ]
  },
  {
   "cell_type": "markdown",
   "id": "a9666226",
   "metadata": {},
   "source": [
    "> Vérification de la présence d’un élément : Vous pouvez vérifier si un élément est présent dans un tuple. Par exemple :"
   ]
  },
  {
   "cell_type": "code",
   "execution_count": 42,
   "id": "ad4daff4",
   "metadata": {},
   "outputs": [
    {
     "name": "stdout",
     "output_type": "stream",
     "text": [
      "True\n"
     ]
    }
   ],
   "source": [
    "mon_tuple = ('pommes', 'bananes', 'cerises')\n",
    "print('bananes' in mon_tuple)\n"
   ]
  },
  {
   "cell_type": "markdown",
   "id": "f2ffec68",
   "metadata": {},
   "source": [
    "> Compter le nombre d’occurrences d’un élément : Vous pouvez compter le nombre de fois qu’un élément apparaît dans un tuple. Par exemple :"
   ]
  },
  {
   "cell_type": "code",
   "execution_count": 43,
   "id": "1f372052",
   "metadata": {},
   "outputs": [
    {
     "name": "stdout",
     "output_type": "stream",
     "text": [
      "3\n"
     ]
    }
   ],
   "source": [
    "mon_tuple = ('a', 'b', 'a', 'a', 'c', 'b')\n",
    "print(mon_tuple.count('a'))\n"
   ]
  },
  {
   "cell_type": "markdown",
   "id": "dc2f2c7e",
   "metadata": {},
   "source": [
    "> Trouver l’indice d’un élément : Vous pouvez trouver l’indice du premier élément d’un tuple qui correspond à une valeur donnée. Par exemple :"
   ]
  },
  {
   "cell_type": "code",
   "execution_count": 45,
   "id": "5d39b157",
   "metadata": {},
   "outputs": [
    {
     "name": "stdout",
     "output_type": "stream",
     "text": [
      "2\n"
     ]
    }
   ],
   "source": [
    "mon_tuple = ('pommes', 'bananes', 'cerises')\n",
    "print(mon_tuple.index('cerises'))\n"
   ]
  },
  {
   "cell_type": "markdown",
   "id": "20e491f6",
   "metadata": {},
   "source": [
    "> Trier un tuple de tuples"
   ]
  },
  {
   "cell_type": "code",
   "execution_count": 1,
   "id": "3448faaa",
   "metadata": {},
   "outputs": [
    {
     "name": "stdout",
     "output_type": "stream",
     "text": [
      "Tuple trié: ((1, 2), (2, 1), (2, 3), (2, 5), (4, 4))\n"
     ]
    }
   ],
   "source": [
    "t = ((2, 5), (1, 2), (4, 4), (2, 3), (2, 1))\n",
    "\n",
    "# Trier le tuple de tuples\n",
    "t = tuple(sorted(list(t)))\n",
    "\n",
    "print(\"Tuple trié:\", t)\n"
   ]
  },
  {
   "cell_type": "markdown",
   "id": "16b154f0",
   "metadata": {},
   "source": [
    "> Supprimer un élément d’un tuple"
   ]
  },
  {
   "cell_type": "code",
   "execution_count": 2,
   "id": "db4b9934",
   "metadata": {},
   "outputs": [
    {
     "name": "stdout",
     "output_type": "stream",
     "text": [
      "Tuple après suppression: (1, 3, 4, 5, 6)\n"
     ]
    }
   ],
   "source": [
    "t = (1, 2, 3, 4, 5, 6)\n",
    "\n",
    "# Convertir le tuple en liste\n",
    "l = list(t)\n",
    "\n",
    "# Supprimer le deuxième élément de la liste\n",
    "del l[1]\n",
    "\n",
    "# Convertir la liste en tuple\n",
    "t = tuple(l)\n",
    "\n",
    "print(\"Tuple après suppression:\", t)\n"
   ]
  },
  {
   "cell_type": "markdown",
   "id": "e46ae513",
   "metadata": {},
   "source": [
    "> Trouver les éléments communs entre deux tuples"
   ]
  },
  {
   "cell_type": "code",
   "execution_count": 4,
   "id": "e814b87d",
   "metadata": {},
   "outputs": [
    {
     "name": "stdout",
     "output_type": "stream",
     "text": [
      "Éléments communs: (4, 5)\n"
     ]
    }
   ],
   "source": [
    "# Initialisation des tuples\n",
    "tuple_1 = (1, 2, 3, 4, 5)\n",
    "tuple_2 = (4, 5, 6, 7, 8)\n",
    "\n",
    "# Trouver les éléments communs\n",
    "communs = tuple(set(tuple_1) & set(tuple_2))\n",
    "\n",
    "print(\"Éléments communs:\", communs)\n"
   ]
  },
  {
   "cell_type": "code",
   "execution_count": null,
   "id": "57654d16",
   "metadata": {},
   "outputs": [],
   "source": []
  }
 ],
 "metadata": {
  "kernelspec": {
   "display_name": "Python 3 (ipykernel)",
   "language": "python",
   "name": "python3"
  },
  "language_info": {
   "codemirror_mode": {
    "name": "ipython",
    "version": 3
   },
   "file_extension": ".py",
   "mimetype": "text/x-python",
   "name": "python",
   "nbconvert_exporter": "python",
   "pygments_lexer": "ipython3",
   "version": "3.9.12"
  }
 },
 "nbformat": 4,
 "nbformat_minor": 5
}
