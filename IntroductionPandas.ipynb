{
 "cells": [
  {
   "cell_type": "markdown",
   "id": "c397d1dd-36b2-4910-991c-399297396366",
   "metadata": {},
   "source": [
    "# 1. Présentation des pandas\n",
    "\n",
    "Dans le point précédent, nous avons appris à gérer les tableaux Numpy qui peuvent être utilisés pour effectuer efficacement des calculs numériques. Ces tableaux sont cependant des structures homogènes c'est-à-dire qu'ils ne peuvent contenir qu'un seul type de données. De plus, même si nous disposons d’un seul type de données, les différentes lignes ou colonnes d’un tableau n’ont pas d’étiquettes, ce qui rend difficile le suivi de ce qu’elles contiennent. Pour de tels cas, nous avons besoin d'une structure plus proche d'un tableau comme on peut en trouver dans Excel, et ces structures sont implémentées par le package Pandas.\n",
    "\n",
    "Mais pourquoi ne pouvons-nous pas simplement utiliser Excel ? Si Excel est pratique pour parcourir les données, il est très fastidieux à utiliser pour combiner, réorganiser et analyser minutieusement les données : le code est caché et difficile à partager, il n'y a pas de contrôle de version, il est difficile d'automatiser les tâches, le clic manuel mène aux erreurs, etc.\n",
    "\n",
    "Dans les prochains chapitres, vous apprendrez à gérer des données tabulaires avec Pandas, un package Python largement utilisé dans les domaines scientifiques et de la science des données. Vous apprendrez comment créer et importer des tableaux, comment les combiner, les modifier, effectuer des analyses statistiques sur eux et enfin comment les utiliser pour créer facilement des visualisations complexes.\n",
    "\n",
    "Pour que vous voyez où cela mène, nous commençons par un bref exemple de la façon dont Pandas peut être utilisé dans un projet. Nous examinons ici les données fournies ouvertement par le Fonds national suisse sur les subventions attribuées depuis 1975."
   ]
  },
  {
   "cell_type": "markdown",
   "id": "66694356-2db0-422d-808f-d79c90aec8ea",
   "metadata": {
    "tags": []
   },
   "source": [
    "## Premiers pas avec Pandas\n",
    "Pandas est un outil majeur dans le domaine de l’analyse des données. Il contient des structures de données et des outils de manipulation de données conçus pour rendre le nettoyage et l'analyse des données rapides et faciles en Python.\n",
    "\n",
    "Pandas est souvent utilisé en tandem avec des outils de calcul numérique comme ```NumPy et SciPy```, des bibliothèques analytiques comme ```statsmodels``` et ```scikit-learn```, et des bibliothèques de visualisation de données comme ```matplotlib```. Pandas adopte des parties importantes du style idiomatique de calcul basé sur des tableaux de NumPy, en particulier les fonctions basées sur des tableaux et une préférence pour le traitement des données sans boucles for.\n",
    "\n",
    "Bien que pandas adopte de nombreux idiomes de codage de NumPy, la plus grande différence est que pandas est conçu pour travailler avec des données tabulaires ou hétérogènes. NumPy, en revanche, est mieux adapté pour travailler avec des données de tableaux numériques homogènes."
   ]
  },
  {
   "cell_type": "markdown",
   "id": "1372e594-a2ee-4a25-8d28-24395ad6c9cc",
   "metadata": {},
   "source": [
    "## 1. Introduction aux structures de données Pandas\n",
    "Pour démarrer avec Pandas, vous devrez vous familiariser avec ses deux structures de données performantes : ```Series``` et ```DataFrame```. Même s’ils ne constituent pas une solution universelle à tous les problèmes, ils constituent une base solide et facile à utiliser pour la plupart des applications."
   ]
  },
  {
   "cell_type": "markdown",
   "id": "ddae2d87-5ec8-456c-94c2-2d6cb831722a",
   "metadata": {
    "tags": []
   },
   "source": [
    "## 1.1 Series\n",
    "\n",
    "Une série est un objet de type tableau unidimensionnel contenant :\n",
    "\n",
    "Une séquence de valeurs (de types similaires aux types NumPy).\n",
    "Tableau associé d’étiquettes de données, appelé son index.\n",
    "La série la plus simple est formée uniquement d’un tableau de données :"
   ]
  },
  {
   "cell_type": "code",
   "execution_count": 6,
   "id": "49f639b4-e0be-4b83-865e-ea8a7e92cc03",
   "metadata": {
    "tags": []
   },
   "outputs": [
    {
     "data": {
      "text/plain": [
       "0    10\n",
       "1    20\n",
       "2    30\n",
       "3    40\n",
       "dtype: int64"
      ]
     },
     "execution_count": 6,
     "metadata": {},
     "output_type": "execute_result"
    }
   ],
   "source": [
    "import numpy as np\n",
    "import pandas as pd\n",
    "\n",
    "series = pd.Series([10, 20, 30, 40])\n",
    "\n",
    "series"
   ]
  },
  {
   "cell_type": "markdown",
   "id": "3ff9134b-7199-4f42-8b4d-107aaeee5962",
   "metadata": {},
   "source": [
    "La représentation sous forme de chaîne d'une série affichée de manière interactive affiche l'index à gauche et les valeurs à droite.\n",
    "\n",
    "Puisque nous n'avons pas spécifié d'index pour les données, un index par défaut composé des entiers 0 à N - 1 (où N est la longueur des données) est créé. Vous pouvez obtenir la représentation matricielle et l'objet d'index de la série via ses valeurs et ses attributs d'index, respectivement :"
   ]
  },
  {
   "cell_type": "code",
   "execution_count": 7,
   "id": "6866e029-8d32-402b-9f6d-fea8b18d3c3b",
   "metadata": {
    "tags": []
   },
   "outputs": [
    {
     "name": "stdout",
     "output_type": "stream",
     "text": [
      "Series index =  RangeIndex(start=0, stop=4, step=1)\n",
      "==================================================\n",
      "Series values =  [10 20 30 40]\n"
     ]
    }
   ],
   "source": [
    "print(\"Series index = \", series.index)\n",
    "print(\"=\"*50)\n",
    "print(\"Series values = \", series.values)"
   ]
  },
  {
   "cell_type": "code",
   "execution_count": 9,
   "id": "519b2080-76e5-437b-b36e-db2774bf39db",
   "metadata": {
    "tags": []
   },
   "outputs": [
    {
     "name": "stdout",
     "output_type": "stream",
     "text": [
      "Series index =  RangeIndex(start=0, stop=4, step=1)\n"
     ]
    }
   ],
   "source": [
    "print(\"Series index = \", series.index)"
   ]
  },
  {
   "cell_type": "markdown",
   "id": "eabfd562-05d5-41b9-90dd-83c597256695",
   "metadata": {},
   "source": [
    "Lorsque vous imprimez l’index d’une série pandas, il est affiché comme un objet RangeIndex. Dans votre cas, RangeIndex(start=0, stop=4, step=1) signifie que votre index commence à 0, s’arrête avant 4 et augmente par pas de 1. C’est l’équivalent de l’index [0, 1, 2, 3].\n",
    "\n",
    "C’est simplement une autre façon d’afficher l’index qui est plus efficace en termes de mémoire lorsque vous travaillez avec de grands ensembles de données. Si vous voulez voir l’index sous forme de liste, vous pouvez convertir l’index en liste en utilisant ```list(series.index)```."
   ]
  },
  {
   "cell_type": "code",
   "execution_count": 10,
   "id": "a16831f7-ae8b-4d04-819d-999219619516",
   "metadata": {
    "tags": []
   },
   "outputs": [
    {
     "data": {
      "text/plain": [
       "[0, 1, 2, 3]"
      ]
     },
     "execution_count": 10,
     "metadata": {},
     "output_type": "execute_result"
    }
   ],
   "source": [
    "list(series.index)"
   ]
  },
  {
   "cell_type": "markdown",
   "id": "d12fd5ed-9980-492d-b714-20e8a6a150e7",
   "metadata": {},
   "source": [
    "Il sera souvent souhaitable de créer une série avec un index identifiant chaque point de données avec une étiquette."
   ]
  },
  {
   "cell_type": "code",
   "execution_count": 11,
   "id": "20c09fa4-e00d-4ae2-b987-50001ffd37a6",
   "metadata": {
    "tags": []
   },
   "outputs": [
    {
     "data": {
      "text/plain": [
       "A    10\n",
       "B    20\n",
       "C    30\n",
       "D    40\n",
       "dtype: int64"
      ]
     },
     "execution_count": 11,
     "metadata": {},
     "output_type": "execute_result"
    }
   ],
   "source": [
    "series = pd.Series([10, 20, 30, 40], index = [\"A\", \"B\", \"C\", \"D\"])\n",
    "\n",
    "series"
   ]
  },
  {
   "cell_type": "code",
   "execution_count": 12,
   "id": "f215f1bc-9311-4c6f-8850-667f188ce796",
   "metadata": {
    "tags": []
   },
   "outputs": [
    {
     "name": "stdout",
     "output_type": "stream",
     "text": [
      "Series index =  Index(['A', 'B', 'C', 'D'], dtype='object')\n",
      "==================================================\n",
      "Series values =  [10 20 30 40]\n"
     ]
    }
   ],
   "source": [
    "print(\"Series index = \", series.index)\n",
    "print(\"=\"*50)\n",
    "print(\"Series values = \", series.values)"
   ]
  },
  {
   "cell_type": "code",
   "execution_count": 13,
   "id": "c3402a8a-0c41-4226-95ba-29fca1501668",
   "metadata": {
    "tags": []
   },
   "outputs": [
    {
     "name": "stdout",
     "output_type": "stream",
     "text": [
      "10\n",
      "==================================================\n",
      "A    10\n",
      "B    20\n",
      "dtype: int64\n",
      "==================================================\n",
      "A    10\n",
      "B    20\n",
      "dtype: int64\n"
     ]
    }
   ],
   "source": [
    "print(series[0])\n",
    "\n",
    "print(\"=\"*50)\n",
    "\n",
    "print(series[0:2])\n",
    "\n",
    "print(\"=\"*50)\n",
    "\n",
    "print(series[[0,1]])"
   ]
  },
  {
   "cell_type": "code",
   "execution_count": 15,
   "id": "86f17dbf-8283-4f51-8d42-8104a0e0b61e",
   "metadata": {
    "tags": []
   },
   "outputs": [
    {
     "name": "stdout",
     "output_type": "stream",
     "text": [
      "10\n",
      "==================================================\n",
      "A    10\n",
      "B    20\n",
      "dtype: int64\n",
      "==================================================\n",
      "A    10\n",
      "B    20\n",
      "dtype: int64\n"
     ]
    }
   ],
   "source": [
    "print(series['A'])\n",
    "\n",
    "print(\"=\"*50)\n",
    "\n",
    "print(series['A':'B'])\n",
    "\n",
    "print(\"=\"*50)\n",
    "\n",
    "print(series[['A','B']])"
   ]
  },
  {
   "cell_type": "markdown",
   "id": "fa281e88-c363-4609-bc7f-72ff2a622654",
   "metadata": {},
   "source": [
    "Ici, ['A', 'B'] est interprété comme une liste d'indices, même s'il contient des chaînes au lieu d'entiers.\n",
    "\n",
    "L'utilisation de fonctions NumPy ou d'opérations de type NumPy, telles que le filtrage avec un tableau booléen, la multiplication scalaire ou l'application de fonctions mathématiques, préservera le lien index-valeur."
   ]
  },
  {
   "cell_type": "code",
   "execution_count": 16,
   "id": "730b0d10-5256-4638-ac7b-0eb686ff149b",
   "metadata": {
    "tags": []
   },
   "outputs": [
    {
     "name": "stdout",
     "output_type": "stream",
     "text": [
      "A    20\n",
      "B    40\n",
      "C    60\n",
      "D    80\n",
      "dtype: int64\n",
      "==================================================\n",
      "A    False\n",
      "B     True\n",
      "C     True\n",
      "D     True\n",
      "dtype: bool\n",
      "==================================================\n",
      "B    20\n",
      "C    30\n",
      "D    40\n",
      "dtype: int64\n",
      "==================================================\n",
      "40\n"
     ]
    }
   ],
   "source": [
    "print(series * 2)\n",
    "\n",
    "print(\"=\"*50)\n",
    "\n",
    "print(series > 10)\n",
    "\n",
    "print(\"=\"*50)\n",
    "\n",
    "print(series[series > 10])\n",
    "\n",
    "print(\"=\"*50)\n",
    "\n",
    "print(np.max(series))"
   ]
  },
  {
   "cell_type": "markdown",
   "id": "6697d6f5-889d-4591-96f3-c5cfa57c1416",
   "metadata": {},
   "source": [
    "Une autre façon de considérer une série est de la considérer comme un dict ordonné de longueur fixe, car il s'agit d'un mappage de valeurs d'index sur des valeurs de données. Il peut être utilisé dans de nombreux contextes où vous pouvez utiliser un dict."
   ]
  },
  {
   "cell_type": "code",
   "execution_count": 17,
   "id": "8f5661cc-d079-4c4e-80c0-6aa10dc45836",
   "metadata": {
    "tags": []
   },
   "outputs": [
    {
     "data": {
      "text/plain": [
       "A    10\n",
       "B    20\n",
       "C    30\n",
       "D    40\n",
       "dtype: int64"
      ]
     },
     "execution_count": 17,
     "metadata": {},
     "output_type": "execute_result"
    }
   ],
   "source": [
    "series"
   ]
  },
  {
   "cell_type": "code",
   "execution_count": 18,
   "id": "283653cf-1d37-41b1-8109-9ef18422ee17",
   "metadata": {
    "tags": []
   },
   "outputs": [
    {
     "name": "stdout",
     "output_type": "stream",
     "text": [
      "True\n",
      "False\n"
     ]
    }
   ],
   "source": [
    "print(\"A\" in series)\n",
    "print(\"x\" in series)"
   ]
  },
  {
   "cell_type": "code",
   "execution_count": 19,
   "id": "a9b52a49-6dfc-46d8-ad3a-47f2996febe7",
   "metadata": {
    "tags": []
   },
   "outputs": [
    {
     "name": "stdout",
     "output_type": "stream",
     "text": [
      "False\n",
      "False\n"
     ]
    }
   ],
   "source": [
    "print(10 in series)\n",
    "print(5 in series)"
   ]
  },
  {
   "cell_type": "code",
   "execution_count": 20,
   "id": "55e38498-1a36-4bb9-906e-bc02ba577b17",
   "metadata": {
    "tags": []
   },
   "outputs": [
    {
     "name": "stdout",
     "output_type": "stream",
     "text": [
      "True\n",
      "False\n"
     ]
    }
   ],
   "source": [
    "print(10 in series.values)\n",
    "print(5 in series.values)"
   ]
  },
  {
   "cell_type": "markdown",
   "id": "12d1a155-ef31-4dad-bb14-7eb6b598d4a1",
   "metadata": {},
   "source": [
    "Si vous avez des données contenues dans un ```dict``` Python, vous pouvez créer une série à partir de celui-ci en passant le ```dict```."
   ]
  },
  {
   "cell_type": "code",
   "execution_count": 21,
   "id": "45d14ffe-29a0-4a62-804b-68ebcca3af8a",
   "metadata": {
    "tags": []
   },
   "outputs": [
    {
     "data": {
      "text/plain": [
       "A     Excellent\n",
       "B     Très bien\n",
       "C          Bien\n",
       "D    Acceptable\n",
       "F       Mauvais\n",
       "dtype: object"
      ]
     },
     "execution_count": 21,
     "metadata": {},
     "output_type": "execute_result"
    }
   ],
   "source": [
    "grade_scale = {\n",
    "    'A': 'Excellent',\n",
    "    'B': 'Très bien',\n",
    "    'C': 'Bien',\n",
    "    'D': 'Acceptable',\n",
    "    'F': 'Mauvais'\n",
    "}\n",
    "\n",
    "series = pd.Series(grade_scale)\n",
    "\n",
    "series"
   ]
  },
  {
   "cell_type": "code",
   "execution_count": 22,
   "id": "015da6d8-1bec-47df-97f5-5b77ff4a8fec",
   "metadata": {
    "tags": []
   },
   "outputs": [
    {
     "data": {
      "text/plain": [
       "'Très bien'"
      ]
     },
     "execution_count": 22,
     "metadata": {},
     "output_type": "execute_result"
    }
   ],
   "source": [
    "series['B']"
   ]
  },
  {
   "cell_type": "markdown",
   "id": "524dc1a6-d9fd-4e8f-bd19-093c8f728b1e",
   "metadata": {},
   "source": [
    "Lorsque vous transmettez uniquement un ```dict```, l'index de la série résultante aura les clés du ```dict``` dans l'ordre trié. Vous pouvez remplacer cela en passant les clés de ```dict``` dans l'ordre dans lequel vous souhaitez qu'elles apparaissent dans la série résultante."
   ]
  },
  {
   "cell_type": "code",
   "execution_count": 23,
   "id": "132c6ede-9326-408b-8b2a-cdda1e0be943",
   "metadata": {
    "tags": []
   },
   "outputs": [
    {
     "data": {
      "text/plain": [
       "D    Acceptable\n",
       "C          Bien\n",
       "B     Très bien\n",
       "A     Excellent\n",
       "X           NaN\n",
       "Z           NaN\n",
       "dtype: object"
      ]
     },
     "execution_count": 23,
     "metadata": {},
     "output_type": "execute_result"
    }
   ],
   "source": [
    "series = pd.Series(grade_scale, index=['D', 'C', 'B', 'A', 'X', 'Z'])\n",
    "\n",
    "series"
   ]
  },
  {
   "cell_type": "markdown",
   "id": "e5e19d1f-51dc-4d81-a79b-485230b45765",
   "metadata": {},
   "source": [
    "Puisqu'aucune valeur pour X ou Z n'a été trouvée, elle apparaît comme NaN (pas un nombre), qui est considéré dans les pandas pour marquer les valeurs manquantes ou NA. Puisque F n’était pas inclus dans la série indecis, il est exclu de l’objet résultant.\n",
    "\n",
    "Les fonctions ```isnull``` et ```notnull``` dans pandas doivent être utilisées pour détecter les données manquantes"
   ]
  },
  {
   "cell_type": "code",
   "execution_count": 24,
   "id": "79073aed-0e85-4b9e-8fa6-a126606f6426",
   "metadata": {
    "tags": []
   },
   "outputs": [
    {
     "data": {
      "text/plain": [
       "D    False\n",
       "C    False\n",
       "B    False\n",
       "A    False\n",
       "X     True\n",
       "Z     True\n",
       "dtype: bool"
      ]
     },
     "execution_count": 24,
     "metadata": {},
     "output_type": "execute_result"
    }
   ],
   "source": [
    "pd.isnull(series)"
   ]
  },
  {
   "cell_type": "code",
   "execution_count": 25,
   "id": "244d8c7d-2900-4edd-862a-d40f15a7a368",
   "metadata": {
    "tags": []
   },
   "outputs": [
    {
     "data": {
      "text/plain": [
       "D     True\n",
       "C     True\n",
       "B     True\n",
       "A     True\n",
       "X    False\n",
       "Z    False\n",
       "dtype: bool"
      ]
     },
     "execution_count": 25,
     "metadata": {},
     "output_type": "execute_result"
    }
   ],
   "source": [
    "pd.notnull(series)"
   ]
  },
  {
   "cell_type": "markdown",
   "id": "9d65b3b9-13fe-4b08-bc8f-2e5f89693a38",
   "metadata": {},
   "source": [
    "```Series``` les propose également comme méthodes d'instance."
   ]
  },
  {
   "cell_type": "code",
   "execution_count": 26,
   "id": "a80b8624-b12d-4ce1-9201-34e51d6c1c0b",
   "metadata": {
    "tags": []
   },
   "outputs": [
    {
     "data": {
      "text/plain": [
       "D    False\n",
       "C    False\n",
       "B    False\n",
       "A    False\n",
       "X     True\n",
       "Z     True\n",
       "dtype: bool"
      ]
     },
     "execution_count": 26,
     "metadata": {},
     "output_type": "execute_result"
    }
   ],
   "source": [
    "series.isnull()"
   ]
  },
  {
   "cell_type": "code",
   "execution_count": 27,
   "id": "455f629b-9373-4092-a00e-362b3f9c80f9",
   "metadata": {
    "tags": []
   },
   "outputs": [
    {
     "data": {
      "text/plain": [
       "D     True\n",
       "C     True\n",
       "B     True\n",
       "A     True\n",
       "X    False\n",
       "Z    False\n",
       "dtype: bool"
      ]
     },
     "execution_count": 27,
     "metadata": {},
     "output_type": "execute_result"
    }
   ],
   "source": [
    "series.notnull()"
   ]
  },
  {
   "cell_type": "markdown",
   "id": "915c92f6-9a62-47da-8c6c-913c00e5a733",
   "metadata": {},
   "source": [
    "Une fonctionnalité utile de Series pour de nombreuses applications est qu'elle s'aligne automatiquement par étiquette d'index dans les opérations arithmétiques."
   ]
  },
  {
   "cell_type": "code",
   "execution_count": 28,
   "id": "1788e77d-5ed2-4dcb-8f72-eb92dd97f857",
   "metadata": {
    "tags": []
   },
   "outputs": [
    {
     "name": "stdout",
     "output_type": "stream",
     "text": [
      "Pizza     100\n",
      "Poulet    150\n",
      "dtype: int64\n",
      "==================================================\n",
      "Pizza      120\n",
      "Poisson    200\n",
      "dtype: int64\n"
     ]
    }
   ],
   "source": [
    "restaurant_1 = pd.Series([100, 150], index=['Pizza', 'Poulet'])\n",
    "restaurant_2 = pd.Series([120, 200], index=['Pizza', 'Poisson'])\n",
    "\n",
    "print(restaurant_1)\n",
    "print(\"=\"*50)\n",
    "print(restaurant_2)"
   ]
  },
  {
   "cell_type": "code",
   "execution_count": 29,
   "id": "e659379e-f493-469a-8f89-5493f9d6827e",
   "metadata": {
    "tags": []
   },
   "outputs": [
    {
     "data": {
      "text/plain": [
       "Pizza      220.0\n",
       "Poisson      NaN\n",
       "Poulet       NaN\n",
       "dtype: float64"
      ]
     },
     "execution_count": 29,
     "metadata": {},
     "output_type": "execute_result"
    }
   ],
   "source": [
    "restaurant_1 + restaurant_2"
   ]
  },
  {
   "cell_type": "markdown",
   "id": "66e40767-c542-45bf-909b-f44c4ceff77f",
   "metadata": {},
   "source": [
    "Les fonctionnalités d’alignement des données seront abordées plus en détail ultérieurement. Si vous avez de l'expérience avec les bases de données, vous pouvez considérer cela comme une opération de jointure. L'objet Series lui-même et son index ont tous deux un attribut name, qui s'intègre à d'autres domaines clés des fonctionnalités pandas."
   ]
  },
  {
   "cell_type": "code",
   "execution_count": 30,
   "id": "0a73eeeb-da04-4068-ba56-3abed6f91af3",
   "metadata": {
    "tags": []
   },
   "outputs": [
    {
     "data": {
      "text/plain": [
       "D    Acceptable\n",
       "C          Bien\n",
       "B     Très bien\n",
       "A     Excellent\n",
       "X           NaN\n",
       "Z           NaN\n",
       "dtype: object"
      ]
     },
     "execution_count": 30,
     "metadata": {},
     "output_type": "execute_result"
    }
   ],
   "source": [
    "series"
   ]
  },
  {
   "cell_type": "code",
   "execution_count": 31,
   "id": "f56dfba5-3d62-4e54-a207-081507516b52",
   "metadata": {
    "tags": []
   },
   "outputs": [
    {
     "data": {
      "text/plain": [
       "Echelle\n",
       "D    Acceptable\n",
       "C          Bien\n",
       "B     Très bien\n",
       "A     Excellent\n",
       "X           NaN\n",
       "Z           NaN\n",
       "Name: Échelle de notes, dtype: object"
      ]
     },
     "execution_count": 31,
     "metadata": {},
     "output_type": "execute_result"
    }
   ],
   "source": [
    "series.name = 'Échelle de notes'\n",
    "series.index.name = 'Echelle'\n",
    "\n",
    "series"
   ]
  },
  {
   "cell_type": "markdown",
   "id": "d0ea0123-5f1d-44e2-a4ee-b9f916a7b5bf",
   "metadata": {},
   "source": [
    "L’index d’une série peut être modifié sur place par affectation."
   ]
  },
  {
   "cell_type": "code",
   "execution_count": 32,
   "id": "45059580-742a-42fb-9dfc-d4bc47d5ab84",
   "metadata": {
    "tags": []
   },
   "outputs": [
    {
     "data": {
      "text/plain": [
       "Pizza     100\n",
       "Poulet    150\n",
       "dtype: int64"
      ]
     },
     "execution_count": 32,
     "metadata": {},
     "output_type": "execute_result"
    }
   ],
   "source": [
    "restaurant_1"
   ]
  },
  {
   "cell_type": "code",
   "execution_count": 33,
   "id": "44574b4e-188c-49fb-9bff-c2fca1573d8c",
   "metadata": {
    "tags": []
   },
   "outputs": [
    {
     "data": {
      "text/plain": [
       "Meat    100\n",
       "Fish    150\n",
       "dtype: int64"
      ]
     },
     "execution_count": 33,
     "metadata": {},
     "output_type": "execute_result"
    }
   ],
   "source": [
    "restaurant_1.index = ['Meat', 'Fish']\n",
    "\n",
    "restaurant_1"
   ]
  },
  {
   "cell_type": "markdown",
   "id": "b8c671d7-12a2-46f2-b279-7da97a5d743f",
   "metadata": {},
   "source": [
    "## 1.2 DataFrame\n",
    "\n",
    "Un DataFrame représente un tableau rectangulaire de données et contient une collection ordonnée de colonnes,\n",
    "Chacun d'entre eux peut être un type de valeur différent (numérique, chaîne, booléen, etc.).\n",
    "\n",
    "Le DataFrame a à la fois un index de ligne et un index de colonne ; cela peut être considéré comme un dictée de séries partageant toutes le même index. Sous le capot, les données sont stockées sous forme d'un ou plusieurs blocs bidimensionnels plutôt que sous forme de liste, de dictionnaire ou d'une autre collection de tableaux unidimensionnels.\n",
    "\n",
    "Il existe de nombreuses façons de construire un DataFrame, même si l'une des plus courantes consiste à utiliser un dict de listes de longueur égale ou de tableaux NumPy :"
   ]
  },
  {
   "cell_type": "code",
   "execution_count": 36,
   "id": "f861b2a6-3746-495d-a6cc-2f855f784e60",
   "metadata": {
    "tags": []
   },
   "outputs": [
    {
     "data": {
      "text/html": [
       "<div>\n",
       "<style scoped>\n",
       "    .dataframe tbody tr th:only-of-type {\n",
       "        vertical-align: middle;\n",
       "    }\n",
       "\n",
       "    .dataframe tbody tr th {\n",
       "        vertical-align: top;\n",
       "    }\n",
       "\n",
       "    .dataframe thead th {\n",
       "        text-align: right;\n",
       "    }\n",
       "</style>\n",
       "<table border=\"1\" class=\"dataframe\">\n",
       "  <thead>\n",
       "    <tr style=\"text-align: right;\">\n",
       "      <th></th>\n",
       "      <th>Ville</th>\n",
       "      <th>Année</th>\n",
       "      <th>Population</th>\n",
       "    </tr>\n",
       "  </thead>\n",
       "  <tbody>\n",
       "    <tr>\n",
       "      <th>0</th>\n",
       "      <td>Kinshasa</td>\n",
       "      <td>2022</td>\n",
       "      <td>15.6</td>\n",
       "    </tr>\n",
       "    <tr>\n",
       "      <th>1</th>\n",
       "      <td>Mbuji Mayi</td>\n",
       "      <td>2022</td>\n",
       "      <td>2.7</td>\n",
       "    </tr>\n",
       "    <tr>\n",
       "      <th>2</th>\n",
       "      <td>Lubumbashi</td>\n",
       "      <td>2022</td>\n",
       "      <td>2.6</td>\n",
       "    </tr>\n",
       "    <tr>\n",
       "      <th>3</th>\n",
       "      <td>Kananga</td>\n",
       "      <td>2022</td>\n",
       "      <td>1.5</td>\n",
       "    </tr>\n",
       "    <tr>\n",
       "      <th>4</th>\n",
       "      <td>Kisangani</td>\n",
       "      <td>2022</td>\n",
       "      <td>1.3</td>\n",
       "    </tr>\n",
       "    <tr>\n",
       "      <th>5</th>\n",
       "      <td>Goma</td>\n",
       "      <td>2022</td>\n",
       "      <td>1.2</td>\n",
       "    </tr>\n",
       "    <tr>\n",
       "      <th>6</th>\n",
       "      <td>Bukavu</td>\n",
       "      <td>2022</td>\n",
       "      <td>1.1</td>\n",
       "    </tr>\n",
       "  </tbody>\n",
       "</table>\n",
       "</div>"
      ],
      "text/plain": [
       "        Ville  Année  Population\n",
       "0    Kinshasa   2022        15.6\n",
       "1  Mbuji Mayi   2022         2.7\n",
       "2  Lubumbashi   2022         2.6\n",
       "3     Kananga   2022         1.5\n",
       "4   Kisangani   2022         1.3\n",
       "5        Goma   2022         1.2\n",
       "6      Bukavu   2022         1.1"
      ]
     },
     "execution_count": 36,
     "metadata": {},
     "output_type": "execute_result"
    }
   ],
   "source": [
    "data_dict = {\n",
    "    'Ville': ['Kinshasa', 'Mbuji Mayi', 'Lubumbashi', 'Kananga', 'Kisangani', 'Goma', 'Bukavu'],\n",
    "    'Année': [2022, 2022, 2022, 2022, 2022, 2022, 2022],\n",
    "    'Population': [15.6, 2.7, 2.6, 1.5, 1.3, 1.2, 1.1]\n",
    "}\n",
    "\n",
    "datafram = pd.DataFrame(data_dict)\n",
    "\n",
    "datafram"
   ]
  },
  {
   "cell_type": "markdown",
   "id": "5c156fdf-15e4-4029-bd57-641009062984",
   "metadata": {},
   "source": [
    "Comme nous le voyons ci-dessus, le DataFrame résultant verra son index attribué automatiquement comme pour Series, et les colonnes seront placées dans l'ordre trié.\n",
    "\n",
    "Pour les grands DataFrames, la méthode ```head``` sélectionne uniquement les cinq premières lignes."
   ]
  },
  {
   "cell_type": "code",
   "execution_count": 37,
   "id": "92aca566-38fd-4a7a-9926-c5372398be5e",
   "metadata": {
    "tags": []
   },
   "outputs": [
    {
     "data": {
      "text/html": [
       "<div>\n",
       "<style scoped>\n",
       "    .dataframe tbody tr th:only-of-type {\n",
       "        vertical-align: middle;\n",
       "    }\n",
       "\n",
       "    .dataframe tbody tr th {\n",
       "        vertical-align: top;\n",
       "    }\n",
       "\n",
       "    .dataframe thead th {\n",
       "        text-align: right;\n",
       "    }\n",
       "</style>\n",
       "<table border=\"1\" class=\"dataframe\">\n",
       "  <thead>\n",
       "    <tr style=\"text-align: right;\">\n",
       "      <th></th>\n",
       "      <th>Ville</th>\n",
       "      <th>Année</th>\n",
       "      <th>Population</th>\n",
       "    </tr>\n",
       "  </thead>\n",
       "  <tbody>\n",
       "    <tr>\n",
       "      <th>0</th>\n",
       "      <td>Kinshasa</td>\n",
       "      <td>2022</td>\n",
       "      <td>15.6</td>\n",
       "    </tr>\n",
       "    <tr>\n",
       "      <th>1</th>\n",
       "      <td>Mbuji Mayi</td>\n",
       "      <td>2022</td>\n",
       "      <td>2.7</td>\n",
       "    </tr>\n",
       "    <tr>\n",
       "      <th>2</th>\n",
       "      <td>Lubumbashi</td>\n",
       "      <td>2022</td>\n",
       "      <td>2.6</td>\n",
       "    </tr>\n",
       "    <tr>\n",
       "      <th>3</th>\n",
       "      <td>Kananga</td>\n",
       "      <td>2022</td>\n",
       "      <td>1.5</td>\n",
       "    </tr>\n",
       "    <tr>\n",
       "      <th>4</th>\n",
       "      <td>Kisangani</td>\n",
       "      <td>2022</td>\n",
       "      <td>1.3</td>\n",
       "    </tr>\n",
       "  </tbody>\n",
       "</table>\n",
       "</div>"
      ],
      "text/plain": [
       "        Ville  Année  Population\n",
       "0    Kinshasa   2022        15.6\n",
       "1  Mbuji Mayi   2022         2.7\n",
       "2  Lubumbashi   2022         2.6\n",
       "3     Kananga   2022         1.5\n",
       "4   Kisangani   2022         1.3"
      ]
     },
     "execution_count": 37,
     "metadata": {},
     "output_type": "execute_result"
    }
   ],
   "source": [
    "datafram.head()"
   ]
  },
  {
   "cell_type": "markdown",
   "id": "147b5c64-688b-44aa-9083-3f7409be244f",
   "metadata": {},
   "source": [
    "Si vous spécifiez une séquence de colonnes, les colonnes du DataFrame seront disposées dans cet ordre."
   ]
  },
  {
   "cell_type": "code",
   "execution_count": 40,
   "id": "eb68daa9-ec03-4760-a946-54b1356f74f5",
   "metadata": {
    "tags": []
   },
   "outputs": [
    {
     "data": {
      "text/html": [
       "<div>\n",
       "<style scoped>\n",
       "    .dataframe tbody tr th:only-of-type {\n",
       "        vertical-align: middle;\n",
       "    }\n",
       "\n",
       "    .dataframe tbody tr th {\n",
       "        vertical-align: top;\n",
       "    }\n",
       "\n",
       "    .dataframe thead th {\n",
       "        text-align: right;\n",
       "    }\n",
       "</style>\n",
       "<table border=\"1\" class=\"dataframe\">\n",
       "  <thead>\n",
       "    <tr style=\"text-align: right;\">\n",
       "      <th></th>\n",
       "      <th>Ville</th>\n",
       "      <th>Population</th>\n",
       "    </tr>\n",
       "  </thead>\n",
       "  <tbody>\n",
       "    <tr>\n",
       "      <th>0</th>\n",
       "      <td>Kinshasa</td>\n",
       "      <td>15.6</td>\n",
       "    </tr>\n",
       "    <tr>\n",
       "      <th>1</th>\n",
       "      <td>Mbuji Mayi</td>\n",
       "      <td>2.7</td>\n",
       "    </tr>\n",
       "    <tr>\n",
       "      <th>2</th>\n",
       "      <td>Lubumbashi</td>\n",
       "      <td>2.6</td>\n",
       "    </tr>\n",
       "    <tr>\n",
       "      <th>3</th>\n",
       "      <td>Kananga</td>\n",
       "      <td>1.5</td>\n",
       "    </tr>\n",
       "    <tr>\n",
       "      <th>4</th>\n",
       "      <td>Kisangani</td>\n",
       "      <td>1.3</td>\n",
       "    </tr>\n",
       "    <tr>\n",
       "      <th>5</th>\n",
       "      <td>Goma</td>\n",
       "      <td>1.2</td>\n",
       "    </tr>\n",
       "    <tr>\n",
       "      <th>6</th>\n",
       "      <td>Bukavu</td>\n",
       "      <td>1.1</td>\n",
       "    </tr>\n",
       "  </tbody>\n",
       "</table>\n",
       "</div>"
      ],
      "text/plain": [
       "        Ville  Population\n",
       "0    Kinshasa        15.6\n",
       "1  Mbuji Mayi         2.7\n",
       "2  Lubumbashi         2.6\n",
       "3     Kananga         1.5\n",
       "4   Kisangani         1.3\n",
       "5        Goma         1.2\n",
       "6      Bukavu         1.1"
      ]
     },
     "execution_count": 40,
     "metadata": {},
     "output_type": "execute_result"
    }
   ],
   "source": [
    "datafram = pd.DataFrame(data_dict, columns = ['Ville', 'Population'])\n",
    "\n",
    "datafram"
   ]
  },
  {
   "cell_type": "markdown",
   "id": "eba7546e-bfd7-4130-bf2c-75175bde8d42",
   "metadata": {},
   "source": [
    "Si vous transmettez une colonne qui n'est pas contenue dans le dict, elle apparaîtra avec des valeurs manquantes dans le résultat."
   ]
  },
  {
   "cell_type": "code",
   "execution_count": 41,
   "id": "87399d09-9a4f-4b20-a763-ac00a0951775",
   "metadata": {
    "tags": []
   },
   "outputs": [
    {
     "data": {
      "text/html": [
       "<div>\n",
       "<style scoped>\n",
       "    .dataframe tbody tr th:only-of-type {\n",
       "        vertical-align: middle;\n",
       "    }\n",
       "\n",
       "    .dataframe tbody tr th {\n",
       "        vertical-align: top;\n",
       "    }\n",
       "\n",
       "    .dataframe thead th {\n",
       "        text-align: right;\n",
       "    }\n",
       "</style>\n",
       "<table border=\"1\" class=\"dataframe\">\n",
       "  <thead>\n",
       "    <tr style=\"text-align: right;\">\n",
       "      <th></th>\n",
       "      <th>Ville</th>\n",
       "      <th>Population</th>\n",
       "      <th>Pays</th>\n",
       "    </tr>\n",
       "  </thead>\n",
       "  <tbody>\n",
       "    <tr>\n",
       "      <th>0</th>\n",
       "      <td>Kinshasa</td>\n",
       "      <td>15.6</td>\n",
       "      <td>NaN</td>\n",
       "    </tr>\n",
       "    <tr>\n",
       "      <th>1</th>\n",
       "      <td>Mbuji Mayi</td>\n",
       "      <td>2.7</td>\n",
       "      <td>NaN</td>\n",
       "    </tr>\n",
       "    <tr>\n",
       "      <th>2</th>\n",
       "      <td>Lubumbashi</td>\n",
       "      <td>2.6</td>\n",
       "      <td>NaN</td>\n",
       "    </tr>\n",
       "    <tr>\n",
       "      <th>3</th>\n",
       "      <td>Kananga</td>\n",
       "      <td>1.5</td>\n",
       "      <td>NaN</td>\n",
       "    </tr>\n",
       "    <tr>\n",
       "      <th>4</th>\n",
       "      <td>Kisangani</td>\n",
       "      <td>1.3</td>\n",
       "      <td>NaN</td>\n",
       "    </tr>\n",
       "    <tr>\n",
       "      <th>5</th>\n",
       "      <td>Goma</td>\n",
       "      <td>1.2</td>\n",
       "      <td>NaN</td>\n",
       "    </tr>\n",
       "    <tr>\n",
       "      <th>6</th>\n",
       "      <td>Bukavu</td>\n",
       "      <td>1.1</td>\n",
       "      <td>NaN</td>\n",
       "    </tr>\n",
       "  </tbody>\n",
       "</table>\n",
       "</div>"
      ],
      "text/plain": [
       "        Ville  Population Pays\n",
       "0    Kinshasa        15.6  NaN\n",
       "1  Mbuji Mayi         2.7  NaN\n",
       "2  Lubumbashi         2.6  NaN\n",
       "3     Kananga         1.5  NaN\n",
       "4   Kisangani         1.3  NaN\n",
       "5        Goma         1.2  NaN\n",
       "6      Bukavu         1.1  NaN"
      ]
     },
     "execution_count": 41,
     "metadata": {},
     "output_type": "execute_result"
    }
   ],
   "source": [
    "datafram = pd.DataFrame(data_dict, columns = ['Ville', 'Population', 'Pays'])\n",
    "\n",
    "datafram"
   ]
  },
  {
   "cell_type": "markdown",
   "id": "8a5eed91-4ddf-40ad-9545-4b7797a6b9cc",
   "metadata": {},
   "source": [
    "Vous pouvez modifier l'index des lignes lors de la création du dataframe."
   ]
  },
  {
   "cell_type": "code",
   "execution_count": 45,
   "id": "fb147d17-032b-4949-8de1-5f4f49c8a034",
   "metadata": {
    "tags": []
   },
   "outputs": [
    {
     "data": {
      "text/html": [
       "<div>\n",
       "<style scoped>\n",
       "    .dataframe tbody tr th:only-of-type {\n",
       "        vertical-align: middle;\n",
       "    }\n",
       "\n",
       "    .dataframe tbody tr th {\n",
       "        vertical-align: top;\n",
       "    }\n",
       "\n",
       "    .dataframe thead th {\n",
       "        text-align: right;\n",
       "    }\n",
       "</style>\n",
       "<table border=\"1\" class=\"dataframe\">\n",
       "  <thead>\n",
       "    <tr style=\"text-align: right;\">\n",
       "      <th></th>\n",
       "      <th>Ville</th>\n",
       "      <th>Population</th>\n",
       "    </tr>\n",
       "  </thead>\n",
       "  <tbody>\n",
       "    <tr>\n",
       "      <th>#1</th>\n",
       "      <td>Kinshasa</td>\n",
       "      <td>15.6</td>\n",
       "    </tr>\n",
       "    <tr>\n",
       "      <th>#2</th>\n",
       "      <td>Mbuji Mayi</td>\n",
       "      <td>2.7</td>\n",
       "    </tr>\n",
       "    <tr>\n",
       "      <th>#3</th>\n",
       "      <td>Lubumbashi</td>\n",
       "      <td>2.6</td>\n",
       "    </tr>\n",
       "    <tr>\n",
       "      <th>#4</th>\n",
       "      <td>Kananga</td>\n",
       "      <td>1.5</td>\n",
       "    </tr>\n",
       "    <tr>\n",
       "      <th>#5</th>\n",
       "      <td>Kisangani</td>\n",
       "      <td>1.3</td>\n",
       "    </tr>\n",
       "    <tr>\n",
       "      <th>#6</th>\n",
       "      <td>Goma</td>\n",
       "      <td>1.2</td>\n",
       "    </tr>\n",
       "    <tr>\n",
       "      <th>#7</th>\n",
       "      <td>Bukavu</td>\n",
       "      <td>1.1</td>\n",
       "    </tr>\n",
       "  </tbody>\n",
       "</table>\n",
       "</div>"
      ],
      "text/plain": [
       "         Ville  Population\n",
       "#1    Kinshasa        15.6\n",
       "#2  Mbuji Mayi         2.7\n",
       "#3  Lubumbashi         2.6\n",
       "#4     Kananga         1.5\n",
       "#5   Kisangani         1.3\n",
       "#6        Goma         1.2\n",
       "#7      Bukavu         1.1"
      ]
     },
     "execution_count": 45,
     "metadata": {},
     "output_type": "execute_result"
    }
   ],
   "source": [
    "datafram = pd.DataFrame(data_dict, columns = ['Ville', 'Population'], index = ['#'+str(i) for i in range(1,8)])\n",
    "\n",
    "datafram"
   ]
  },
  {
   "cell_type": "markdown",
   "id": "1fdaa630-d229-461e-8bff-c8ff7c3b98e3",
   "metadata": {},
   "source": [
    "Une colonne dans un DataFrame peut être récupérée sous forme de série soit par une notation de type dict, soit par attribut."
   ]
  },
  {
   "cell_type": "code",
   "execution_count": 46,
   "id": "65061fcc-5cc7-4ecd-a264-bf8ee77e6cf0",
   "metadata": {
    "tags": []
   },
   "outputs": [
    {
     "data": {
      "text/plain": [
       "#1      Kinshasa\n",
       "#2    Mbuji Mayi\n",
       "#3    Lubumbashi\n",
       "#4       Kananga\n",
       "#5     Kisangani\n",
       "#6          Goma\n",
       "#7        Bukavu\n",
       "Name: Ville, dtype: object"
      ]
     },
     "execution_count": 46,
     "metadata": {},
     "output_type": "execute_result"
    }
   ],
   "source": [
    "datafram.Ville"
   ]
  },
  {
   "cell_type": "code",
   "execution_count": 47,
   "id": "7a4bde5f-0f6d-4032-866c-466cefff17fb",
   "metadata": {
    "tags": []
   },
   "outputs": [
    {
     "data": {
      "text/plain": [
       "#1      Kinshasa\n",
       "#2    Mbuji Mayi\n",
       "#3    Lubumbashi\n",
       "#4       Kananga\n",
       "#5     Kisangani\n",
       "#6          Goma\n",
       "#7        Bukavu\n",
       "Name: Ville, dtype: object"
      ]
     },
     "execution_count": 47,
     "metadata": {},
     "output_type": "execute_result"
    }
   ],
   "source": [
    "datafram['Ville']"
   ]
  },
  {
   "cell_type": "markdown",
   "id": "4d514872-9497-46dd-89fe-6a087e924e91",
   "metadata": {},
   "source": [
    "#### Note\n",
    "\n",
    "L'accès de type attribut (par exemple, datafram.state) et la complétion par tabulation des noms de colonnes dans IPython sont fournis à titre pratique.\n",
    "\n",
    "L'accès de type dict (par exemple, ```datafram[column]```) fonctionne pour n'importe quel nom de colonne, MAIS ```datafram.column``` ne fonctionne que lorsque le nom de colonne est un nom de variable Python valide.\n",
    "\n",
    "Notez que les séries renvoyées ont le même index que le DataFrame et que leur attribut de nom a été défini de manière appropriée."
   ]
  },
  {
   "cell_type": "code",
   "execution_count": 48,
   "id": "0ca7d179-204f-484d-8392-9e0a630fb65c",
   "metadata": {
    "tags": []
   },
   "outputs": [
    {
     "data": {
      "text/plain": [
       "pandas.core.series.Series"
      ]
     },
     "execution_count": 48,
     "metadata": {},
     "output_type": "execute_result"
    }
   ],
   "source": [
    "type(datafram['Ville'])"
   ]
  },
  {
   "cell_type": "code",
   "execution_count": 49,
   "id": "bd3d830b-44c1-4aaf-a68f-e8e511099bde",
   "metadata": {
    "tags": []
   },
   "outputs": [
    {
     "data": {
      "text/plain": [
       "Index(['#1', '#2', '#3', '#4', '#5', '#6', '#7'], dtype='object')"
      ]
     },
     "execution_count": 49,
     "metadata": {},
     "output_type": "execute_result"
    }
   ],
   "source": [
    "datafram['Ville'].index"
   ]
  },
  {
   "cell_type": "code",
   "execution_count": 50,
   "id": "a181c2f3-e569-416d-8412-a6767a1dc1a1",
   "metadata": {
    "tags": []
   },
   "outputs": [
    {
     "data": {
      "text/plain": [
       "'Ville'"
      ]
     },
     "execution_count": 50,
     "metadata": {},
     "output_type": "execute_result"
    }
   ],
   "source": [
    "datafram['Ville'].name"
   ]
  },
  {
   "cell_type": "markdown",
   "id": "7d17fe43-5a08-489f-afbd-656b0747cb75",
   "metadata": {},
   "source": [
    "Les lignes peuvent également être récupérées par position ou par nom avec l'attribut spécial ```loc```"
   ]
  },
  {
   "cell_type": "code",
   "execution_count": 51,
   "id": "de61c086-72bb-4e8e-8332-aa16595befb9",
   "metadata": {
    "tags": []
   },
   "outputs": [
    {
     "data": {
      "text/html": [
       "<div>\n",
       "<style scoped>\n",
       "    .dataframe tbody tr th:only-of-type {\n",
       "        vertical-align: middle;\n",
       "    }\n",
       "\n",
       "    .dataframe tbody tr th {\n",
       "        vertical-align: top;\n",
       "    }\n",
       "\n",
       "    .dataframe thead th {\n",
       "        text-align: right;\n",
       "    }\n",
       "</style>\n",
       "<table border=\"1\" class=\"dataframe\">\n",
       "  <thead>\n",
       "    <tr style=\"text-align: right;\">\n",
       "      <th></th>\n",
       "      <th>Ville</th>\n",
       "      <th>Population</th>\n",
       "    </tr>\n",
       "  </thead>\n",
       "  <tbody>\n",
       "    <tr>\n",
       "      <th>#1</th>\n",
       "      <td>Kinshasa</td>\n",
       "      <td>15.6</td>\n",
       "    </tr>\n",
       "    <tr>\n",
       "      <th>#2</th>\n",
       "      <td>Mbuji Mayi</td>\n",
       "      <td>2.7</td>\n",
       "    </tr>\n",
       "    <tr>\n",
       "      <th>#3</th>\n",
       "      <td>Lubumbashi</td>\n",
       "      <td>2.6</td>\n",
       "    </tr>\n",
       "    <tr>\n",
       "      <th>#4</th>\n",
       "      <td>Kananga</td>\n",
       "      <td>1.5</td>\n",
       "    </tr>\n",
       "    <tr>\n",
       "      <th>#5</th>\n",
       "      <td>Kisangani</td>\n",
       "      <td>1.3</td>\n",
       "    </tr>\n",
       "    <tr>\n",
       "      <th>#6</th>\n",
       "      <td>Goma</td>\n",
       "      <td>1.2</td>\n",
       "    </tr>\n",
       "    <tr>\n",
       "      <th>#7</th>\n",
       "      <td>Bukavu</td>\n",
       "      <td>1.1</td>\n",
       "    </tr>\n",
       "  </tbody>\n",
       "</table>\n",
       "</div>"
      ],
      "text/plain": [
       "         Ville  Population\n",
       "#1    Kinshasa        15.6\n",
       "#2  Mbuji Mayi         2.7\n",
       "#3  Lubumbashi         2.6\n",
       "#4     Kananga         1.5\n",
       "#5   Kisangani         1.3\n",
       "#6        Goma         1.2\n",
       "#7      Bukavu         1.1"
      ]
     },
     "execution_count": 51,
     "metadata": {},
     "output_type": "execute_result"
    }
   ],
   "source": [
    "datafram"
   ]
  },
  {
   "cell_type": "code",
   "execution_count": 52,
   "id": "558c8716-ed70-46b7-bf82-b5259cac4c12",
   "metadata": {
    "tags": []
   },
   "outputs": [
    {
     "data": {
      "text/plain": [
       "Ville         Bukavu\n",
       "Population       1.1\n",
       "Name: #7, dtype: object"
      ]
     },
     "execution_count": 52,
     "metadata": {},
     "output_type": "execute_result"
    }
   ],
   "source": [
    "datafram.loc['#7']"
   ]
  },
  {
   "cell_type": "code",
   "execution_count": 53,
   "id": "1718a7b8-c70f-488a-9009-0d50a04b7b37",
   "metadata": {
    "tags": []
   },
   "outputs": [
    {
     "data": {
      "text/plain": [
       "pandas.core.series.Series"
      ]
     },
     "execution_count": 53,
     "metadata": {},
     "output_type": "execute_result"
    }
   ],
   "source": [
    "type(datafram.loc['#7'])"
   ]
  },
  {
   "cell_type": "markdown",
   "id": "b8bb47b3-b945-4da1-9d22-89e3bb86a890",
   "metadata": {},
   "source": [
    "Les colonnes peuvent être modifiées par affectation.\n",
    "\n",
    "Par exemple, la colonne « test » vide pourrait se voir attribuer une valeur scalaire ou un tableau de valeurs."
   ]
  },
  {
   "cell_type": "code",
   "execution_count": 55,
   "id": "e07d643c-d428-4087-942d-6cbfbc45a8b4",
   "metadata": {
    "tags": []
   },
   "outputs": [
    {
     "data": {
      "text/html": [
       "<div>\n",
       "<style scoped>\n",
       "    .dataframe tbody tr th:only-of-type {\n",
       "        vertical-align: middle;\n",
       "    }\n",
       "\n",
       "    .dataframe tbody tr th {\n",
       "        vertical-align: top;\n",
       "    }\n",
       "\n",
       "    .dataframe thead th {\n",
       "        text-align: right;\n",
       "    }\n",
       "</style>\n",
       "<table border=\"1\" class=\"dataframe\">\n",
       "  <thead>\n",
       "    <tr style=\"text-align: right;\">\n",
       "      <th></th>\n",
       "      <th>Population</th>\n",
       "      <th>Année</th>\n",
       "      <th>Ville</th>\n",
       "      <th>test</th>\n",
       "    </tr>\n",
       "  </thead>\n",
       "  <tbody>\n",
       "    <tr>\n",
       "      <th>0</th>\n",
       "      <td>15.6</td>\n",
       "      <td>2022</td>\n",
       "      <td>Kinshasa</td>\n",
       "      <td>NaN</td>\n",
       "    </tr>\n",
       "    <tr>\n",
       "      <th>1</th>\n",
       "      <td>2.7</td>\n",
       "      <td>2022</td>\n",
       "      <td>Mbuji Mayi</td>\n",
       "      <td>NaN</td>\n",
       "    </tr>\n",
       "    <tr>\n",
       "      <th>2</th>\n",
       "      <td>2.6</td>\n",
       "      <td>2022</td>\n",
       "      <td>Lubumbashi</td>\n",
       "      <td>NaN</td>\n",
       "    </tr>\n",
       "    <tr>\n",
       "      <th>3</th>\n",
       "      <td>1.5</td>\n",
       "      <td>2022</td>\n",
       "      <td>Kananga</td>\n",
       "      <td>NaN</td>\n",
       "    </tr>\n",
       "    <tr>\n",
       "      <th>4</th>\n",
       "      <td>1.3</td>\n",
       "      <td>2022</td>\n",
       "      <td>Kisangani</td>\n",
       "      <td>NaN</td>\n",
       "    </tr>\n",
       "    <tr>\n",
       "      <th>5</th>\n",
       "      <td>1.2</td>\n",
       "      <td>2022</td>\n",
       "      <td>Goma</td>\n",
       "      <td>NaN</td>\n",
       "    </tr>\n",
       "    <tr>\n",
       "      <th>6</th>\n",
       "      <td>1.1</td>\n",
       "      <td>2022</td>\n",
       "      <td>Bukavu</td>\n",
       "      <td>NaN</td>\n",
       "    </tr>\n",
       "  </tbody>\n",
       "</table>\n",
       "</div>"
      ],
      "text/plain": [
       "   Population  Année       Ville test\n",
       "0        15.6   2022    Kinshasa  NaN\n",
       "1         2.7   2022  Mbuji Mayi  NaN\n",
       "2         2.6   2022  Lubumbashi  NaN\n",
       "3         1.5   2022     Kananga  NaN\n",
       "4         1.3   2022   Kisangani  NaN\n",
       "5         1.2   2022        Goma  NaN\n",
       "6         1.1   2022      Bukavu  NaN"
      ]
     },
     "execution_count": 55,
     "metadata": {},
     "output_type": "execute_result"
    }
   ],
   "source": [
    "datafram = pd.DataFrame(data_dict, columns=['Population', 'Année', 'Ville', 'test'])\n",
    "\n",
    "datafram"
   ]
  },
  {
   "cell_type": "code",
   "execution_count": 56,
   "id": "6ac7f58f-79fb-40a2-b5d7-026a90943d11",
   "metadata": {
    "tags": []
   },
   "outputs": [
    {
     "data": {
      "text/html": [
       "<div>\n",
       "<style scoped>\n",
       "    .dataframe tbody tr th:only-of-type {\n",
       "        vertical-align: middle;\n",
       "    }\n",
       "\n",
       "    .dataframe tbody tr th {\n",
       "        vertical-align: top;\n",
       "    }\n",
       "\n",
       "    .dataframe thead th {\n",
       "        text-align: right;\n",
       "    }\n",
       "</style>\n",
       "<table border=\"1\" class=\"dataframe\">\n",
       "  <thead>\n",
       "    <tr style=\"text-align: right;\">\n",
       "      <th></th>\n",
       "      <th>Population</th>\n",
       "      <th>Année</th>\n",
       "      <th>Ville</th>\n",
       "      <th>test</th>\n",
       "    </tr>\n",
       "  </thead>\n",
       "  <tbody>\n",
       "    <tr>\n",
       "      <th>0</th>\n",
       "      <td>15.6</td>\n",
       "      <td>2022</td>\n",
       "      <td>Kinshasa</td>\n",
       "      <td>156.0</td>\n",
       "    </tr>\n",
       "    <tr>\n",
       "      <th>1</th>\n",
       "      <td>2.7</td>\n",
       "      <td>2022</td>\n",
       "      <td>Mbuji Mayi</td>\n",
       "      <td>27.0</td>\n",
       "    </tr>\n",
       "    <tr>\n",
       "      <th>2</th>\n",
       "      <td>2.6</td>\n",
       "      <td>2022</td>\n",
       "      <td>Lubumbashi</td>\n",
       "      <td>26.0</td>\n",
       "    </tr>\n",
       "    <tr>\n",
       "      <th>3</th>\n",
       "      <td>1.5</td>\n",
       "      <td>2022</td>\n",
       "      <td>Kananga</td>\n",
       "      <td>15.0</td>\n",
       "    </tr>\n",
       "    <tr>\n",
       "      <th>4</th>\n",
       "      <td>1.3</td>\n",
       "      <td>2022</td>\n",
       "      <td>Kisangani</td>\n",
       "      <td>13.0</td>\n",
       "    </tr>\n",
       "    <tr>\n",
       "      <th>5</th>\n",
       "      <td>1.2</td>\n",
       "      <td>2022</td>\n",
       "      <td>Goma</td>\n",
       "      <td>12.0</td>\n",
       "    </tr>\n",
       "    <tr>\n",
       "      <th>6</th>\n",
       "      <td>1.1</td>\n",
       "      <td>2022</td>\n",
       "      <td>Bukavu</td>\n",
       "      <td>11.0</td>\n",
       "    </tr>\n",
       "  </tbody>\n",
       "</table>\n",
       "</div>"
      ],
      "text/plain": [
       "   Population  Année       Ville   test\n",
       "0        15.6   2022    Kinshasa  156.0\n",
       "1         2.7   2022  Mbuji Mayi   27.0\n",
       "2         2.6   2022  Lubumbashi   26.0\n",
       "3         1.5   2022     Kananga   15.0\n",
       "4         1.3   2022   Kisangani   13.0\n",
       "5         1.2   2022        Goma   12.0\n",
       "6         1.1   2022      Bukavu   11.0"
      ]
     },
     "execution_count": 56,
     "metadata": {},
     "output_type": "execute_result"
    }
   ],
   "source": [
    "datafram.test = datafram['Population'] * 10\n",
    "\n",
    "datafram"
   ]
  },
  {
   "cell_type": "markdown",
   "id": "9af33bbd-8feb-440e-9d10-6425ef6fc0b9",
   "metadata": {},
   "source": [
    "Lorsque vous attribuez des listes ou des tableaux à une colonne, la longueur de la valeur doit correspondre à la longueur du DataFrame.\n",
    "\n",
    "Si vous attribuez une série, ses étiquettes seront réalignées exactement sur l'index du DataFrame, en insérant les valeurs manquantes dans tous les trous."
   ]
  },
  {
   "cell_type": "code",
   "execution_count": 57,
   "id": "2074c9aa-70fa-4100-94c6-15545d1cdb48",
   "metadata": {
    "tags": []
   },
   "outputs": [
    {
     "data": {
      "text/html": [
       "<div>\n",
       "<style scoped>\n",
       "    .dataframe tbody tr th:only-of-type {\n",
       "        vertical-align: middle;\n",
       "    }\n",
       "\n",
       "    .dataframe tbody tr th {\n",
       "        vertical-align: top;\n",
       "    }\n",
       "\n",
       "    .dataframe thead th {\n",
       "        text-align: right;\n",
       "    }\n",
       "</style>\n",
       "<table border=\"1\" class=\"dataframe\">\n",
       "  <thead>\n",
       "    <tr style=\"text-align: right;\">\n",
       "      <th></th>\n",
       "      <th>Population</th>\n",
       "      <th>Année</th>\n",
       "      <th>Ville</th>\n",
       "      <th>test</th>\n",
       "    </tr>\n",
       "  </thead>\n",
       "  <tbody>\n",
       "    <tr>\n",
       "      <th>0</th>\n",
       "      <td>15.6</td>\n",
       "      <td>2022</td>\n",
       "      <td>Kinshasa</td>\n",
       "      <td>00</td>\n",
       "    </tr>\n",
       "    <tr>\n",
       "      <th>1</th>\n",
       "      <td>2.7</td>\n",
       "      <td>2022</td>\n",
       "      <td>Mbuji Mayi</td>\n",
       "      <td>11</td>\n",
       "    </tr>\n",
       "    <tr>\n",
       "      <th>2</th>\n",
       "      <td>2.6</td>\n",
       "      <td>2022</td>\n",
       "      <td>Lubumbashi</td>\n",
       "      <td>NaN</td>\n",
       "    </tr>\n",
       "    <tr>\n",
       "      <th>3</th>\n",
       "      <td>1.5</td>\n",
       "      <td>2022</td>\n",
       "      <td>Kananga</td>\n",
       "      <td>NaN</td>\n",
       "    </tr>\n",
       "    <tr>\n",
       "      <th>4</th>\n",
       "      <td>1.3</td>\n",
       "      <td>2022</td>\n",
       "      <td>Kisangani</td>\n",
       "      <td>44</td>\n",
       "    </tr>\n",
       "    <tr>\n",
       "      <th>5</th>\n",
       "      <td>1.2</td>\n",
       "      <td>2022</td>\n",
       "      <td>Goma</td>\n",
       "      <td>55</td>\n",
       "    </tr>\n",
       "    <tr>\n",
       "      <th>6</th>\n",
       "      <td>1.1</td>\n",
       "      <td>2022</td>\n",
       "      <td>Bukavu</td>\n",
       "      <td>66</td>\n",
       "    </tr>\n",
       "  </tbody>\n",
       "</table>\n",
       "</div>"
      ],
      "text/plain": [
       "   Population  Année       Ville test\n",
       "0        15.6   2022    Kinshasa   00\n",
       "1         2.7   2022  Mbuji Mayi   11\n",
       "2         2.6   2022  Lubumbashi  NaN\n",
       "3         1.5   2022     Kananga  NaN\n",
       "4         1.3   2022   Kisangani   44\n",
       "5         1.2   2022        Goma   55\n",
       "6         1.1   2022      Bukavu   66"
      ]
     },
     "execution_count": 57,
     "metadata": {},
     "output_type": "execute_result"
    }
   ],
   "source": [
    "datafram.test = pd.Series(['00', '11', '22', '33', '44', '55', '66'], index=[0, 1, 22, 33, 4, 5, 6])\n",
    "\n",
    "datafram"
   ]
  },
  {
   "cell_type": "markdown",
   "id": "5aba3800-f0d6-4edb-a3a4-a6f5925af7a5",
   "metadata": {},
   "source": [
    "L'attribution d'une colonne qui n'existe pas créera une nouvelle colonne. Le mot-clé ```del``` supprimera les colonnes comme avec un ```dict```."
   ]
  },
  {
   "cell_type": "code",
   "execution_count": null,
   "id": "1c1a2830-cbf8-46d8-b16b-cfc8904f9441",
   "metadata": {},
   "outputs": [],
   "source": []
  }
 ],
 "metadata": {
  "kernelspec": {
   "display_name": "Python 3 (ipykernel)",
   "language": "python",
   "name": "python3"
  },
  "language_info": {
   "codemirror_mode": {
    "name": "ipython",
    "version": 3
   },
   "file_extension": ".py",
   "mimetype": "text/x-python",
   "name": "python",
   "nbconvert_exporter": "python",
   "pygments_lexer": "ipython3",
   "version": "3.11.4"
  }
 },
 "nbformat": 4,
 "nbformat_minor": 5
}
